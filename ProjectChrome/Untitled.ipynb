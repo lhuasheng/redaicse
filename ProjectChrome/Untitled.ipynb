{
 "cells": [
  {
   "cell_type": "code",
   "execution_count": 1,
   "metadata": {},
   "outputs": [
    {
     "data": {
      "text/plain": [
       "(13434, 94, 93, 2)"
      ]
     },
     "execution_count": 1,
     "metadata": {},
     "output_type": "execute_result"
    }
   ],
   "source": [
    "import h5py\n",
    "import numpy as np\n",
    "from matplotlib import pyplot as plt\n",
    "\n",
    "#h5f = h5py.File('overlapping_chromosomes_examples.h5','r')\n",
    "h5f = h5py.File('./overlapping-chromosomes/LowRes_13434_overlapping_pairs.h5','r')\n",
    "pairs = h5f['dataset_1'][:]\n",
    "h5f.close()\n",
    "pairs.shape"
   ]
  },
  {
   "cell_type": "code",
   "execution_count": 7,
   "metadata": {},
   "outputs": [
    {
     "data": {
      "text/plain": [
       "<matplotlib.image.AxesImage at 0x1dd41a95668>"
      ]
     },
     "execution_count": 7,
     "metadata": {},
     "output_type": "execute_result"
    },
    {
     "data": {
      "image/png": "[encoded data removed]",
      "text/plain": [
       "<matplotlib.figure.Figure at 0x1dd40e65a58>"
      ]
     },
     "metadata": {},
     "output_type": "display_data"
    }
   ],
   "source": [
    "grey = pairs[1521,:,:,0]\n",
    "mask = pairs[1521,:,:,1]\n",
    "%matplotlib inline\n",
    "plt.subplot(121)\n",
    "plt.imshow(grey,cmap='gray')\n",
    "plt.title('max='+str(grey.max()))\n",
    "plt.subplot(122)\n",
    "plt.imshow(mask,cmap='gray')\n"
   ]
  },
  {
   "cell_type": "code",
   "execution_count": 11,
   "metadata": {},
   "outputs": [
    {
     "data": {
      "text/plain": [
       "(94, 93)"
      ]
     },
     "execution_count": 11,
     "metadata": {},
     "output_type": "execute_result"
    }
   ],
   "source": [
    "pairs[1,:,:,0].shape"
   ]
  },
  {
   "cell_type": "code",
   "execution_count": 18,
   "metadata": {},
   "outputs": [],
   "source": [
    "import scipy.misc as scipyMis \n",
    "\n",
    "resampledGrey=[]\n",
    "resampledMask=[]\n",
    "for i in range(pairs.shape[0]):\n",
    "    resampledGrey += [scipyMis.imresize(pairs[i,:,:,0],[112,112],'nearest')]\n",
    "    resampledMask += [scipyMis.imresize(pairs[i,:,:,1],[112,112],'nearest')]"
   ]
  },
  {
   "cell_type": "code",
   "execution_count": 46,
   "metadata": {},
   "outputs": [
    {
     "name": "stdout",
     "output_type": "stream",
     "text": [
      "[0 1 2 3]\n"
     ]
    }
   ],
   "source": [
    "np.array(resampledGrey).shape\n",
    "np.max(resampledMask[0])\n",
    "a=np.unique(np.array(resampledMask[0]/85).astype(int)).flatten()\n",
    "print(a)"
   ]
  },
  {
   "cell_type": "code",
   "execution_count": 47,
   "metadata": {
    "collapsed": true
   },
   "outputs": [],
   "source": [
    "xtrain = np.array(resampledGrey)/255.0\n",
    "ytrain = (np.array(resampledMask)/85).astype(int)"
   ]
  },
  {
   "cell_type": "code",
   "execution_count": 48,
   "metadata": {},
   "outputs": [
    {
     "data": {
      "text/plain": [
       "(13434, 12544)"
      ]
     },
     "execution_count": 48,
     "metadata": {},
     "output_type": "execute_result"
    }
   ],
   "source": [
    "x_train=np.expand_dims(xtrain,axis=-1)\n",
    "ytrain=np.reshape(ytrain,(13434,-1))\n",
    "ytrain.shape"
   ]
  },
  {
   "cell_type": "code",
   "execution_count": 49,
   "metadata": {},
   "outputs": [
    {
     "name": "stderr",
     "output_type": "stream",
     "text": [
      "C:\\Users\\HuaSheng\\AppData\\Local\\conda\\conda\\envs\\tfkeras\\lib\\site-packages\\ipykernel_launcher.py:46: UserWarning: Update your `Model` call to the Keras 2 API: `Model(inputs=[<tf.Tenso..., outputs=[<tf.Tenso...)`\n"
     ]
    },
    {
     "name": "stdout",
     "output_type": "stream",
     "text": [
      "____________________________________________________________________________________________________\n",
      "Layer (type)                     Output Shape          Param #     Connected to                     \n",
      "====================================================================================================\n",
      "input_4 (InputLayer)             (None, 112, 112, 1)   0                                            \n",
      "____________________________________________________________________________________________________\n",
      "conv2d_40 (Conv2D)               (None, 112, 112, 32)  320         input_4[0][0]                    \n",
      "____________________________________________________________________________________________________\n",
      "conv2d_41 (Conv2D)               (None, 112, 112, 32)  9248        conv2d_40[0][0]                  \n",
      "____________________________________________________________________________________________________\n",
      "max_pooling2d_9 (MaxPooling2D)   (None, 56, 56, 32)    0           conv2d_41[0][0]                  \n",
      "____________________________________________________________________________________________________\n",
      "conv2d_42 (Conv2D)               (None, 56, 56, 64)    18496       max_pooling2d_9[0][0]            \n",
      "____________________________________________________________________________________________________\n",
      "conv2d_43 (Conv2D)               (None, 56, 56, 64)    36928       conv2d_42[0][0]                  \n",
      "____________________________________________________________________________________________________\n",
      "max_pooling2d_10 (MaxPooling2D)  (None, 28, 28, 64)    0           conv2d_43[0][0]                  \n",
      "____________________________________________________________________________________________________\n",
      "conv2d_44 (Conv2D)               (None, 28, 28, 128)   73856       max_pooling2d_10[0][0]           \n",
      "____________________________________________________________________________________________________\n",
      "conv2d_45 (Conv2D)               (None, 28, 28, 128)   147584      conv2d_44[0][0]                  \n",
      "____________________________________________________________________________________________________\n",
      "max_pooling2d_11 (MaxPooling2D)  (None, 14, 14, 128)   0           conv2d_45[0][0]                  \n",
      "____________________________________________________________________________________________________\n",
      "conv2d_46 (Conv2D)               (None, 14, 14, 256)   295168      max_pooling2d_11[0][0]           \n",
      "____________________________________________________________________________________________________\n",
      "conv2d_47 (Conv2D)               (None, 14, 14, 256)   590080      conv2d_46[0][0]                  \n",
      "____________________________________________________________________________________________________\n",
      "max_pooling2d_12 (MaxPooling2D)  (None, 7, 7, 256)     0           conv2d_47[0][0]                  \n",
      "____________________________________________________________________________________________________\n",
      "conv2d_48 (Conv2D)               (None, 7, 7, 512)     1180160     max_pooling2d_12[0][0]           \n",
      "____________________________________________________________________________________________________\n",
      "conv2d_49 (Conv2D)               (None, 7, 7, 512)     2359808     conv2d_48[0][0]                  \n",
      "____________________________________________________________________________________________________\n",
      "up_sampling2d_9 (UpSampling2D)   (None, 14, 14, 512)   0           conv2d_49[0][0]                  \n",
      "____________________________________________________________________________________________________\n",
      "concatenate_9 (Concatenate)      (None, 14, 14, 768)   0           up_sampling2d_9[0][0]            \n",
      "                                                                   conv2d_47[0][0]                  \n",
      "____________________________________________________________________________________________________\n",
      "conv2d_50 (Conv2D)               (None, 14, 14, 256)   1769728     concatenate_9[0][0]              \n",
      "____________________________________________________________________________________________________\n",
      "conv2d_51 (Conv2D)               (None, 14, 14, 256)   590080      conv2d_50[0][0]                  \n",
      "____________________________________________________________________________________________________\n",
      "up_sampling2d_10 (UpSampling2D)  (None, 28, 28, 256)   0           conv2d_51[0][0]                  \n",
      "____________________________________________________________________________________________________\n",
      "concatenate_10 (Concatenate)     (None, 28, 28, 384)   0           up_sampling2d_10[0][0]           \n",
      "                                                                   conv2d_45[0][0]                  \n",
      "____________________________________________________________________________________________________\n",
      "conv2d_52 (Conv2D)               (None, 28, 28, 128)   442496      concatenate_10[0][0]             \n",
      "____________________________________________________________________________________________________\n",
      "conv2d_53 (Conv2D)               (None, 28, 28, 128)   147584      conv2d_52[0][0]                  \n",
      "____________________________________________________________________________________________________\n",
      "up_sampling2d_11 (UpSampling2D)  (None, 56, 56, 128)   0           conv2d_53[0][0]                  \n",
      "____________________________________________________________________________________________________\n",
      "concatenate_11 (Concatenate)     (None, 56, 56, 192)   0           up_sampling2d_11[0][0]           \n",
      "                                                                   conv2d_43[0][0]                  \n",
      "____________________________________________________________________________________________________\n",
      "conv2d_54 (Conv2D)               (None, 56, 56, 64)    110656      concatenate_11[0][0]             \n",
      "____________________________________________________________________________________________________\n",
      "conv2d_55 (Conv2D)               (None, 56, 56, 64)    36928       conv2d_54[0][0]                  \n",
      "____________________________________________________________________________________________________\n",
      "up_sampling2d_12 (UpSampling2D)  (None, 112, 112, 64)  0           conv2d_55[0][0]                  \n",
      "____________________________________________________________________________________________________\n",
      "concatenate_12 (Concatenate)     (None, 112, 112, 96)  0           up_sampling2d_12[0][0]           \n",
      "                                                                   conv2d_41[0][0]                  \n",
      "____________________________________________________________________________________________________\n",
      "conv2d_56 (Conv2D)               (None, 112, 112, 32)  27680       concatenate_12[0][0]             \n",
      "____________________________________________________________________________________________________\n",
      "conv2d_57 (Conv2D)               (None, 112, 112, 32)  9248        conv2d_56[0][0]                  \n",
      "____________________________________________________________________________________________________\n",
      "conv2d_58 (Conv2D)               (None, 112, 112, 4)   132         conv2d_57[0][0]                  \n",
      "____________________________________________________________________________________________________\n",
      "reshape_3 (Reshape)              (None, 12544, 4)      0           conv2d_58[0][0]                  \n",
      "____________________________________________________________________________________________________\n",
      "activation_3 (Activation)        (None, 12544, 4)      0           reshape_3[0][0]                  \n",
      "====================================================================================================\n",
      "Total params: 7,846,180\n",
      "Trainable params: 7,846,180\n",
      "Non-trainable params: 0\n",
      "____________________________________________________________________________________________________\n"
     ]
    }
   ],
   "source": [
    "from keras.models import Model, Sequential, load_model\n",
    "from keras.layers import *\n",
    "from keras.optimizers import *\n",
    "\n",
    "\n",
    "inputs = Input((112, 112,1))\n",
    "conv1 = Conv2D(32, (3, 3), activation='relu', padding='same')(inputs)\n",
    "conv1 = Conv2D(32, (3, 3), activation='relu', padding='same')(conv1)\n",
    "pool1 = MaxPooling2D(pool_size=(2, 2))(conv1)\n",
    "\n",
    "conv2 = Conv2D(64, (3, 3), activation='relu', padding='same')(pool1)\n",
    "conv2 = Conv2D(64, (3, 3), activation='relu', padding='same')(conv2)\n",
    "pool2 = MaxPooling2D(pool_size=(2, 2))(conv2)\n",
    "\n",
    "conv3 = Conv2D(128, (3, 3), activation='relu', padding='same')(pool2)\n",
    "conv3 = Conv2D(128, (3, 3), activation='relu', padding='same')(conv3)\n",
    "pool3 = MaxPooling2D(pool_size=(2, 2))(conv3)\n",
    "\n",
    "conv4 = Conv2D(256, (3, 3), activation='relu', padding='same')(pool3)\n",
    "conv4 = Conv2D(256, (3, 3), activation='relu', padding='same')(conv4)\n",
    "pool4 = MaxPooling2D(pool_size=(2, 2))(conv4)\n",
    "\n",
    "conv5 = Conv2D(512, (3, 3), activation='relu', padding='same')(pool4)\n",
    "conv5 = Conv2D(512, (3, 3), activation='relu', padding='same')(conv5)\n",
    "\n",
    "up6 = Concatenate(axis=-1)([UpSampling2D((2,2))(conv5), conv4])\n",
    "conv6 = Conv2D(256, (3, 3), activation='relu', padding='same')(up6)\n",
    "conv6 = Conv2D(256, (3, 3), activation='relu', padding='same')(conv6)\n",
    "\n",
    "up7 = Concatenate(axis=-1)([UpSampling2D((2,2))(conv6), conv3])\n",
    "conv7 = Conv2D(128, (3, 3), activation='relu', padding='same')(up7)\n",
    "conv7 = Conv2D(128, (3, 3), activation='relu', padding='same')(conv7)\n",
    "\n",
    "up8 = Concatenate(axis=-1)([UpSampling2D((2,2))(conv7), conv2])\n",
    "conv8 = Conv2D(64, (3, 3), activation='relu', padding='same')(up8)\n",
    "conv8 = Conv2D(64, (3, 3), activation='relu', padding='same')(conv8)\n",
    "\n",
    "up9 = Concatenate(axis=-1)([UpSampling2D((2,2))(conv8), conv1])\n",
    "conv9 = Conv2D(32, (3, 3), activation='relu', padding='same')(up9)\n",
    "conv9 = Conv2D(32, (3, 3), activation='relu', padding='same')(conv9)\n",
    "\n",
    "conv10 = Conv2D(4, (1, 1))(conv9)\n",
    "conv11 = Reshape((-1, 4))(conv10)\n",
    "conv12 = Activation('softmax')(conv11)\n",
    "\n",
    "model = Model(input=[inputs], output=[conv12])\n",
    "model.compile(optimizer=Adam(lr=1e-5), loss='sparse_categorical_crossentropy', metrics=['accuracy'])\n",
    "model.summary()"
   ]
  },
  {
   "cell_type": "code",
   "execution_count": 45,
   "metadata": {},
   "outputs": [
    {
     "ename": "ValueError",
     "evalue": "Error when checking input: expected input_2 to have 4 dimensions, but got array with shape (13434, 112, 112)",
     "output_type": "error",
     "traceback": [
      "\u001b[1;31m---------------------------------------------------------------------------\u001b[0m",
      "\u001b[1;31mValueError\u001b[0m                                Traceback (most recent call last)",
      "\u001b[1;32m<ipython-input-45-de21760cdfd9>\u001b[0m in \u001b[0;36m<module>\u001b[1;34m()\u001b[0m\n\u001b[1;32m----> 1\u001b[1;33m \u001b[0mmodel\u001b[0m\u001b[1;33m.\u001b[0m\u001b[0mfit\u001b[0m\u001b[1;33m(\u001b[0m\u001b[0mxtrain\u001b[0m\u001b[1;33m,\u001b[0m\u001b[0mytrain\u001b[0m\u001b[1;33m)\u001b[0m\u001b[1;33m\u001b[0m\u001b[0m\n\u001b[0m",
      "\u001b[1;32mC:\\Users\\HuaSheng\\AppData\\Local\\conda\\conda\\envs\\tfkeras\\lib\\site-packages\\keras\\engine\\training.py\u001b[0m in \u001b[0;36mfit\u001b[1;34m(self, x, y, batch_size, epochs, verbose, callbacks, validation_split, validation_data, shuffle, class_weight, sample_weight, initial_epoch, **kwargs)\u001b[0m\n\u001b[0;32m   1433\u001b[0m             \u001b[0mclass_weight\u001b[0m\u001b[1;33m=\u001b[0m\u001b[0mclass_weight\u001b[0m\u001b[1;33m,\u001b[0m\u001b[1;33m\u001b[0m\u001b[0m\n\u001b[0;32m   1434\u001b[0m             \u001b[0mcheck_batch_axis\u001b[0m\u001b[1;33m=\u001b[0m\u001b[1;32mFalse\u001b[0m\u001b[1;33m,\u001b[0m\u001b[1;33m\u001b[0m\u001b[0m\n\u001b[1;32m-> 1435\u001b[1;33m             batch_size=batch_size)\n\u001b[0m\u001b[0;32m   1436\u001b[0m         \u001b[1;31m# Prepare validation data.\u001b[0m\u001b[1;33m\u001b[0m\u001b[1;33m\u001b[0m\u001b[0m\n\u001b[0;32m   1437\u001b[0m         \u001b[1;32mif\u001b[0m \u001b[0mvalidation_data\u001b[0m\u001b[1;33m:\u001b[0m\u001b[1;33m\u001b[0m\u001b[0m\n",
      "\u001b[1;32mC:\\Users\\HuaSheng\\AppData\\Local\\conda\\conda\\envs\\tfkeras\\lib\\site-packages\\keras\\engine\\training.py\u001b[0m in \u001b[0;36m_standardize_user_data\u001b[1;34m(self, x, y, sample_weight, class_weight, check_batch_axis, batch_size)\u001b[0m\n\u001b[0;32m   1309\u001b[0m                                     \u001b[0mself\u001b[0m\u001b[1;33m.\u001b[0m\u001b[0m_feed_input_shapes\u001b[0m\u001b[1;33m,\u001b[0m\u001b[1;33m\u001b[0m\u001b[0m\n\u001b[0;32m   1310\u001b[0m                                     \u001b[0mcheck_batch_axis\u001b[0m\u001b[1;33m=\u001b[0m\u001b[1;32mFalse\u001b[0m\u001b[1;33m,\u001b[0m\u001b[1;33m\u001b[0m\u001b[0m\n\u001b[1;32m-> 1311\u001b[1;33m                                     exception_prefix='input')\n\u001b[0m\u001b[0;32m   1312\u001b[0m         y = _standardize_input_data(y, self._feed_output_names,\n\u001b[0;32m   1313\u001b[0m                                     \u001b[0moutput_shapes\u001b[0m\u001b[1;33m,\u001b[0m\u001b[1;33m\u001b[0m\u001b[0m\n",
      "\u001b[1;32mC:\\Users\\HuaSheng\\AppData\\Local\\conda\\conda\\envs\\tfkeras\\lib\\site-packages\\keras\\engine\\training.py\u001b[0m in \u001b[0;36m_standardize_input_data\u001b[1;34m(data, names, shapes, check_batch_axis, exception_prefix)\u001b[0m\n\u001b[0;32m    125\u001b[0m                                  \u001b[1;34m' to have '\u001b[0m \u001b[1;33m+\u001b[0m \u001b[0mstr\u001b[0m\u001b[1;33m(\u001b[0m\u001b[0mlen\u001b[0m\u001b[1;33m(\u001b[0m\u001b[0mshapes\u001b[0m\u001b[1;33m[\u001b[0m\u001b[0mi\u001b[0m\u001b[1;33m]\u001b[0m\u001b[1;33m)\u001b[0m\u001b[1;33m)\u001b[0m \u001b[1;33m+\u001b[0m\u001b[1;33m\u001b[0m\u001b[0m\n\u001b[0;32m    126\u001b[0m                                  \u001b[1;34m' dimensions, but got array with shape '\u001b[0m \u001b[1;33m+\u001b[0m\u001b[1;33m\u001b[0m\u001b[0m\n\u001b[1;32m--> 127\u001b[1;33m                                  str(array.shape))\n\u001b[0m\u001b[0;32m    128\u001b[0m             \u001b[1;32mfor\u001b[0m \u001b[0mj\u001b[0m\u001b[1;33m,\u001b[0m \u001b[1;33m(\u001b[0m\u001b[0mdim\u001b[0m\u001b[1;33m,\u001b[0m \u001b[0mref_dim\u001b[0m\u001b[1;33m)\u001b[0m \u001b[1;32min\u001b[0m \u001b[0menumerate\u001b[0m\u001b[1;33m(\u001b[0m\u001b[0mzip\u001b[0m\u001b[1;33m(\u001b[0m\u001b[0marray\u001b[0m\u001b[1;33m.\u001b[0m\u001b[0mshape\u001b[0m\u001b[1;33m,\u001b[0m \u001b[0mshapes\u001b[0m\u001b[1;33m[\u001b[0m\u001b[0mi\u001b[0m\u001b[1;33m]\u001b[0m\u001b[1;33m)\u001b[0m\u001b[1;33m)\u001b[0m\u001b[1;33m:\u001b[0m\u001b[1;33m\u001b[0m\u001b[0m\n\u001b[0;32m    129\u001b[0m                 \u001b[1;32mif\u001b[0m \u001b[1;32mnot\u001b[0m \u001b[0mj\u001b[0m \u001b[1;32mand\u001b[0m \u001b[1;32mnot\u001b[0m \u001b[0mcheck_batch_axis\u001b[0m\u001b[1;33m:\u001b[0m\u001b[1;33m\u001b[0m\u001b[0m\n",
      "\u001b[1;31mValueError\u001b[0m: Error when checking input: expected input_2 to have 4 dimensions, but got array with shape (13434, 112, 112)"
     ]
    }
   ],
   "source": [
    "model.fit(xtrain,ytrain)"
   ]
  },
  {
   "cell_type": "code",
   "execution_count": null,
   "metadata": {
    "collapsed": true
   },
   "outputs": [],
   "source": []
  }
 ],
 "metadata": {
  "kernelspec": {
   "display_name": "Python 3",
   "language": "python",
   "name": "python3"
  },
  "language_info": {
   "codemirror_mode": {
    "name": "ipython",
    "version": 3
   },
   "file_extension": ".py",
   "mimetype": "text/x-python",
   "name": "python",
   "nbconvert_exporter": "python",
   "pygments_lexer": "ipython3",
   "version": "3.5.3"
  }
 },
 "nbformat": 4,
 "nbformat_minor": 2
}
