{
 "cells": [
  {
   "cell_type": "code",
   "execution_count": 11,
   "metadata": {},
   "outputs": [],
   "source": [
    "%matplotlib inline\n",
    "import matplotlib.pyplot as plt\n",
    "\n",
    "import keras\n",
    "from keras.models import Model, Sequential\n",
    "from keras.layers import *\n",
    "from keras.optimizers import Adam\n",
    "\n",
    "import tensorflow as tf\n",
    "import numpy as np\n",
    "\n",
    "def addDS():\n",
    "    total = []\n",
    "    src1 =[]\n",
    "    src2 =[]\n",
    "    x1 = np.arange(0,101)\n",
    "    x2 = np.arange(0,101)\n",
    "    for u  in x1:\n",
    "        for v in x2:\n",
    "            singleInst = [int(d) for d in str(np.binary_repr(u+v,width=8))]\n",
    "            total += [singleInst]\n",
    "            src1 += [u]\n",
    "            src2 += [v]\n",
    "    return total,src1,src2\n",
    "\n",
    "total,x1,x2 = addDS()"
   ]
  },
  {
   "cell_type": "code",
   "execution_count": null,
   "metadata": {
    "collapsed": true
   },
   "outputs": [],
   "source": [
    "print(len(x1))"
   ]
  },
  {
   "cell_type": "code",
   "execution_count": 12,
   "metadata": {
    "scrolled": true
   },
   "outputs": [
    {
     "name": "stdout",
     "output_type": "stream",
     "text": [
      "[ 0.64  0.89]\n",
      "1\n",
      "(10201, 2)\n",
      "(10201, 2)\n",
      "Epoch 1/1000\n",
      "10201/10201 [==============================] - 10s - loss: 5.4638 - yTrain0_loss: 0.6124 - yTrain1_loss: 0.6899 - yTrain2_loss: 0.6938 - yTrain3_loss: 0.6933 - yTrain4_loss: 0.6933 - yTrain5_loss: 0.6933 - yTrain6_loss: 0.6943 - yTrain7_loss: 0.6935 - yTrain0_acc: 0.7351 - yTrain1_acc: 0.5359 - yTrain2_acc: 0.5192 - yTrain3_acc: 0.4940 - yTrain4_acc: 0.5011 - yTrain5_acc: 0.4978 - yTrain6_acc: 0.4935 - yTrain7_acc: 0.4939    \n",
      "Epoch 2/1000\n",
      "10201/10201 [==============================] - 7s - loss: 5.3276 - yTrain0_loss: 0.4890 - yTrain1_loss: 0.6778 - yTrain2_loss: 0.6927 - yTrain3_loss: 0.6935 - yTrain4_loss: 0.6935 - yTrain5_loss: 0.6933 - yTrain6_loss: 0.6944 - yTrain7_loss: 0.6935 - yTrain0_acc: 0.7732 - yTrain1_acc: 0.6286 - yTrain2_acc: 0.5228 - yTrain3_acc: 0.4961 - yTrain4_acc: 0.5032 - yTrain5_acc: 0.4948 - yTrain6_acc: 0.4975 - yTrain7_acc: 0.5016     \n",
      "Epoch 3/1000\n",
      "10201/10201 [==============================] - 8s - loss: 5.0936 - yTrain0_loss: 0.3054 - yTrain1_loss: 0.6282 - yTrain2_loss: 0.6918 - yTrain3_loss: 0.6934 - yTrain4_loss: 0.6936 - yTrain5_loss: 0.6934 - yTrain6_loss: 0.6944 - yTrain7_loss: 0.6935 - yTrain0_acc: 0.9334 - yTrain1_acc: 0.7128 - yTrain2_acc: 0.5130 - yTrain3_acc: 0.4964 - yTrain4_acc: 0.5000 - yTrain5_acc: 0.5000 - yTrain6_acc: 0.5031 - yTrain7_acc: 0.4958     - ETA: 7s - loss: 5.2195 - yTrain0_loss: 0.4099 - yTrain1_loss: 0.6524 - yTrain2_loss: 0.6927 - yTrain3_loss: 0.6941 - yTrain4_loss: 0.6919 - yTrain5_loss: 0.6935 - yTrain6_loss: 0.6932 - yTrain7_loss: 0.6918 - yTrain0_acc: 0.8711 - yTrain1_acc: 0.7344 \n",
      "Epoch 4/1000\n",
      "10201/10201 [==============================] - 8s - loss: 4.9143 - yTrain0_loss: 0.1844 - yTrain1_loss: 0.5720 - yTrain2_loss: 0.6893 - yTrain3_loss: 0.6939 - yTrain4_loss: 0.6939 - yTrain5_loss: 0.6936 - yTrain6_loss: 0.6939 - yTrain7_loss: 0.6934 - yTrain0_acc: 0.9776 - yTrain1_acc: 0.7405 - yTrain2_acc: 0.6240 - yTrain3_acc: 0.5184 - yTrain4_acc: 0.4998 - yTrain5_acc: 0.4953 - yTrain6_acc: 0.4988 - yTrain7_acc: 0.4975     - ETA: 7s - loss: 5.0002 - yTrain0_loss: 0.2496 - yTrain1_loss: 0.5905 - yTrain2_loss: 0.6885 - yTrain3_loss: 0.6926 - yTrain4_loss: 0.6953 - yTrain5_loss: 0.6945 - yTrain6_loss: 0.6948 - yTrain7_loss: 0.6945 - yTrain0_acc: 0.9609 - yTrain1_acc: 0.7188 - y\n",
      "Epoch 5/1000\n",
      "10201/10201 [==============================] - 8s - loss: 4.8057 - yTrain0_loss: 0.1311 - yTrain1_loss: 0.5192 - yTrain2_loss: 0.6865 - yTrain3_loss: 0.6946 - yTrain4_loss: 0.6939 - yTrain5_loss: 0.6935 - yTrain6_loss: 0.6934 - yTrain7_loss: 0.6934 - yTrain0_acc: 0.9902 - yTrain1_acc: 0.7702 - yTrain2_acc: 0.5978 - yTrain3_acc: 0.4822 - yTrain4_acc: 0.5033 - yTrain5_acc: 0.4986 - yTrain6_acc: 0.4950 - yTrain7_acc: 0.4993     \n",
      "Epoch 6/1000\n",
      "10201/10201 [==============================] - 8s - loss: 4.7172 - yTrain0_loss: 0.1008 - yTrain1_loss: 0.4638 - yTrain2_loss: 0.6834 - yTrain3_loss: 0.6946 - yTrain4_loss: 0.6941 - yTrain5_loss: 0.6934 - yTrain6_loss: 0.6936 - yTrain7_loss: 0.6935 - yTrain0_acc: 0.9920 - yTrain1_acc: 0.7828 - yTrain2_acc: 0.6087 - yTrain3_acc: 0.4575 - yTrain4_acc: 0.5001 - yTrain5_acc: 0.5001 - yTrain6_acc: 0.5015 - yTrain7_acc: 0.5065     \n",
      "Epoch 7/1000\n",
      "10201/10201 [==============================] - 7s - loss: 4.6404 - yTrain0_loss: 0.0818 - yTrain1_loss: 0.4100 - yTrain2_loss: 0.6797 - yTrain3_loss: 0.6944 - yTrain4_loss: 0.6939 - yTrain5_loss: 0.6935 - yTrain6_loss: 0.6934 - yTrain7_loss: 0.6936 - yTrain0_acc: 0.9938 - yTrain1_acc: 0.8580 - yTrain2_acc: 0.5980 - yTrain3_acc: 0.4638 - yTrain4_acc: 0.5017 - yTrain5_acc: 0.5024 - yTrain6_acc: 0.4970 - yTrain7_acc: 0.4955     \n",
      "Epoch 8/1000\n",
      "10201/10201 [==============================] - 8s - loss: 4.5756 - yTrain0_loss: 0.0696 - yTrain1_loss: 0.3620 - yTrain2_loss: 0.6752 - yTrain3_loss: 0.6943 - yTrain4_loss: 0.6939 - yTrain5_loss: 0.6935 - yTrain6_loss: 0.6936 - yTrain7_loss: 0.6936 - yTrain0_acc: 0.9955 - yTrain1_acc: 0.9253 - yTrain2_acc: 0.5986 - yTrain3_acc: 0.4720 - yTrain4_acc: 0.5069 - yTrain5_acc: 0.4966 - yTrain6_acc: 0.4940 - yTrain7_acc: 0.4973     \n",
      "Epoch 9/1000\n",
      "10201/10201 [==============================] - 8s - loss: 4.5210 - yTrain0_loss: 0.0612 - yTrain1_loss: 0.3216 - yTrain2_loss: 0.6696 - yTrain3_loss: 0.6941 - yTrain4_loss: 0.6938 - yTrain5_loss: 0.6932 - yTrain6_loss: 0.6938 - yTrain7_loss: 0.6936 - yTrain0_acc: 0.9957 - yTrain1_acc: 0.9442 - yTrain2_acc: 0.6255 - yTrain3_acc: 0.4857 - yTrain4_acc: 0.5056 - yTrain5_acc: 0.5060 - yTrain6_acc: 0.4949 - yTrain7_acc: 0.4970     \n",
      "Epoch 10/1000\n",
      "10201/10201 [==============================] - 9s - loss: 4.4791 - yTrain0_loss: 0.0553 - yTrain1_loss: 0.2899 - yTrain2_loss: 0.6651 - yTrain3_loss: 0.6938 - yTrain4_loss: 0.6940 - yTrain5_loss: 0.6935 - yTrain6_loss: 0.6937 - yTrain7_loss: 0.6939 - yTrain0_acc: 0.9958 - yTrain1_acc: 0.9583 - yTrain2_acc: 0.6314 - yTrain3_acc: 0.4781 - yTrain4_acc: 0.5028 - yTrain5_acc: 0.4974 - yTrain6_acc: 0.4895 - yTrain7_acc: 0.4986     \n",
      "Epoch 11/1000\n",
      "10201/10201 [==============================] - 8s - loss: 4.4436 - yTrain0_loss: 0.0506 - yTrain1_loss: 0.2650 - yTrain2_loss: 0.6597 - yTrain3_loss: 0.6935 - yTrain4_loss: 0.6940 - yTrain5_loss: 0.6936 - yTrain6_loss: 0.6937 - yTrain7_loss: 0.6936 - yTrain0_acc: 0.9961 - yTrain1_acc: 0.9628 - yTrain2_acc: 0.6111 - yTrain3_acc: 0.4950 - yTrain4_acc: 0.4968 - yTrain5_acc: 0.5013 - yTrain6_acc: 0.4931 - yTrain7_acc: 0.5000     \n",
      "Epoch 12/1000\n",
      "10201/10201 [==============================] - 8s - loss: 4.4154 - yTrain0_loss: 0.0471 - yTrain1_loss: 0.2465 - yTrain2_loss: 0.6545 - yTrain3_loss: 0.6931 - yTrain4_loss: 0.6938 - yTrain5_loss: 0.6933 - yTrain6_loss: 0.6936 - yTrain7_loss: 0.6934 - yTrain0_acc: 0.9957 - yTrain1_acc: 0.9677 - yTrain2_acc: 0.6093 - yTrain3_acc: 0.5077 - yTrain4_acc: 0.4933 - yTrain5_acc: 0.5059 - yTrain6_acc: 0.5013 - yTrain7_acc: 0.5081     \n",
      "Epoch 13/1000\n",
      "10201/10201 [==============================] - 8s - loss: 4.3926 - yTrain0_loss: 0.0437 - yTrain1_loss: 0.2316 - yTrain2_loss: 0.6492 - yTrain3_loss: 0.6928 - yTrain4_loss: 0.6939 - yTrain5_loss: 0.6940 - yTrain6_loss: 0.6936 - yTrain7_loss: 0.6937 - yTrain0_acc: 0.9963 - yTrain1_acc: 0.9701 - yTrain2_acc: 0.6141 - yTrain3_acc: 0.5121 - yTrain4_acc: 0.4992 - yTrain5_acc: 0.4908 - yTrain6_acc: 0.4985 - yTrain7_acc: 0.4952     \n",
      "Epoch 14/1000\n",
      "10201/10201 [==============================] - 6s - loss: 4.3732 - yTrain0_loss: 0.0412 - yTrain1_loss: 0.2202 - yTrain2_loss: 0.6445 - yTrain3_loss: 0.6924 - yTrain4_loss: 0.6937 - yTrain5_loss: 0.6935 - yTrain6_loss: 0.6940 - yTrain7_loss: 0.6937 - yTrain0_acc: 0.9945 - yTrain1_acc: 0.9743 - yTrain2_acc: 0.6111 - yTrain3_acc: 0.5161 - yTrain4_acc: 0.4880 - yTrain5_acc: 0.5003 - yTrain6_acc: 0.4950 - yTrain7_acc: 0.4942     \n",
      "Epoch 15/1000\n",
      "10201/10201 [==============================] - 6s - loss: 4.3560 - yTrain0_loss: 0.0390 - yTrain1_loss: 0.2111 - yTrain2_loss: 0.6396 - yTrain3_loss: 0.6918 - yTrain4_loss: 0.6934 - yTrain5_loss: 0.6935 - yTrain6_loss: 0.6936 - yTrain7_loss: 0.6940 - yTrain0_acc: 0.9968 - yTrain1_acc: 0.9774 - yTrain2_acc: 0.6198 - yTrain3_acc: 0.5201 - yTrain4_acc: 0.5140 - yTrain5_acc: 0.5048 - yTrain6_acc: 0.5000 - yTrain7_acc: 0.4914     \n",
      "Epoch 16/1000\n",
      "10201/10201 [==============================] - 6s - loss: 4.3438 - yTrain0_loss: 0.0374 - yTrain1_loss: 0.2040 - yTrain2_loss: 0.6355 - yTrain3_loss: 0.6920 - yTrain4_loss: 0.6937 - yTrain5_loss: 0.6936 - yTrain6_loss: 0.6938 - yTrain7_loss: 0.6937 - yTrain0_acc: 0.9958 - yTrain1_acc: 0.9763 - yTrain2_acc: 0.6248 - yTrain3_acc: 0.5248 - yTrain4_acc: 0.5038 - yTrain5_acc: 0.4975 - yTrain6_acc: 0.4908 - yTrain7_acc: 0.4918     \n",
      "Epoch 17/1000\n",
      "10201/10201 [==============================] - 7s - loss: 4.3303 - yTrain0_loss: 0.0356 - yTrain1_loss: 0.1979 - yTrain2_loss: 0.6304 - yTrain3_loss: 0.6916 - yTrain4_loss: 0.6936 - yTrain5_loss: 0.6938 - yTrain6_loss: 0.6937 - yTrain7_loss: 0.6937 - yTrain0_acc: 0.9979 - yTrain1_acc: 0.9779 - yTrain2_acc: 0.6329 - yTrain3_acc: 0.5224 - yTrain4_acc: 0.5025 - yTrain5_acc: 0.4950 - yTrain6_acc: 0.5020 - yTrain7_acc: 0.4991     \n",
      "Epoch 18/1000\n"
     ]
    },
    {
     "name": "stdout",
     "output_type": "stream",
     "text": [
      "10201/10201 [==============================] - 7s - loss: 4.3199 - yTrain0_loss: 0.0343 - yTrain1_loss: 0.1932 - yTrain2_loss: 0.6267 - yTrain3_loss: 0.6912 - yTrain4_loss: 0.6936 - yTrain5_loss: 0.6937 - yTrain6_loss: 0.6936 - yTrain7_loss: 0.6936 - yTrain0_acc: 0.9966 - yTrain1_acc: 0.9794 - yTrain2_acc: 0.6424 - yTrain3_acc: 0.5077 - yTrain4_acc: 0.4997 - yTrain5_acc: 0.5004 - yTrain6_acc: 0.4971 - yTrain7_acc: 0.5009     \n",
      "Epoch 19/1000\n",
      "10201/10201 [==============================] - 8s - loss: 4.3101 - yTrain0_loss: 0.0329 - yTrain1_loss: 0.1889 - yTrain2_loss: 0.6228 - yTrain3_loss: 0.6911 - yTrain4_loss: 0.6934 - yTrain5_loss: 0.6933 - yTrain6_loss: 0.6939 - yTrain7_loss: 0.6938 - yTrain0_acc: 0.9978 - yTrain1_acc: 0.9818 - yTrain2_acc: 0.6404 - yTrain3_acc: 0.5116 - yTrain4_acc: 0.5078 - yTrain5_acc: 0.4992 - yTrain6_acc: 0.4933 - yTrain7_acc: 0.4938     \n",
      "Epoch 20/1000\n",
      "10201/10201 [==============================] - 8s - loss: 4.3008 - yTrain0_loss: 0.0316 - yTrain1_loss: 0.1852 - yTrain2_loss: 0.6188 - yTrain3_loss: 0.6910 - yTrain4_loss: 0.6934 - yTrain5_loss: 0.6936 - yTrain6_loss: 0.6937 - yTrain7_loss: 0.6935 - yTrain0_acc: 0.9975 - yTrain1_acc: 0.9813 - yTrain2_acc: 0.6443 - yTrain3_acc: 0.5214 - yTrain4_acc: 0.5063 - yTrain5_acc: 0.4978 - yTrain6_acc: 0.5015 - yTrain7_acc: 0.5021     - ETA: 6s - loss: 4.3030 - yTrain0_loss: 0.0314 - yTrain1_loss: 0.1841 - yTrain2_loss: 0.6229 - yTrain3_loss: 0.6910 - yTrain4_loss: 0.6935 - yTrain5_loss: 0.6932 - yTrain6_loss: 0.6933 - yTrain7_loss: 0.6935 - yTrain0_acc: 0.9990 - yTrain1_acc: 0.9823 - yTrain2_acc: 0.6511 - yTrain3_acc\n",
      "Epoch 21/1000\n",
      "10201/10201 [==============================] - 7s - loss: 4.2931 - yTrain0_loss: 0.0307 - yTrain1_loss: 0.1827 - yTrain2_loss: 0.6148 - yTrain3_loss: 0.6907 - yTrain4_loss: 0.6935 - yTrain5_loss: 0.6936 - yTrain6_loss: 0.6935 - yTrain7_loss: 0.6936 - yTrain0_acc: 0.9972 - yTrain1_acc: 0.9846 - yTrain2_acc: 0.6444 - yTrain3_acc: 0.5102 - yTrain4_acc: 0.4933 - yTrain5_acc: 0.4983 - yTrain6_acc: 0.4970 - yTrain7_acc: 0.5022     \n",
      "Epoch 22/1000\n",
      "10201/10201 [==============================] - 7s - loss: 4.2857 - yTrain0_loss: 0.0296 - yTrain1_loss: 0.1798 - yTrain2_loss: 0.6108 - yTrain3_loss: 0.6906 - yTrain4_loss: 0.6934 - yTrain5_loss: 0.6937 - yTrain6_loss: 0.6938 - yTrain7_loss: 0.6940 - yTrain0_acc: 0.9978 - yTrain1_acc: 0.9833 - yTrain2_acc: 0.6412 - yTrain3_acc: 0.5037 - yTrain4_acc: 0.5087 - yTrain5_acc: 0.4993 - yTrain6_acc: 0.5044 - yTrain7_acc: 0.4946     \n",
      "Epoch 23/1000\n",
      "10201/10201 [==============================] - 7s - loss: 4.2793 - yTrain0_loss: 0.0291 - yTrain1_loss: 0.1781 - yTrain2_loss: 0.6075 - yTrain3_loss: 0.6900 - yTrain4_loss: 0.6933 - yTrain5_loss: 0.6937 - yTrain6_loss: 0.6939 - yTrain7_loss: 0.6937 - yTrain0_acc: 0.9958 - yTrain1_acc: 0.9819 - yTrain2_acc: 0.6416 - yTrain3_acc: 0.5177 - yTrain4_acc: 0.5029 - yTrain5_acc: 0.5000 - yTrain6_acc: 0.4972 - yTrain7_acc: 0.5031     \n",
      "Epoch 24/1000\n",
      "10201/10201 [==============================] - 7s - loss: 4.2718 - yTrain0_loss: 0.0282 - yTrain1_loss: 0.1756 - yTrain2_loss: 0.6041 - yTrain3_loss: 0.6900 - yTrain4_loss: 0.6930 - yTrain5_loss: 0.6937 - yTrain6_loss: 0.6936 - yTrain7_loss: 0.6935 - yTrain0_acc: 0.9985 - yTrain1_acc: 0.9816 - yTrain2_acc: 0.6534 - yTrain3_acc: 0.5024 - yTrain4_acc: 0.5143 - yTrain5_acc: 0.5022 - yTrain6_acc: 0.5042 - yTrain7_acc: 0.5014     \n",
      "Epoch 25/1000\n",
      "10201/10201 [==============================] - 7s - loss: 4.2662 - yTrain0_loss: 0.0275 - yTrain1_loss: 0.1741 - yTrain2_loss: 0.6004 - yTrain3_loss: 0.6896 - yTrain4_loss: 0.6931 - yTrain5_loss: 0.6939 - yTrain6_loss: 0.6939 - yTrain7_loss: 0.6936 - yTrain0_acc: 0.9981 - yTrain1_acc: 0.9827 - yTrain2_acc: 0.6574 - yTrain3_acc: 0.5135 - yTrain4_acc: 0.5062 - yTrain5_acc: 0.4996 - yTrain6_acc: 0.4923 - yTrain7_acc: 0.4978     \n",
      "Epoch 26/1000\n",
      "10201/10201 [==============================] - 7s - loss: 4.2611 - yTrain0_loss: 0.0269 - yTrain1_loss: 0.1728 - yTrain2_loss: 0.5977 - yTrain3_loss: 0.6895 - yTrain4_loss: 0.6931 - yTrain5_loss: 0.6935 - yTrain6_loss: 0.6940 - yTrain7_loss: 0.6936 - yTrain0_acc: 0.9982 - yTrain1_acc: 0.9843 - yTrain2_acc: 0.6475 - yTrain3_acc: 0.5062 - yTrain4_acc: 0.5041 - yTrain5_acc: 0.5048 - yTrain6_acc: 0.5011 - yTrain7_acc: 0.4951     \n",
      "Epoch 27/1000\n",
      "10201/10201 [==============================] - 7s - loss: 4.2556 - yTrain0_loss: 0.0264 - yTrain1_loss: 0.1715 - yTrain2_loss: 0.5946 - yTrain3_loss: 0.6893 - yTrain4_loss: 0.6929 - yTrain5_loss: 0.6936 - yTrain6_loss: 0.6938 - yTrain7_loss: 0.6936 - yTrain0_acc: 0.9975 - yTrain1_acc: 0.9821 - yTrain2_acc: 0.6547 - yTrain3_acc: 0.5145 - yTrain4_acc: 0.5105 - yTrain5_acc: 0.5049 - yTrain6_acc: 0.5003 - yTrain7_acc: 0.5020     \n",
      "Epoch 28/1000\n",
      "10201/10201 [==============================] - 8s - loss: 4.2521 - yTrain0_loss: 0.0261 - yTrain1_loss: 0.1706 - yTrain2_loss: 0.5917 - yTrain3_loss: 0.6893 - yTrain4_loss: 0.6932 - yTrain5_loss: 0.6937 - yTrain6_loss: 0.6937 - yTrain7_loss: 0.6938 - yTrain0_acc: 0.9974 - yTrain1_acc: 0.9810 - yTrain2_acc: 0.6693 - yTrain3_acc: 0.5207 - yTrain4_acc: 0.5076 - yTrain5_acc: 0.4980 - yTrain6_acc: 0.4912 - yTrain7_acc: 0.4926     - ETA: 0s - loss: 4.2582 - yTrain0_loss: 0.0263 - yTrain1_loss: 0.1755 - yTrain2_loss: 0.5926 - yTrain3_loss: 0.6893 - yTrain4_loss: 0.6932 - yTrain5_loss: 0.6936 - yTrain6_loss: 0.6938 - yTrain7_loss: 0.6939 - yTrain0_acc: 0.9975 - yTrain1_acc: 0.9808 - yTrain2_acc: 0.6690 - yTrain3_acc: 0.5226 - yTrain4_acc: 0.5078 - yTrain5_acc: 0.4979 - yTrain6_acc: 0.4927 - yTrain7_\n",
      "Epoch 29/1000\n",
      "10201/10201 [==============================] - 7s - loss: 4.2465 - yTrain0_loss: 0.0252 - yTrain1_loss: 0.1689 - yTrain2_loss: 0.5892 - yTrain3_loss: 0.6887 - yTrain4_loss: 0.6932 - yTrain5_loss: 0.6935 - yTrain6_loss: 0.6937 - yTrain7_loss: 0.6941 - yTrain0_acc: 0.9962 - yTrain1_acc: 0.9832 - yTrain2_acc: 0.6543 - yTrain3_acc: 0.5122 - yTrain4_acc: 0.5109 - yTrain5_acc: 0.4933 - yTrain6_acc: 0.4969 - yTrain7_acc: 0.4922     \n",
      "Epoch 30/1000\n",
      "10201/10201 [==============================] - 8s - loss: 4.2405 - yTrain0_loss: 0.0245 - yTrain1_loss: 0.1677 - yTrain2_loss: 0.5857 - yTrain3_loss: 0.6888 - yTrain4_loss: 0.6931 - yTrain5_loss: 0.6932 - yTrain6_loss: 0.6938 - yTrain7_loss: 0.6937 - yTrain0_acc: 0.9974 - yTrain1_acc: 0.9839 - yTrain2_acc: 0.6695 - yTrain3_acc: 0.5165 - yTrain4_acc: 0.5039 - yTrain5_acc: 0.5059 - yTrain6_acc: 0.5003 - yTrain7_acc: 0.5001     \n",
      "Epoch 31/1000\n",
      "10201/10201 [==============================] - 7s - loss: 4.2369 - yTrain0_loss: 0.0243 - yTrain1_loss: 0.1673 - yTrain2_loss: 0.5827 - yTrain3_loss: 0.6887 - yTrain4_loss: 0.6929 - yTrain5_loss: 0.6935 - yTrain6_loss: 0.6935 - yTrain7_loss: 0.6940 - yTrain0_acc: 0.9965 - yTrain1_acc: 0.9846 - yTrain2_acc: 0.6733 - yTrain3_acc: 0.5190 - yTrain4_acc: 0.5053 - yTrain5_acc: 0.4992 - yTrain6_acc: 0.5065 - yTrain7_acc: 0.4931     \n",
      "Epoch 32/1000\n",
      "10201/10201 [==============================] - 8s - loss: 4.2318 - yTrain0_loss: 0.0238 - yTrain1_loss: 0.1653 - yTrain2_loss: 0.5795 - yTrain3_loss: 0.6883 - yTrain4_loss: 0.6932 - yTrain5_loss: 0.6934 - yTrain6_loss: 0.6941 - yTrain7_loss: 0.6941 - yTrain0_acc: 0.9968 - yTrain1_acc: 0.9892 - yTrain2_acc: 0.6692 - yTrain3_acc: 0.5398 - yTrain4_acc: 0.5029 - yTrain5_acc: 0.5000 - yTrain6_acc: 0.4928 - yTrain7_acc: 0.4913     \n",
      "Epoch 33/1000\n",
      "10201/10201 [==============================] - 8s - loss: 4.2240 - yTrain0_loss: 0.0230 - yTrain1_loss: 0.1614 - yTrain2_loss: 0.5769 - yTrain3_loss: 0.6877 - yTrain4_loss: 0.6933 - yTrain5_loss: 0.6938 - yTrain6_loss: 0.6940 - yTrain7_loss: 0.6938 - yTrain0_acc: 0.9977 - yTrain1_acc: 0.9916 - yTrain2_acc: 0.6696 - yTrain3_acc: 0.5404 - yTrain4_acc: 0.5064 - yTrain5_acc: 0.4994 - yTrain6_acc: 0.4964 - yTrain7_acc: 0.5020     \n",
      "Epoch 34/1000\n"
     ]
    },
    {
     "name": "stdout",
     "output_type": "stream",
     "text": [
      "10201/10201 [==============================] - 7s - loss: 4.2162 - yTrain0_loss: 0.0223 - yTrain1_loss: 0.1577 - yTrain2_loss: 0.5741 - yTrain3_loss: 0.6877 - yTrain4_loss: 0.6931 - yTrain5_loss: 0.6938 - yTrain6_loss: 0.6936 - yTrain7_loss: 0.6939 - yTrain0_acc: 0.9985 - yTrain1_acc: 0.9911 - yTrain2_acc: 0.6668 - yTrain3_acc: 0.5418 - yTrain4_acc: 0.4998 - yTrain5_acc: 0.4982 - yTrain6_acc: 0.5019 - yTrain7_acc: 0.5000     \n",
      "Epoch 35/1000\n",
      "10201/10201 [==============================] - 7s - loss: 4.2103 - yTrain0_loss: 0.0221 - yTrain1_loss: 0.1550 - yTrain2_loss: 0.5710 - yTrain3_loss: 0.6875 - yTrain4_loss: 0.6932 - yTrain5_loss: 0.6936 - yTrain6_loss: 0.6940 - yTrain7_loss: 0.6938 - yTrain0_acc: 0.9970 - yTrain1_acc: 0.9909 - yTrain2_acc: 0.6706 - yTrain3_acc: 0.5578 - yTrain4_acc: 0.5127 - yTrain5_acc: 0.5011 - yTrain6_acc: 0.4987 - yTrain7_acc: 0.4993     - ETA: 4s - loss: 4.2184 - yTrain0_loss: 0.0227 - yTrain1_loss: 0.1631 - yTrain2_loss: 0.5716 - yTrain3_loss: 0.6862 - yTrain4_loss: 0.6931 - yTrain5_loss: 0.6938 - yTrain6_loss: 0.6940 - yTrain7_loss: 0.6939 - yTrain0_acc: 0.9972 - yTrain1_acc: 0.9904 - yTrain2_acc: 0.6674 - yTrain3_acc: 0.5576 - yTrain4_acc: 0.5107 - yTrain5_acc: 0.4953 - yTrain6_acc: 0.4981 - yTrain7_ - ETA: 3s - loss: 4.2164 - yTrain0_loss: 0.0226 - yTrain1_loss: 0.1600 - yTrain2_loss: 0.5722 - yTrain3_loss: 0.6872 - yTrain4_loss: 0.6932 - yTrain5_loss: 0.6938 - yTrain6_loss: 0.6939 - yTrain7_loss: 0.6936 - yTrain0_acc: 0.9968 - yTrain1_acc: 0.9907 - yTrain2_acc: 0.6640 - yTrain3_acc: 0.5519 - yTrain4_acc: 0.5104 - yTrain5_acc: 0.4 - ETA: 0s - loss: 4.2093 - yTrain0_loss: 0.0221 - yTrain1_loss: 0.1545 - yTrain2_loss: 0.5706 - yTrain3_loss: 0.6875 - yTrain4_loss: 0.6931 - yTrain5_loss: 0.6936 - yTrain6_loss: 0.6940 - yTrain7_loss: 0.6938 - yTrain0_acc: 0.9969 - yTrain1_acc: 0.9908 - yTrain2_acc: 0.6715 - yTrain3_acc: 0.5558 - yTrain4_acc: 0.5133 - yTrain5_acc: 0.5012 - yTrain6_acc: 0.4970 - yTrain7_acc:\n",
      "Epoch 36/1000\n",
      "10201/10201 [==============================] - 7s - loss: 4.2039 - yTrain0_loss: 0.0215 - yTrain1_loss: 0.1520 - yTrain2_loss: 0.5687 - yTrain3_loss: 0.6870 - yTrain4_loss: 0.6934 - yTrain5_loss: 0.6936 - yTrain6_loss: 0.6938 - yTrain7_loss: 0.6937 - yTrain0_acc: 0.9981 - yTrain1_acc: 0.9928 - yTrain2_acc: 0.6636 - yTrain3_acc: 0.5448 - yTrain4_acc: 0.5031 - yTrain5_acc: 0.4889 - yTrain6_acc: 0.4969 - yTrain7_acc: 0.5009     \n",
      "Epoch 37/1000\n",
      " 4416/10201 [===========>..................] - ETA: 4s - loss: 4.2070 - yTrain0_loss: 0.0216 - yTrain1_loss: 0.1614 - yTrain2_loss: 0.5637 - yTrain3_loss: 0.6859 - yTrain4_loss: 0.6929 - yTrain5_loss: 0.6937 - yTrain6_loss: 0.6941 - yTrain7_loss: 0.6937 - yTrain0_acc: 0.9971 - yTrain1_acc: 0.9903 - yTrain2_acc: 0.6796 - yTrain3_acc: 0.5546 - yTrain4_acc: 0.5086 - yTrain5_acc: 0.4975 - yTrain6_acc: 0.4896 - yTrain7_acc: 0.4918"
     ]
    },
    {
     "ename": "KeyboardInterrupt",
     "evalue": "",
     "output_type": "error",
     "traceback": [
      "\u001b[1;31m---------------------------------------------------------------------------\u001b[0m",
      "\u001b[1;31mKeyboardInterrupt\u001b[0m                         Traceback (most recent call last)",
      "\u001b[1;32m<ipython-input-12-ce413cbdcbde>\u001b[0m in \u001b[0;36m<module>\u001b[1;34m()\u001b[0m\n\u001b[0;32m     49\u001b[0m \u001b[1;31m#K.set_value(model.optimizer.lr, 0.3)\u001b[0m\u001b[1;33m\u001b[0m\u001b[1;33m\u001b[0m\u001b[0m\n\u001b[0;32m     50\u001b[0m \u001b[1;33m\u001b[0m\u001b[0m\n\u001b[1;32m---> 51\u001b[1;33m \u001b[0mmodel\u001b[0m\u001b[1;33m.\u001b[0m\u001b[0mfit\u001b[0m\u001b[1;33m(\u001b[0m\u001b[0mxtrain\u001b[0m\u001b[1;33m,\u001b[0m\u001b[1;33m{\u001b[0m\u001b[1;34m'yTrain0'\u001b[0m\u001b[1;33m:\u001b[0m\u001b[0mytrain0\u001b[0m\u001b[1;33m,\u001b[0m\u001b[1;34m'yTrain1'\u001b[0m\u001b[1;33m:\u001b[0m\u001b[0mytrain1\u001b[0m\u001b[1;33m,\u001b[0m\u001b[1;34m'yTrain2'\u001b[0m\u001b[1;33m:\u001b[0m\u001b[0mytrain2\u001b[0m\u001b[1;33m,\u001b[0m\u001b[1;34m'yTrain3'\u001b[0m\u001b[1;33m:\u001b[0m\u001b[0mytrain3\u001b[0m\u001b[1;33m,\u001b[0m\u001b[1;34m'yTrain4'\u001b[0m\u001b[1;33m:\u001b[0m\u001b[0mytrain4\u001b[0m\u001b[1;33m,\u001b[0m\u001b[1;34m'yTrain5'\u001b[0m\u001b[1;33m:\u001b[0m\u001b[0mytrain5\u001b[0m\u001b[1;33m,\u001b[0m\u001b[1;34m'yTrain6'\u001b[0m\u001b[1;33m:\u001b[0m\u001b[0mytrain6\u001b[0m\u001b[1;33m,\u001b[0m\u001b[1;34m'yTrain7'\u001b[0m\u001b[1;33m:\u001b[0m\u001b[0mytrain7\u001b[0m\u001b[1;33m}\u001b[0m\u001b[1;33m,\u001b[0m\u001b[0mbatch_size\u001b[0m\u001b[1;33m=\u001b[0m\u001b[1;36m32\u001b[0m\u001b[1;33m,\u001b[0m\u001b[0mepochs\u001b[0m\u001b[1;33m=\u001b[0m\u001b[1;36m1000\u001b[0m\u001b[1;33m)\u001b[0m\u001b[1;33m\u001b[0m\u001b[0m\n\u001b[0m",
      "\u001b[1;32mC:\\Users\\HuaSheng\\AppData\\Local\\conda\\conda\\envs\\tfkeras\\lib\\site-packages\\keras\\engine\\training.py\u001b[0m in \u001b[0;36mfit\u001b[1;34m(self, x, y, batch_size, epochs, verbose, callbacks, validation_split, validation_data, shuffle, class_weight, sample_weight, initial_epoch, **kwargs)\u001b[0m\n\u001b[0;32m   1505\u001b[0m                               \u001b[0mval_f\u001b[0m\u001b[1;33m=\u001b[0m\u001b[0mval_f\u001b[0m\u001b[1;33m,\u001b[0m \u001b[0mval_ins\u001b[0m\u001b[1;33m=\u001b[0m\u001b[0mval_ins\u001b[0m\u001b[1;33m,\u001b[0m \u001b[0mshuffle\u001b[0m\u001b[1;33m=\u001b[0m\u001b[0mshuffle\u001b[0m\u001b[1;33m,\u001b[0m\u001b[1;33m\u001b[0m\u001b[0m\n\u001b[0;32m   1506\u001b[0m                               \u001b[0mcallback_metrics\u001b[0m\u001b[1;33m=\u001b[0m\u001b[0mcallback_metrics\u001b[0m\u001b[1;33m,\u001b[0m\u001b[1;33m\u001b[0m\u001b[0m\n\u001b[1;32m-> 1507\u001b[1;33m                               initial_epoch=initial_epoch)\n\u001b[0m\u001b[0;32m   1508\u001b[0m \u001b[1;33m\u001b[0m\u001b[0m\n\u001b[0;32m   1509\u001b[0m     \u001b[1;32mdef\u001b[0m \u001b[0mevaluate\u001b[0m\u001b[1;33m(\u001b[0m\u001b[0mself\u001b[0m\u001b[1;33m,\u001b[0m \u001b[0mx\u001b[0m\u001b[1;33m,\u001b[0m \u001b[0my\u001b[0m\u001b[1;33m,\u001b[0m \u001b[0mbatch_size\u001b[0m\u001b[1;33m=\u001b[0m\u001b[1;36m32\u001b[0m\u001b[1;33m,\u001b[0m \u001b[0mverbose\u001b[0m\u001b[1;33m=\u001b[0m\u001b[1;36m1\u001b[0m\u001b[1;33m,\u001b[0m \u001b[0msample_weight\u001b[0m\u001b[1;33m=\u001b[0m\u001b[1;32mNone\u001b[0m\u001b[1;33m)\u001b[0m\u001b[1;33m:\u001b[0m\u001b[1;33m\u001b[0m\u001b[0m\n",
      "\u001b[1;32mC:\\Users\\HuaSheng\\AppData\\Local\\conda\\conda\\envs\\tfkeras\\lib\\site-packages\\keras\\engine\\training.py\u001b[0m in \u001b[0;36m_fit_loop\u001b[1;34m(self, f, ins, out_labels, batch_size, epochs, verbose, callbacks, val_f, val_ins, shuffle, callback_metrics, initial_epoch)\u001b[0m\n\u001b[0;32m   1154\u001b[0m                 \u001b[0mbatch_logs\u001b[0m\u001b[1;33m[\u001b[0m\u001b[1;34m'size'\u001b[0m\u001b[1;33m]\u001b[0m \u001b[1;33m=\u001b[0m \u001b[0mlen\u001b[0m\u001b[1;33m(\u001b[0m\u001b[0mbatch_ids\u001b[0m\u001b[1;33m)\u001b[0m\u001b[1;33m\u001b[0m\u001b[0m\n\u001b[0;32m   1155\u001b[0m                 \u001b[0mcallbacks\u001b[0m\u001b[1;33m.\u001b[0m\u001b[0mon_batch_begin\u001b[0m\u001b[1;33m(\u001b[0m\u001b[0mbatch_index\u001b[0m\u001b[1;33m,\u001b[0m \u001b[0mbatch_logs\u001b[0m\u001b[1;33m)\u001b[0m\u001b[1;33m\u001b[0m\u001b[0m\n\u001b[1;32m-> 1156\u001b[1;33m                 \u001b[0mouts\u001b[0m \u001b[1;33m=\u001b[0m \u001b[0mf\u001b[0m\u001b[1;33m(\u001b[0m\u001b[0mins_batch\u001b[0m\u001b[1;33m)\u001b[0m\u001b[1;33m\u001b[0m\u001b[0m\n\u001b[0m\u001b[0;32m   1157\u001b[0m                 \u001b[1;32mif\u001b[0m \u001b[1;32mnot\u001b[0m \u001b[0misinstance\u001b[0m\u001b[1;33m(\u001b[0m\u001b[0mouts\u001b[0m\u001b[1;33m,\u001b[0m \u001b[0mlist\u001b[0m\u001b[1;33m)\u001b[0m\u001b[1;33m:\u001b[0m\u001b[1;33m\u001b[0m\u001b[0m\n\u001b[0;32m   1158\u001b[0m                     \u001b[0mouts\u001b[0m \u001b[1;33m=\u001b[0m \u001b[1;33m[\u001b[0m\u001b[0mouts\u001b[0m\u001b[1;33m]\u001b[0m\u001b[1;33m\u001b[0m\u001b[0m\n",
      "\u001b[1;32mC:\\Users\\HuaSheng\\AppData\\Local\\conda\\conda\\envs\\tfkeras\\lib\\site-packages\\keras\\backend\\tensorflow_backend.py\u001b[0m in \u001b[0;36m__call__\u001b[1;34m(self, inputs)\u001b[0m\n\u001b[0;32m   2267\u001b[0m         updated = session.run(self.outputs + [self.updates_op],\n\u001b[0;32m   2268\u001b[0m                               \u001b[0mfeed_dict\u001b[0m\u001b[1;33m=\u001b[0m\u001b[0mfeed_dict\u001b[0m\u001b[1;33m,\u001b[0m\u001b[1;33m\u001b[0m\u001b[0m\n\u001b[1;32m-> 2269\u001b[1;33m                               **self.session_kwargs)\n\u001b[0m\u001b[0;32m   2270\u001b[0m         \u001b[1;32mreturn\u001b[0m \u001b[0mupdated\u001b[0m\u001b[1;33m[\u001b[0m\u001b[1;33m:\u001b[0m\u001b[0mlen\u001b[0m\u001b[1;33m(\u001b[0m\u001b[0mself\u001b[0m\u001b[1;33m.\u001b[0m\u001b[0moutputs\u001b[0m\u001b[1;33m)\u001b[0m\u001b[1;33m]\u001b[0m\u001b[1;33m\u001b[0m\u001b[0m\n\u001b[0;32m   2271\u001b[0m \u001b[1;33m\u001b[0m\u001b[0m\n",
      "\u001b[1;32mC:\\Users\\HuaSheng\\AppData\\Local\\conda\\conda\\envs\\tfkeras\\lib\\site-packages\\tensorflow\\python\\client\\session.py\u001b[0m in \u001b[0;36mrun\u001b[1;34m(self, fetches, feed_dict, options, run_metadata)\u001b[0m\n\u001b[0;32m    787\u001b[0m     \u001b[1;32mtry\u001b[0m\u001b[1;33m:\u001b[0m\u001b[1;33m\u001b[0m\u001b[0m\n\u001b[0;32m    788\u001b[0m       result = self._run(None, fetches, feed_dict, options_ptr,\n\u001b[1;32m--> 789\u001b[1;33m                          run_metadata_ptr)\n\u001b[0m\u001b[0;32m    790\u001b[0m       \u001b[1;32mif\u001b[0m \u001b[0mrun_metadata\u001b[0m\u001b[1;33m:\u001b[0m\u001b[1;33m\u001b[0m\u001b[0m\n\u001b[0;32m    791\u001b[0m         \u001b[0mproto_data\u001b[0m \u001b[1;33m=\u001b[0m \u001b[0mtf_session\u001b[0m\u001b[1;33m.\u001b[0m\u001b[0mTF_GetBuffer\u001b[0m\u001b[1;33m(\u001b[0m\u001b[0mrun_metadata_ptr\u001b[0m\u001b[1;33m)\u001b[0m\u001b[1;33m\u001b[0m\u001b[0m\n",
      "\u001b[1;32mC:\\Users\\HuaSheng\\AppData\\Local\\conda\\conda\\envs\\tfkeras\\lib\\site-packages\\tensorflow\\python\\client\\session.py\u001b[0m in \u001b[0;36m_run\u001b[1;34m(self, handle, fetches, feed_dict, options, run_metadata)\u001b[0m\n\u001b[0;32m    995\u001b[0m     \u001b[1;32mif\u001b[0m \u001b[0mfinal_fetches\u001b[0m \u001b[1;32mor\u001b[0m \u001b[0mfinal_targets\u001b[0m\u001b[1;33m:\u001b[0m\u001b[1;33m\u001b[0m\u001b[0m\n\u001b[0;32m    996\u001b[0m       results = self._do_run(handle, final_targets, final_fetches,\n\u001b[1;32m--> 997\u001b[1;33m                              feed_dict_string, options, run_metadata)\n\u001b[0m\u001b[0;32m    998\u001b[0m     \u001b[1;32melse\u001b[0m\u001b[1;33m:\u001b[0m\u001b[1;33m\u001b[0m\u001b[0m\n\u001b[0;32m    999\u001b[0m       \u001b[0mresults\u001b[0m \u001b[1;33m=\u001b[0m \u001b[1;33m[\u001b[0m\u001b[1;33m]\u001b[0m\u001b[1;33m\u001b[0m\u001b[0m\n",
      "\u001b[1;32mC:\\Users\\HuaSheng\\AppData\\Local\\conda\\conda\\envs\\tfkeras\\lib\\site-packages\\tensorflow\\python\\client\\session.py\u001b[0m in \u001b[0;36m_do_run\u001b[1;34m(self, handle, target_list, fetch_list, feed_dict, options, run_metadata)\u001b[0m\n\u001b[0;32m   1130\u001b[0m     \u001b[1;32mif\u001b[0m \u001b[0mhandle\u001b[0m \u001b[1;32mis\u001b[0m \u001b[1;32mNone\u001b[0m\u001b[1;33m:\u001b[0m\u001b[1;33m\u001b[0m\u001b[0m\n\u001b[0;32m   1131\u001b[0m       return self._do_call(_run_fn, self._session, feed_dict, fetch_list,\n\u001b[1;32m-> 1132\u001b[1;33m                            target_list, options, run_metadata)\n\u001b[0m\u001b[0;32m   1133\u001b[0m     \u001b[1;32melse\u001b[0m\u001b[1;33m:\u001b[0m\u001b[1;33m\u001b[0m\u001b[0m\n\u001b[0;32m   1134\u001b[0m       return self._do_call(_prun_fn, self._session, handle, feed_dict,\n",
      "\u001b[1;32mC:\\Users\\HuaSheng\\AppData\\Local\\conda\\conda\\envs\\tfkeras\\lib\\site-packages\\tensorflow\\python\\client\\session.py\u001b[0m in \u001b[0;36m_do_call\u001b[1;34m(self, fn, *args)\u001b[0m\n\u001b[0;32m   1137\u001b[0m   \u001b[1;32mdef\u001b[0m \u001b[0m_do_call\u001b[0m\u001b[1;33m(\u001b[0m\u001b[0mself\u001b[0m\u001b[1;33m,\u001b[0m \u001b[0mfn\u001b[0m\u001b[1;33m,\u001b[0m \u001b[1;33m*\u001b[0m\u001b[0margs\u001b[0m\u001b[1;33m)\u001b[0m\u001b[1;33m:\u001b[0m\u001b[1;33m\u001b[0m\u001b[0m\n\u001b[0;32m   1138\u001b[0m     \u001b[1;32mtry\u001b[0m\u001b[1;33m:\u001b[0m\u001b[1;33m\u001b[0m\u001b[0m\n\u001b[1;32m-> 1139\u001b[1;33m       \u001b[1;32mreturn\u001b[0m \u001b[0mfn\u001b[0m\u001b[1;33m(\u001b[0m\u001b[1;33m*\u001b[0m\u001b[0margs\u001b[0m\u001b[1;33m)\u001b[0m\u001b[1;33m\u001b[0m\u001b[0m\n\u001b[0m\u001b[0;32m   1140\u001b[0m     \u001b[1;32mexcept\u001b[0m \u001b[0merrors\u001b[0m\u001b[1;33m.\u001b[0m\u001b[0mOpError\u001b[0m \u001b[1;32mas\u001b[0m \u001b[0me\u001b[0m\u001b[1;33m:\u001b[0m\u001b[1;33m\u001b[0m\u001b[0m\n\u001b[0;32m   1141\u001b[0m       \u001b[0mmessage\u001b[0m \u001b[1;33m=\u001b[0m \u001b[0mcompat\u001b[0m\u001b[1;33m.\u001b[0m\u001b[0mas_text\u001b[0m\u001b[1;33m(\u001b[0m\u001b[0me\u001b[0m\u001b[1;33m.\u001b[0m\u001b[0mmessage\u001b[0m\u001b[1;33m)\u001b[0m\u001b[1;33m\u001b[0m\u001b[0m\n",
      "\u001b[1;32mC:\\Users\\HuaSheng\\AppData\\Local\\conda\\conda\\envs\\tfkeras\\lib\\site-packages\\tensorflow\\python\\client\\session.py\u001b[0m in \u001b[0;36m_run_fn\u001b[1;34m(session, feed_dict, fetch_list, target_list, options, run_metadata)\u001b[0m\n\u001b[0;32m   1119\u001b[0m         return tf_session.TF_Run(session, options,\n\u001b[0;32m   1120\u001b[0m                                  \u001b[0mfeed_dict\u001b[0m\u001b[1;33m,\u001b[0m \u001b[0mfetch_list\u001b[0m\u001b[1;33m,\u001b[0m \u001b[0mtarget_list\u001b[0m\u001b[1;33m,\u001b[0m\u001b[1;33m\u001b[0m\u001b[0m\n\u001b[1;32m-> 1121\u001b[1;33m                                  status, run_metadata)\n\u001b[0m\u001b[0;32m   1122\u001b[0m \u001b[1;33m\u001b[0m\u001b[0m\n\u001b[0;32m   1123\u001b[0m     \u001b[1;32mdef\u001b[0m \u001b[0m_prun_fn\u001b[0m\u001b[1;33m(\u001b[0m\u001b[0msession\u001b[0m\u001b[1;33m,\u001b[0m \u001b[0mhandle\u001b[0m\u001b[1;33m,\u001b[0m \u001b[0mfeed_dict\u001b[0m\u001b[1;33m,\u001b[0m \u001b[0mfetch_list\u001b[0m\u001b[1;33m)\u001b[0m\u001b[1;33m:\u001b[0m\u001b[1;33m\u001b[0m\u001b[0m\n",
      "\u001b[1;31mKeyboardInterrupt\u001b[0m: "
     ]
    }
   ],
   "source": [
    "dataIdx = np.random.permutation(len(total))\n",
    "x1 = np.array(x1)\n",
    "x2 = np.array(x2)\n",
    "total = np.array(total)\n",
    "xtrain = np.hstack((x1[dataIdx,np.newaxis],x2[dataIdx,np.newaxis]))\n",
    "ytrain0 = total[dataIdx,0]\n",
    "ytrain1 = total[dataIdx,1]\n",
    "ytrain2 = total[dataIdx,2]\n",
    "ytrain3 = total[dataIdx,3]\n",
    "ytrain4 = total[dataIdx,4]\n",
    "ytrain5 = total[dataIdx,5]\n",
    "ytrain6 = total[dataIdx,6]\n",
    "ytrain7 = total[dataIdx,7]\n",
    "\n",
    "ytrain0 = keras.utils.to_categorical(ytrain0,2)\n",
    "ytrain1 = keras.utils.to_categorical(ytrain1,2)\n",
    "ytrain2 = keras.utils.to_categorical(ytrain2,2)\n",
    "ytrain3 = keras.utils.to_categorical(ytrain3,2)\n",
    "ytrain4 = keras.utils.to_categorical(ytrain4,2)\n",
    "ytrain5 = keras.utils.to_categorical(ytrain5,2)\n",
    "ytrain6 = keras.utils.to_categorical(ytrain6,2)\n",
    "ytrain7 = keras.utils.to_categorical(ytrain7,2)\n",
    "xtrain = np.divide(xtrain,100)\n",
    "\n",
    "\n",
    "print(xtrain[50])\n",
    "print(np.argmax(ytrain0[50]))\n",
    "\n",
    "\n",
    "print(xtrain.shape)\n",
    "print(ytrain0.shape)\n",
    "\n",
    "\n",
    "\n",
    "inp = Input(shape=(2,))\n",
    "x = Dense(1,activation='relu')(inp)\n",
    "x2 = Dense(20,activation='relu')(x)\n",
    "\n",
    "out0 = Dense(2,activation = 'softmax',name ='yTrain0')(x2)\n",
    "out1 = Dense(2,activation = 'softmax',name ='yTrain1')(x2)\n",
    "out2 = Dense(2,activation = 'softmax',name ='yTrain2')(x2)\n",
    "out3 = Dense(2,activation = 'softmax',name ='yTrain3')(x2)\n",
    "out4 = Dense(2,activation = 'softmax',name ='yTrain4')(x2)\n",
    "out5 = Dense(2,activation = 'softmax',name ='yTrain5')(x2)\n",
    "out6 = Dense(2,activation = 'softmax',name ='yTrain6')(x2)\n",
    "out7 = Dense(2,activation = 'softmax',name ='yTrain7')(x2)\n",
    "\n",
    "model = Model(inp,[out0,out1,out2,out3,out4,out5,out6,out7])\n",
    "model.compile(optimizer='adam',loss='binary_crossentropy',metrics=['acc'])\n",
    "#K.set_value(model.optimizer.lr, 0.3)\n",
    "\n",
    "model.fit(xtrain,{'yTrain0':ytrain0,'yTrain1':ytrain1,'yTrain2':ytrain2,'yTrain3':ytrain3,'yTrain4':ytrain4,'yTrain5':ytrain5,'yTrain6':ytrain6,'yTrain7':ytrain7},batch_size=32,epochs=1000)"
   ]
  },
  {
   "cell_type": "code",
   "execution_count": null,
   "metadata": {
    "collapsed": true
   },
   "outputs": [],
   "source": [
    "dataIdx = np.random.permutation(len(total))\n",
    "x1 = np.array(x1)\n",
    "x2 = np.array(x2)\n",
    "total = np.array(total)\n",
    "xtrain = np.hstack((x1[dataIdx,np.newaxis],x2[dataIdx,np.newaxis]))\n",
    "ytrain = total[dataIdx]\n",
    "print(xtrain.shape)\n",
    "print(ytrain.shape)\n",
    "\n",
    "\n",
    "\n",
    "inp = Input(shape=(2,))\n",
    "x = Dense(100,activation='relu')(inp)\n",
    "x = Dense(100,activation='relu')(x)\n",
    "x = Dense(100,activation='relu')(x)\n",
    "out = Dense(1)(x)\n",
    "\n",
    "model = Model(inp,out)\n",
    "model.compile(optimizer='adam',loss='mse',metrics=['acc'])\n",
    "model.fit(xtrain,ytrain,batch_size=2,epochs=5)"
   ]
  },
  {
   "cell_type": "code",
   "execution_count": null,
   "metadata": {
    "collapsed": true
   },
   "outputs": [],
   "source": [
    "%matplotlib inline\n",
    "import matplotlib.pyplot as plt\n",
    "\n",
    "import keras\n",
    "from keras.models import Model, Sequential\n",
    "from keras.layers import *\n",
    "from keras.optimizers import Adam\n",
    "\n",
    "import tensorflow as tf\n",
    "import numpy as np\n",
    "\n",
    "def addDS():\n",
    "    total = []\n",
    "    src1 =[]\n",
    "    src2 =[]\n",
    "    x1 = np.arange(0,101)\n",
    "    x2 = np.arange(0,101)\n",
    "    for u  in x1:\n",
    "        for v in x2:\n",
    "            total += [u+v]\n",
    "            src1 += [u]\n",
    "            src2 += [v]\n",
    "    return total,src1,src2\n",
    "\n",
    "total,x1,x2 = addDS()\n",
    "print(len(total))\n",
    "\n",
    "dataIdx = np.random.permutation(len(total))\n",
    "x1 = np.array(x1)\n",
    "x2 = np.array(x2)\n",
    "x1 =keras.utils.to_categorical(x1,101)\n",
    "x2 =keras.utils.to_categorical(x2,101)\n",
    "print(x1.shape)"
   ]
  },
  {
   "cell_type": "code",
   "execution_count": null,
   "metadata": {
    "collapsed": true
   },
   "outputs": [],
   "source": [
    "xtrain = np.hstack((x1[dataIdx,:],x2[dataIdx,:]))\n",
    "total = np.array(total)\n",
    "ytrain = total[dataIdx]\n",
    "ytrain = keras.utils.to_categorical(ytrain,201)\n",
    "print(xtrain.shape)"
   ]
  },
  {
   "cell_type": "code",
   "execution_count": null,
   "metadata": {
    "collapsed": true
   },
   "outputs": [],
   "source": [
    "print(xtrain[50])\n",
    "print(np.argmax(ytrain[50]))\n",
    "\n",
    "print(xtrain.shape)\n",
    "print(ytrain.shape)\n",
    "\n",
    "\n",
    "inp = Input(shape=(202,))\n",
    "x = Dense(202,activation='tanh')(inp)\n",
    "x = Dense(202,activation='tanh')(x)\n",
    "x = Dense(202,activation='tanh')(x)\n",
    "out = Dense(201,activation = 'softmax')(x)\n",
    "\n",
    "model = Model(inp,out)\n",
    "model.compile(optimizer='adam',loss='categorical_crossentropy',metrics=['acc'])\n",
    "model.fit(xtrain,ytrain,batch_size=2,epochs=5)"
   ]
  },
  {
   "cell_type": "code",
   "execution_count": null,
   "metadata": {
    "collapsed": true
   },
   "outputs": [],
   "source": [
    "a = [ 0, 1,2]\n",
    "b= keras.utils.to_categorical(a,3)\n",
    "print(b)"
   ]
  }
 ],
 "metadata": {
  "kernelspec": {
   "display_name": "Python 3",
   "language": "python",
   "name": "python3"
  },
  "language_info": {
   "codemirror_mode": {
    "name": "ipython",
    "version": 3
   },
   "file_extension": ".py",
   "mimetype": "text/x-python",
   "name": "python",
   "nbconvert_exporter": "python",
   "pygments_lexer": "ipython3",
   "version": "3.5.3"
  }
 },
 "nbformat": 4,
 "nbformat_minor": 2
}
