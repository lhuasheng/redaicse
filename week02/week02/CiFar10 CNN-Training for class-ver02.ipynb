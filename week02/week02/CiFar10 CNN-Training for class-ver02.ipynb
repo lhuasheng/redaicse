{
 "cells": [
  {
   "cell_type": "code",
   "execution_count": 1,
   "metadata": {},
   "outputs": [
    {
     "name": "stderr",
     "output_type": "stream",
     "text": [
      "Using TensorFlow backend.\n"
     ]
    }
   ],
   "source": [
    "%matplotlib inline\n",
    "import matplotlib.pyplot as plt\n",
    "\n",
    "import keras\n",
    "from keras.datasets import cifar10\n",
    "from keras.preprocessing.image import ImageDataGenerator\n",
    "from keras.models import Sequential, Model\n",
    "from keras.layers import Dense, Dropout, Activation, Flatten, Input\n",
    "from keras.layers import Conv2D, MaxPooling2D\n",
    "\n",
    "import tensorflow as tf\n",
    "\n",
    "import os\n",
    "import pickle\n",
    "import numpy as np"
   ]
  },
  {
   "cell_type": "code",
   "execution_count": 2,
   "metadata": {},
   "outputs": [
    {
     "name": "stdout",
     "output_type": "stream",
     "text": [
      "1.2.1\n",
      "2.0.6\n"
     ]
    }
   ],
   "source": [
    "print(tf.__version__)\n",
    "print(keras.__version__)"
   ]
  },
  {
   "cell_type": "code",
   "execution_count": 3,
   "metadata": {
    "collapsed": true
   },
   "outputs": [],
   "source": [
    "batch_size = 32\n",
    "num_classes = 10\n",
    "epochs = 50\n",
    "data_augmentation = True\n",
    "num_predictions = 20\n",
    "save_dir = os.path.join(os.getcwd(), 'saved_models')\n",
    "model_name = 'cifar10_simple_CNN.h5'"
   ]
  },
  {
   "cell_type": "markdown",
   "metadata": {},
   "source": [
    "## Load the dataset\n"
   ]
  },
  {
   "cell_type": "code",
   "execution_count": 4,
   "metadata": {},
   "outputs": [
    {
     "name": "stdout",
     "output_type": "stream",
     "text": [
      "x_train shape: (50000, 32, 32, 3)\n",
      "y_train shape: (50000, 1)\n",
      "50000 train samples\n",
      "10000 test samples\n"
     ]
    }
   ],
   "source": [
    "# The data, shuffled and split between train and test sets:\n",
    "(x_train, y_train), (x_test, y_test) = cifar10.load_data()\n",
    "print('x_train shape:', x_train.shape)\n",
    "print('y_train shape:', y_train.shape)\n",
    "print(x_train.shape[0], 'train samples')\n",
    "print(x_test.shape[0], 'test samples')"
   ]
  },
  {
   "cell_type": "code",
   "execution_count": 5,
   "metadata": {
    "collapsed": true
   },
   "outputs": [],
   "source": [
    "# Convert class vectors to binary class matrices.\n",
    "y_train = keras.utils.to_categorical(y_train, num_classes)\n",
    "y_test = keras.utils.to_categorical(y_test, num_classes)"
   ]
  },
  {
   "cell_type": "markdown",
   "metadata": {},
   "source": [
    "## The Model"
   ]
  },
  {
   "cell_type": "code",
   "execution_count": 6,
   "metadata": {
    "collapsed": true
   },
   "outputs": [],
   "source": [
    "\n",
    "Inp = Input(shape=(32,32,3),name = 'Input_layer')\n",
    "\n",
    "#ConvBlock 01\n",
    "conv01 = Conv2D(32, (3, 3), padding='same',activation = 'relu', input_shape=Inp.shape,name = 'Conv01_layer')(Inp)\n",
    "conv02 = Conv2D(32, (3, 3),activation = 'relu',name = 'Conv02_layer')(conv01)\n",
    "maxpool_01 = MaxPooling2D(pool_size=(2, 2),name = 'MaxPool01_layer')(conv02)\n",
    "drop01 = Dropout(0.25,name = 'Dropout01_layer')(maxpool_01)\n",
    "\n",
    "#Convblock 02\n",
    "conv03 = Conv2D(64, (3, 3), padding='same',activation = 'relu',name = 'Conv03_layer')(drop01)\n",
    "conv04 = Conv2D(64, (3, 3),activation = 'relu',name = 'Conv04_layer')(conv03)\n",
    "maxpool_02 = MaxPooling2D(pool_size=(2, 2),name = 'MaxPool02_layer')(conv04)\n",
    "drop02 = Dropout(0.25,name = 'Dropout02_layer')(maxpool_02)\n",
    "\n",
    "# Fully Connected Dense block\n",
    "x = Flatten(name = 'Flatten_layer')(drop02)\n",
    "x = Dense(512, activation='relu',name = 'Dense01_layer')(x)\n",
    "x = Dropout(0.5,name = 'Dropout03_layer')(x)\n",
    "logits_layer = Dense(num_classes, name= 'logits_layer')(x)\n",
    "output = Activation('softmax',name = 'Sofftmax_layer')(logits_layer)"
   ]
  },
  {
   "cell_type": "code",
   "execution_count": 7,
   "metadata": {
    "collapsed": true
   },
   "outputs": [],
   "source": [
    "# Define model inputs and output\n",
    "model = Model(Inp, output)"
   ]
  },
  {
   "cell_type": "code",
   "execution_count": 8,
   "metadata": {},
   "outputs": [
    {
     "name": "stdout",
     "output_type": "stream",
     "text": [
      "_________________________________________________________________\n",
      "Layer (type)                 Output Shape              Param #   \n",
      "=================================================================\n",
      "Input_layer (InputLayer)     (None, 32, 32, 3)         0         \n",
      "_________________________________________________________________\n",
      "Conv01_layer (Conv2D)        (None, 32, 32, 32)        896       \n",
      "_________________________________________________________________\n",
      "Conv02_layer (Conv2D)        (None, 30, 30, 32)        9248      \n",
      "_________________________________________________________________\n",
      "MaxPool01_layer (MaxPooling2 (None, 15, 15, 32)        0         \n",
      "_________________________________________________________________\n",
      "Dropout01_layer (Dropout)    (None, 15, 15, 32)        0         \n",
      "_________________________________________________________________\n",
      "Conv03_layer (Conv2D)        (None, 15, 15, 64)        18496     \n",
      "_________________________________________________________________\n",
      "Conv04_layer (Conv2D)        (None, 13, 13, 64)        36928     \n",
      "_________________________________________________________________\n",
      "MaxPool02_layer (MaxPooling2 (None, 6, 6, 64)          0         \n",
      "_________________________________________________________________\n",
      "Dropout02_layer (Dropout)    (None, 6, 6, 64)          0         \n",
      "_________________________________________________________________\n",
      "Flatten_layer (Flatten)      (None, 2304)              0         \n",
      "_________________________________________________________________\n",
      "Dense01_layer (Dense)        (None, 512)               1180160   \n",
      "_________________________________________________________________\n",
      "Dropout03_layer (Dropout)    (None, 512)               0         \n",
      "_________________________________________________________________\n",
      "logits_layer (Dense)         (None, 10)                5130      \n",
      "_________________________________________________________________\n",
      "Sofftmax_layer (Activation)  (None, 10)                0         \n",
      "=================================================================\n",
      "Total params: 1,250,858\n",
      "Trainable params: 1,250,858\n",
      "Non-trainable params: 0\n",
      "_________________________________________________________________\n"
     ]
    }
   ],
   "source": [
    "model.summary()"
   ]
  },
  {
   "cell_type": "code",
   "execution_count": 9,
   "metadata": {
    "collapsed": true
   },
   "outputs": [],
   "source": [
    "# initiate RMSprop optimizer\n",
    "opt = keras.optimizers.rmsprop(lr=0.0001, decay=1e-6)\n",
    "\n",
    "# Let's train the model using RMSprop\n",
    "model.compile(loss='categorical_crossentropy',\n",
    "              optimizer=opt,\n",
    "              metrics=['accuracy'])"
   ]
  },
  {
   "cell_type": "code",
   "execution_count": null,
   "metadata": {
    "collapsed": true
   },
   "outputs": [],
   "source": []
  },
  {
   "cell_type": "markdown",
   "metadata": {},
   "source": [
    "## DATA Preproc"
   ]
  },
  {
   "cell_type": "code",
   "execution_count": 10,
   "metadata": {
    "collapsed": true
   },
   "outputs": [],
   "source": [
    "x_train = x_train.astype('float32')\n",
    "x_test = x_test.astype('float32')\n",
    "x_train /= 255\n",
    "x_test /= 255"
   ]
  },
  {
   "cell_type": "code",
   "execution_count": 11,
   "metadata": {},
   "outputs": [
    {
     "name": "stdout",
     "output_type": "stream",
     "text": [
      "Using real-time data augmentation.\n"
     ]
    }
   ],
   "source": [
    "print('Using real-time data augmentation.')\n",
    "# This will do preprocessing and realtime data augmentation:\n",
    "datagen = ImageDataGenerator(\n",
    "    rotation_range=30,  # randomly rotate images in the range (degrees, 0 to 180)\n",
    "    width_shift_range=0.1,  # randomly shift images horizontally (fraction of total width)\n",
    "    height_shift_range=0.1,  # randomly shift images vertically (fraction of total height)\n",
    "    horizontal_flip=True,  # randomly flip images\n",
    "    vertical_flip=False)  # randomly flip images"
   ]
  },
  {
   "cell_type": "code",
   "execution_count": 12,
   "metadata": {
    "collapsed": true
   },
   "outputs": [],
   "source": [
    "# Compute quantities required for feature-wise normalization\n",
    "# (std, mean, and principal components if ZCA whitening is applied).\n",
    "datagen.fit(x_train)"
   ]
  },
  {
   "cell_type": "code",
   "execution_count": 13,
   "metadata": {},
   "outputs": [
    {
     "name": "stdout",
     "output_type": "stream",
     "text": [
      "Epoch 1/50\n",
      "1562/1562 [==============================] - 10s - loss: 1.8808 - acc: 0.3074 - val_loss: 1.6244 - val_acc: 0.4187\n",
      "Epoch 2/50\n",
      "1562/1562 [==============================] - 10s - loss: 1.6357 - acc: 0.4021 - val_loss: 1.4125 - val_acc: 0.4895\n",
      "Epoch 3/50\n",
      "1562/1562 [==============================] - 10s - loss: 1.5252 - acc: 0.4460 - val_loss: 1.3133 - val_acc: 0.5376\n",
      "Epoch 4/50\n",
      "1562/1562 [==============================] - 10s - loss: 1.4424 - acc: 0.4809 - val_loss: 1.2718 - val_acc: 0.5538\n",
      "Epoch 5/50\n",
      "1562/1562 [==============================] - 10s - loss: 1.3830 - acc: 0.5057 - val_loss: 1.1873 - val_acc: 0.5769\n",
      "Epoch 6/50\n",
      "1562/1562 [==============================] - 10s - loss: 1.3339 - acc: 0.5233 - val_loss: 1.1289 - val_acc: 0.6026\n",
      "Epoch 7/50\n",
      "1562/1562 [==============================] - 10s - loss: 1.2951 - acc: 0.5397 - val_loss: 1.0804 - val_acc: 0.6219\n",
      "Epoch 8/50\n",
      "1562/1562 [==============================] - 10s - loss: 1.2567 - acc: 0.5525 - val_loss: 1.0846 - val_acc: 0.6226\n",
      "Epoch 9/50\n",
      "1562/1562 [==============================] - 10s - loss: 1.2206 - acc: 0.5637 - val_loss: 1.0140 - val_acc: 0.6439\n",
      "Epoch 10/50\n",
      "1562/1562 [==============================] - 10s - loss: 1.1950 - acc: 0.5736 - val_loss: 1.0119 - val_acc: 0.6420\n",
      "Epoch 11/50\n",
      "1562/1562 [==============================] - 10s - loss: 1.1690 - acc: 0.5851 - val_loss: 0.9819 - val_acc: 0.6557\n",
      "Epoch 12/50\n",
      "1562/1562 [==============================] - 10s - loss: 1.1412 - acc: 0.5943 - val_loss: 0.9629 - val_acc: 0.6639\n",
      "Epoch 13/50\n",
      "1562/1562 [==============================] - 10s - loss: 1.1339 - acc: 0.5943 - val_loss: 0.9266 - val_acc: 0.6734\n",
      "Epoch 14/50\n",
      "1562/1562 [==============================] - 10s - loss: 1.1129 - acc: 0.6070 - val_loss: 0.9046 - val_acc: 0.6796\n",
      "Epoch 15/50\n",
      "1562/1562 [==============================] - 10s - loss: 1.0940 - acc: 0.6110 - val_loss: 0.8985 - val_acc: 0.6878\n",
      "Epoch 16/50\n",
      "1562/1562 [==============================] - 10s - loss: 1.0860 - acc: 0.6162 - val_loss: 0.9036 - val_acc: 0.6887\n",
      "Epoch 17/50\n",
      "1562/1562 [==============================] - 10s - loss: 1.0761 - acc: 0.6186 - val_loss: 0.8800 - val_acc: 0.6890\n",
      "Epoch 18/50\n",
      "1562/1562 [==============================] - 10s - loss: 1.0687 - acc: 0.6241 - val_loss: 0.8606 - val_acc: 0.7016\n",
      "Epoch 19/50\n",
      "1562/1562 [==============================] - 10s - loss: 1.0549 - acc: 0.6304 - val_loss: 0.8536 - val_acc: 0.7037\n",
      "Epoch 20/50\n",
      "1562/1562 [==============================] - 10s - loss: 1.0409 - acc: 0.6338 - val_loss: 0.8266 - val_acc: 0.7121\n",
      "Epoch 21/50\n",
      "1562/1562 [==============================] - 10s - loss: 1.0337 - acc: 0.6380 - val_loss: 0.8284 - val_acc: 0.7107\n",
      "Epoch 22/50\n",
      "1562/1562 [==============================] - 10s - loss: 1.0244 - acc: 0.6418 - val_loss: 0.8389 - val_acc: 0.7129\n",
      "Epoch 23/50\n",
      "1562/1562 [==============================] - 10s - loss: 1.0176 - acc: 0.6437 - val_loss: 0.8201 - val_acc: 0.7107\n",
      "Epoch 24/50\n",
      "1562/1562 [==============================] - 10s - loss: 1.0118 - acc: 0.6431 - val_loss: 0.8126 - val_acc: 0.7174\n",
      "Epoch 25/50\n",
      "1562/1562 [==============================] - 10s - loss: 1.0084 - acc: 0.6467 - val_loss: 0.8025 - val_acc: 0.7221\n",
      "Epoch 26/50\n",
      "1562/1562 [==============================] - 10s - loss: 1.0032 - acc: 0.6485 - val_loss: 0.8338 - val_acc: 0.7151\n",
      "Epoch 27/50\n",
      "1562/1562 [==============================] - 10s - loss: 1.0000 - acc: 0.6515 - val_loss: 0.7794 - val_acc: 0.7288\n",
      "Epoch 28/50\n",
      "1562/1562 [==============================] - 10s - loss: 0.9947 - acc: 0.6531 - val_loss: 0.7816 - val_acc: 0.7331\n",
      "Epoch 29/50\n",
      "1562/1562 [==============================] - 10s - loss: 0.9955 - acc: 0.6544 - val_loss: 0.8288 - val_acc: 0.7148\n",
      "Epoch 30/50\n",
      "1562/1562 [==============================] - 10s - loss: 0.9889 - acc: 0.6559 - val_loss: 0.7768 - val_acc: 0.7337\n",
      "Epoch 31/50\n",
      "1562/1562 [==============================] - 10s - loss: 0.9802 - acc: 0.6602 - val_loss: 0.7556 - val_acc: 0.7369\n",
      "Epoch 32/50\n",
      "1562/1562 [==============================] - 10s - loss: 0.9771 - acc: 0.6617 - val_loss: 0.7614 - val_acc: 0.7379\n",
      "Epoch 33/50\n",
      "1562/1562 [==============================] - 10s - loss: 0.9779 - acc: 0.6628 - val_loss: 0.7648 - val_acc: 0.7359\n",
      "Epoch 34/50\n",
      "1562/1562 [==============================] - 10s - loss: 0.9698 - acc: 0.6656 - val_loss: 0.7848 - val_acc: 0.7328\n",
      "Epoch 35/50\n",
      "1562/1562 [==============================] - 10s - loss: 0.9730 - acc: 0.6631 - val_loss: 0.7527 - val_acc: 0.7386\n",
      "Epoch 36/50\n",
      "1562/1562 [==============================] - 10s - loss: 0.9675 - acc: 0.6648 - val_loss: 0.7634 - val_acc: 0.7390\n",
      "Epoch 37/50\n",
      "1562/1562 [==============================] - 10s - loss: 0.9719 - acc: 0.6628 - val_loss: 0.7768 - val_acc: 0.7333\n",
      "Epoch 38/50\n",
      "1562/1562 [==============================] - 10s - loss: 0.9624 - acc: 0.6670 - val_loss: 0.7449 - val_acc: 0.7450\n",
      "Epoch 39/50\n",
      "1562/1562 [==============================] - 10s - loss: 0.9652 - acc: 0.6696 - val_loss: 0.7526 - val_acc: 0.7403\n",
      "Epoch 40/50\n",
      "1562/1562 [==============================] - 10s - loss: 0.9576 - acc: 0.6702 - val_loss: 0.7459 - val_acc: 0.7462\n",
      "Epoch 41/50\n",
      "1562/1562 [==============================] - 10s - loss: 0.9562 - acc: 0.6693 - val_loss: 0.7646 - val_acc: 0.7424\n",
      "Epoch 42/50\n",
      "1562/1562 [==============================] - 10s - loss: 0.9574 - acc: 0.6706 - val_loss: 0.7966 - val_acc: 0.7264\n",
      "Epoch 43/50\n",
      "1562/1562 [==============================] - 10s - loss: 0.9600 - acc: 0.6696 - val_loss: 0.7477 - val_acc: 0.7454\n",
      "Epoch 44/50\n",
      "1562/1562 [==============================] - 10s - loss: 0.9590 - acc: 0.6693 - val_loss: 0.7455 - val_acc: 0.7445\n",
      "Epoch 45/50\n",
      "1562/1562 [==============================] - 10s - loss: 0.9541 - acc: 0.6732 - val_loss: 0.7460 - val_acc: 0.7514\n",
      "Epoch 46/50\n",
      "1562/1562 [==============================] - 10s - loss: 0.9522 - acc: 0.6730 - val_loss: 0.7597 - val_acc: 0.7361\n",
      "Epoch 47/50\n",
      "1562/1562 [==============================] - 10s - loss: 0.9477 - acc: 0.6740 - val_loss: 0.7269 - val_acc: 0.7494\n",
      "Epoch 48/50\n",
      "1562/1562 [==============================] - 10s - loss: 0.9550 - acc: 0.6698 - val_loss: 0.7486 - val_acc: 0.7456\n",
      "Epoch 49/50\n",
      "1562/1562 [==============================] - 10s - loss: 0.9547 - acc: 0.6740 - val_loss: 0.7614 - val_acc: 0.7513\n",
      "Epoch 50/50\n",
      "1562/1562 [==============================] - 10s - loss: 0.9534 - acc: 0.6719 - val_loss: 0.7636 - val_acc: 0.7457\n"
     ]
    }
   ],
   "source": [
    "# Fit the model on the batches generated by datagen.flow().\n",
    "hist = model.fit_generator(datagen.flow(x_train, y_train,\n",
    "                                 batch_size=batch_size),\n",
    "                    steps_per_epoch=x_train.shape[0] // batch_size,\n",
    "                    epochs=epochs,\n",
    "                    validation_data=(x_test, y_test),\n",
    "                    workers=4)\n"
   ]
  },
  {
   "cell_type": "code",
   "execution_count": 14,
   "metadata": {
    "collapsed": true
   },
   "outputs": [],
   "source": [
    "def plot_train(hist):\n",
    "    h = hist.history\n",
    "    if 'acc' in h:\n",
    "        meas='acc'\n",
    "        loc='lower right'\n",
    "    else:\n",
    "        meas='loss'\n",
    "        loc='upper right'\n",
    "    plt.plot(hist.history[meas])\n",
    "    plt.plot(hist.history['val_'+meas])\n",
    "    plt.title('model '+meas)\n",
    "    plt.ylabel(meas)\n",
    "    plt.xlabel('epoch')\n",
    "    plt.legend(['train', 'validation'], loc=loc)\n",
    "    "
   ]
  },
  {
   "cell_type": "code",
   "execution_count": 15,
   "metadata": {},
   "outputs": [
    {
     "data": {
      "image/png": "[encoded data removed]",
      "text/plain": [
       "<matplotlib.figure.Figure at 0x7f06528392e8>"
      ]
     },
     "metadata": {},
     "output_type": "display_data"
    }
   ],
   "source": [
    "plot_train(hist)"
   ]
  },
  {
   "cell_type": "code",
   "execution_count": 16,
   "metadata": {
    "collapsed": true
   },
   "outputs": [],
   "source": [
    "# Load label names to use in prediction results\n",
    "label_list_path = 'datasets/cifar-10-batches-py/batches.meta'\n",
    "\n",
    "keras_dir = os.path.expanduser(os.path.join('~', '.keras'))\n",
    "datadir_base = os.path.expanduser(keras_dir)\n",
    "if not os.access(datadir_base, os.W_OK):\n",
    "    datadir_base = os.path.join('/tmp', '.keras')\n",
    "label_list_path = os.path.join(datadir_base, label_list_path)\n",
    "\n",
    "with open(label_list_path, mode='rb') as f:\n",
    "    labels = pickle.load(f)"
   ]
  },
  {
   "cell_type": "markdown",
   "metadata": {},
   "source": [
    "## Evaluate the model"
   ]
  },
  {
   "cell_type": "code",
   "execution_count": 17,
   "metadata": {},
   "outputs": [
    {
     "name": "stdout",
     "output_type": "stream",
     "text": [
      "Model Accuracy = 0.69\n"
     ]
    }
   ],
   "source": [
    "# Evaluate model with test data set and share sample prediction results\n",
    "evaluation = model.evaluate_generator(datagen.flow(x_test, y_test,\n",
    "                                                   batch_size=batch_size,\n",
    "                                                   shuffle=False),\n",
    "                                      steps=x_test.shape[0] // batch_size,\n",
    "                                      workers=4)\n",
    "print('Model Accuracy = %.2f' % (evaluation[1]))\n",
    "print('Model Loss = %.2f' % (evaluation[0]))"
   ]
  },
  {
   "cell_type": "markdown",
   "metadata": {},
   "source": [
    "## Make predictions"
   ]
  },
  {
   "cell_type": "code",
   "execution_count": 18,
   "metadata": {
    "collapsed": true
   },
   "outputs": [],
   "source": [
    "predict_gen = model.predict_generator(datagen.flow(x_test, y_test,\n",
    "                                                   batch_size=batch_size,\n",
    "                                                   shuffle=False),\n",
    "                                      steps=x_test.shape[0] // batch_size,\n",
    "                                      workers=4)"
   ]
  },
  {
   "cell_type": "code",
   "execution_count": 21,
   "metadata": {
    "collapsed": true
   },
   "outputs": [],
   "source": [
    "predict_gen = predict_gen[20:]"
   ]
  },
  {
   "cell_type": "code",
   "execution_count": 22,
   "metadata": {},
   "outputs": [
    {
     "name": "stdout",
     "output_type": "stream",
     "text": [
      "Actual Label = cat vs. Predicted Label = dog\n",
      "Actual Label = ship vs. Predicted Label = cat\n",
      "Actual Label = ship vs. Predicted Label = ship\n",
      "Actual Label = airplane vs. Predicted Label = ship\n",
      "Actual Label = frog vs. Predicted Label = horse\n",
      "Actual Label = frog vs. Predicted Label = frog\n",
      "Actual Label = automobile vs. Predicted Label = dog\n",
      "Actual Label = frog vs. Predicted Label = dog\n",
      "Actual Label = cat vs. Predicted Label = horse\n",
      "Actual Label = automobile vs. Predicted Label = dog\n",
      "Actual Label = airplane vs. Predicted Label = frog\n",
      "Actual Label = truck vs. Predicted Label = cat\n",
      "Actual Label = dog vs. Predicted Label = frog\n",
      "Actual Label = horse vs. Predicted Label = frog\n",
      "Actual Label = truck vs. Predicted Label = ship\n",
      "Actual Label = ship vs. Predicted Label = airplane\n",
      "Actual Label = dog vs. Predicted Label = cat\n",
      "Actual Label = horse vs. Predicted Label = airplane\n",
      "Actual Label = ship vs. Predicted Label = airplane\n",
      "Actual Label = frog vs. Predicted Label = frog\n",
      "Actual Label = horse vs. Predicted Label = ship\n"
     ]
    }
   ],
   "source": [
    "for predict_index, predicted_y in enumerate(predict_gen):\n",
    "    actual_label = labels['label_names'][np.argmax(y_test[predict_index])]\n",
    "    predicted_label = labels['label_names'][np.argmax(predicted_y)]\n",
    "    print('Actual Label = %s vs. Predicted Label = %s' % (actual_label,\n",
    "                                                          predicted_label))\n",
    "    if predict_index == num_predictions:\n",
    "        break"
   ]
  },
  {
   "cell_type": "code",
   "execution_count": 20,
   "metadata": {},
   "outputs": [
    {
     "data": {
      "text/plain": [
       "(9968, 10)"
      ]
     },
     "execution_count": 20,
     "metadata": {},
     "output_type": "execute_result"
    }
   ],
   "source": [
    "predict_gen.shape"
   ]
  },
  {
   "cell_type": "code",
   "execution_count": null,
   "metadata": {
    "collapsed": true
   },
   "outputs": [],
   "source": []
  }
 ],
 "metadata": {
  "kernelspec": {
   "display_name": "Python 3",
   "language": "python",
   "name": "python3"
  },
  "language_info": {
   "codemirror_mode": {
    "name": "ipython",
    "version": 3
   },
   "file_extension": ".py",
   "mimetype": "text/x-python",
   "name": "python",
   "nbconvert_exporter": "python",
   "pygments_lexer": "ipython3",
   "version": "3.5.3"
  }
 },
 "nbformat": 4,
 "nbformat_minor": 2
}
