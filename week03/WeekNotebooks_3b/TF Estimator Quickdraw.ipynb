{
 "cells": [
  {
   "cell_type": "markdown",
   "metadata": {},
   "source": [
    "# TensorFlow Estimators"
   ]
  },
  {
   "cell_type": "code",
   "execution_count": 1,
   "metadata": {
    "collapsed": true
   },
   "outputs": [],
   "source": [
    "import math\n",
    "import numpy as np\n",
    "\n",
    "import tensorflow as tf"
   ]
  },
  {
   "cell_type": "code",
   "execution_count": 2,
   "metadata": {},
   "outputs": [
    {
     "name": "stdout",
     "output_type": "stream",
     "text": [
      "1.3.0\n"
     ]
    }
   ],
   "source": [
    "print(tf.__version__)"
   ]
  },
  {
   "cell_type": "markdown",
   "metadata": {},
   "source": [
    "## Assembling our data set"
   ]
  },
  {
   "cell_type": "code",
   "execution_count": 3,
   "metadata": {},
   "outputs": [
    {
     "data": {
      "text/plain": [
       "100"
      ]
     },
     "execution_count": 3,
     "metadata": {},
     "output_type": "execute_result"
    }
   ],
   "source": [
    "num_examples_per_class = 10000\n",
    "\n",
    "classes = ['airplane','alarm clock','ambulance','angel','ant','anvil','apple','axe','banana','bandage','barn','baseball bat','baseball',\n",
    "           'basket','basketball','bathtub','beach','bear','beard','bed','bee','belt','bicycle','binoculars','birthday cake','blueberry',\n",
    "           'book','boomerang','bottlecap','bowtie','bracelet','brain','bread','broom','bulldozer','bus','bush','butterfly','cactus','cake',\n",
    "           'calculator','calendar','camel','camera','campfire','candle','cannon','canoe','car','carrot','cello','computer',\n",
    "           'cat','chandelier','clock','cloud','coffee cup','compass','cookie','couch','cow','crab','crayon','crocodile','crown',\n",
    "           'cup','diamond','dog','dolphin','donut','dragon','dresser','drill','drums','duck','dumbbell','ear','elbow',\n",
    "           'elephant','envelope','eraser','eye','eyeglasses','face','fan','feather','fence','finger','fire hydrant',\n",
    "           'fireplace','firetruck','fish','flamingo','flashlight','flip flops','floor lamp','flower','flying saucer',\n",
    "           'foot','fork']\n",
    "\n",
    "len(classes)"
   ]
  },
  {
   "cell_type": "code",
   "execution_count": 4,
   "metadata": {},
   "outputs": [
    {
     "data": {
      "text/plain": [
       "(1000000, 784)"
      ]
     },
     "execution_count": 4,
     "metadata": {},
     "output_type": "execute_result"
    }
   ],
   "source": [
    "\n",
    "\n",
    "x_data = np.load(\"./x_data_100_classes_10k.npy\")\n",
    "x_data.shape"
   ]
  },
  {
   "cell_type": "code",
   "execution_count": 5,
   "metadata": {},
   "outputs": [
    {
     "data": {
      "text/plain": [
       "(1000000,)"
      ]
     },
     "execution_count": 5,
     "metadata": {},
     "output_type": "execute_result"
    }
   ],
   "source": [
    "labels = [np.full((10000,), classes.index(qdraw)) for qdraw in classes]\n",
    "\n",
    "## Concat the arrays together\n",
    "y_data = np.concatenate(labels,axis=0)\n",
    "y_data.shape"
   ]
  },
  {
   "cell_type": "code",
   "execution_count": 6,
   "metadata": {
    "collapsed": true
   },
   "outputs": [],
   "source": [
    "def unison_shuffled_copies(a, b):\n",
    "    assert len(a) == len(b)\n",
    "    p = np.random.permutation(len(a))\n",
    "    return a[p], b[p]"
   ]
  },
  {
   "cell_type": "code",
   "execution_count": 7,
   "metadata": {},
   "outputs": [
    {
     "name": "stdout",
     "output_type": "stream",
     "text": [
      "(1000000, 784)\n",
      "(1000000,)\n",
      "100000\n",
      "(900000, 784)\n",
      "(900000,)\n",
      "(100000, 784)\n",
      "(100000,)\n"
     ]
    }
   ],
   "source": [
    "x_data,y_data = unison_shuffled_copies(x_data,y_data)\n",
    "\n",
    "x_data = x_data.astype('float32')\n",
    "y_data = y_data.astype('float32')\n",
    "x_data /= 255.\n",
    "\n",
    "print(x_data.shape)\n",
    "print(y_data.shape)\n",
    "\n",
    "number_of_records = len(y_data)\n",
    "test_fraction = 0.1\n",
    "\n",
    "print(int(number_of_records*test_fraction))\n",
    "\n",
    "#making a train / test split\n",
    "test_split = int(number_of_records*(1-test_fraction))\n",
    "\n",
    "x_train, y_train = x_data[0:test_split], y_data[0:test_split]\n",
    "x_test, y_test = x_data[test_split:], y_data[test_split:]\n",
    "\n",
    "print(x_train.shape)\n",
    "print(y_train.shape)\n",
    "print(x_test.shape)\n",
    "print(y_test.shape)"
   ]
  },
  {
   "cell_type": "code",
   "execution_count": 8,
   "metadata": {},
   "outputs": [
    {
     "name": "stdout",
     "output_type": "stream",
     "text": [
      "900000 train samples\n",
      "100000 test samples\n"
     ]
    }
   ],
   "source": [
    "# The CNN we'll use later expects a color channel dimension\n",
    "# Let's add this here\n",
    "x_train = x_train.reshape(x_train.shape[0], 28, 28, 1)\n",
    "x_test = x_test.reshape(x_test.shape[0], 28, 28, 1)\n",
    "\n",
    "# Convert to one-hot.\n",
    "y_train = tf.contrib.keras.utils.to_categorical(y_train, num_classes=100)\n",
    "y_test = tf.contrib.keras.utils.to_categorical(y_test, num_classes=100)\n",
    "\n",
    "print(x_train.shape[0], 'train samples')\n",
    "print(x_test.shape[0], 'test samples')"
   ]
  },
  {
   "cell_type": "markdown",
   "metadata": {},
   "source": [
    "## Make our model\n",
    "\n",
    "We are going to use the tf.layers API "
   ]
  },
  {
   "cell_type": "code",
   "execution_count": 10,
   "metadata": {
    "collapsed": true
   },
   "outputs": [],
   "source": [
    "def build_cnn(features, mode):\n",
    "    \n",
    "    image_batch = features['x']\n",
    "    \n",
    "    with tf.name_scope(\"conv1\"):  \n",
    "        conv1 = tf.layers.conv2d(inputs=image_batch, filters=32, kernel_size=[3, 3],\n",
    "                                 padding='same', activation=tf.nn.relu)\n",
    "\n",
    "    with tf.name_scope(\"pool1\"):  \n",
    "        pool1 = tf.layers.max_pooling2d(inputs=conv1, pool_size=[2, 2], strides=2)\n",
    "\n",
    "    with tf.name_scope(\"conv2\"):  \n",
    "        conv2 = tf.layers.conv2d(inputs=pool1, filters=64, kernel_size=[3, 3],\n",
    "                                 padding='same', activation=tf.nn.relu)\n",
    "\n",
    "    with tf.name_scope(\"pool2\"):  \n",
    "        pool2 = tf.layers.max_pooling2d(inputs=conv2, pool_size=[2, 2], strides=2)\n",
    "        \n",
    "    with tf.name_scope(\"batchnorm\"):\n",
    "        batch_norm = tf.layers.batch_normalization(inputs= pool2)\n",
    "\n",
    "    with tf.name_scope(\"dense\"):  \n",
    "        # The 'images' are now 7x7 (28 / 2 / 2), and we have 64 channels per image\n",
    "        pool2_flat = tf.reshape(batch_norm, [-1, 7 * 7 * 64])\n",
    "        dense = tf.layers.dense(inputs=pool2_flat, units=128, activation=tf.nn.relu)\n",
    "\n",
    "    with tf.name_scope(\"dropout\"):  \n",
    "        # Add some dropout 20% dropout\n",
    "        dropout = tf.layers.dropout(\n",
    "            inputs=dense, rate=0.2, training = mode == tf.estimator.ModeKeys.TRAIN)\n",
    "\n",
    "    # our logits has to put \n",
    "    logits = tf.layers.dense(inputs=dropout, units=100)\n",
    "\n",
    "    return logits"
   ]
  },
  {
   "cell_type": "markdown",
   "metadata": {},
   "source": [
    "## Model function\n",
    "\n",
    "this handles the different modes of training, evaluting, predicting"
   ]
  },
  {
   "cell_type": "code",
   "execution_count": 11,
   "metadata": {
    "collapsed": true
   },
   "outputs": [],
   "source": [
    "def model_fn(features, labels, mode):\n",
    "    \n",
    "    \n",
    "    logits = build_cnn(features, mode)\n",
    "    \n",
    "    # Generate Predictions\n",
    "    classes = tf.argmax(logits, axis=1)\n",
    "    predictions = {\n",
    "        'classes': classes,\n",
    "        'probabilities': tf.nn.softmax(logits, name='softmax_tensor')\n",
    "    }\n",
    "    \n",
    "    if mode == tf.estimator.ModeKeys.PREDICT:\n",
    "        # Return an EstimatorSpec for prediction\n",
    "        return tf.estimator.EstimatorSpec(mode=mode, predictions=predictions)\n",
    "        \n",
    "    # Compute the loss, per usual.\n",
    "    loss = tf.losses.softmax_cross_entropy(\n",
    "        onehot_labels=labels, logits=logits)\n",
    "        \n",
    "    if mode == tf.estimator.ModeKeys.TRAIN:\n",
    "        \n",
    "        # Configure the Training Op\n",
    "        train_op = tf.contrib.layers.optimize_loss(\n",
    "            loss=loss,\n",
    "            global_step=tf.train.get_global_step(),\n",
    "            learning_rate=1e-3,\n",
    "            optimizer='Adam')\n",
    "\n",
    "        # Return an EstimatorSpec for training\n",
    "        return tf.estimator.EstimatorSpec(mode=mode, predictions=predictions,\n",
    "                                      loss=loss, train_op=train_op)    \n",
    "\n",
    "    assert mode == tf.estimator.ModeKeys.EVAL\n",
    "    \n",
    "    # Configure the accuracy metric for evaluation\n",
    "    metrics = {'accuracy': tf.metrics.accuracy(classes, tf.argmax(labels, axis=1))}\n",
    "    \n",
    "    return tf.estimator.EstimatorSpec(mode=mode, \n",
    "                                      predictions=predictions, \n",
    "                                      loss=loss,\n",
    "                                      eval_metric_ops=metrics)"
   ]
  },
  {
   "cell_type": "markdown",
   "metadata": {},
   "source": [
    "## Input functions\n",
    "\n",
    "1 for training dataset \n",
    "\n",
    "1 for test dataset"
   ]
  },
  {
   "cell_type": "code",
   "execution_count": 12,
   "metadata": {
    "collapsed": true
   },
   "outputs": [],
   "source": [
    "\n",
    "train_input = tf.estimator.inputs.numpy_input_fn(\n",
    "    {'x': x_train},\n",
    "    y_train, \n",
    "    num_epochs=None, # repeat forever\n",
    "    shuffle=True # \n",
    ")\n",
    "\n",
    "test_input = tf.estimator.inputs.numpy_input_fn(\n",
    "    {'x': x_test},\n",
    "    y_test,\n",
    "    num_epochs=1, # loop through the dataset once\n",
    "    shuffle=False # don't shuffle the test data\n",
    ")"
   ]
  },
  {
   "cell_type": "markdown",
   "metadata": {},
   "source": [
    "### Compiling the Estimator"
   ]
  },
  {
   "cell_type": "code",
   "execution_count": 13,
   "metadata": {},
   "outputs": [
    {
     "name": "stdout",
     "output_type": "stream",
     "text": [
      "INFO:tensorflow:Using default config.\n",
      "WARNING:tensorflow:Using temporary folder as model directory: /var/folders/pl/nlv4vvks1bvc3rs628vdcldc0000gn/T/tmp91s1yu5e\n",
      "INFO:tensorflow:Using config: {'_session_config': None, '_save_checkpoints_secs': 600, '_log_step_count_steps': 100, '_save_checkpoints_steps': None, '_keep_checkpoint_max': 5, '_model_dir': '/var/folders/pl/nlv4vvks1bvc3rs628vdcldc0000gn/T/tmp91s1yu5e', '_save_summary_steps': 100, '_tf_random_seed': 1, '_keep_checkpoint_every_n_hours': 10000}\n"
     ]
    }
   ],
   "source": [
    "estimator = tf.estimator.Estimator(model_fn=model_fn)"
   ]
  },
  {
   "cell_type": "markdown",
   "metadata": {},
   "source": [
    "### Training Function"
   ]
  },
  {
   "cell_type": "code",
   "execution_count": 14,
   "metadata": {},
   "outputs": [
    {
     "name": "stdout",
     "output_type": "stream",
     "text": [
      "INFO:tensorflow:Create CheckpointSaverHook.\n",
      "INFO:tensorflow:Saving checkpoints for 1 into /var/folders/pl/nlv4vvks1bvc3rs628vdcldc0000gn/T/tmp91s1yu5e/model.ckpt.\n",
      "INFO:tensorflow:step = 1, loss = 4.60765\n",
      "INFO:tensorflow:global_step/sec: 9.79593\n",
      "INFO:tensorflow:step = 101, loss = 3.26781 (10.210 sec)\n",
      "INFO:tensorflow:global_step/sec: 9.84055\n",
      "INFO:tensorflow:step = 201, loss = 2.82332 (10.162 sec)\n",
      "INFO:tensorflow:global_step/sec: 9.97492\n",
      "INFO:tensorflow:step = 301, loss = 2.38729 (10.025 sec)\n",
      "INFO:tensorflow:global_step/sec: 9.95216\n",
      "INFO:tensorflow:step = 401, loss = 2.19031 (10.048 sec)\n",
      "INFO:tensorflow:global_step/sec: 9.6768\n",
      "INFO:tensorflow:step = 501, loss = 2.10521 (10.334 sec)\n",
      "INFO:tensorflow:global_step/sec: 9.74849\n",
      "INFO:tensorflow:step = 601, loss = 1.93064 (10.258 sec)\n",
      "INFO:tensorflow:global_step/sec: 9.67001\n",
      "INFO:tensorflow:step = 701, loss = 1.85593 (10.341 sec)\n",
      "INFO:tensorflow:global_step/sec: 10.3118\n",
      "INFO:tensorflow:step = 801, loss = 1.70718 (9.697 sec)\n",
      "INFO:tensorflow:global_step/sec: 10.2599\n",
      "INFO:tensorflow:step = 901, loss = 1.90553 (9.747 sec)\n",
      "INFO:tensorflow:global_step/sec: 9.91465\n",
      "INFO:tensorflow:step = 1001, loss = 1.67783 (10.086 sec)\n",
      "INFO:tensorflow:global_step/sec: 9.71671\n",
      "INFO:tensorflow:step = 1101, loss = 1.76303 (10.292 sec)\n",
      "INFO:tensorflow:global_step/sec: 9.67202\n",
      "INFO:tensorflow:step = 1201, loss = 1.89182 (10.340 sec)\n",
      "INFO:tensorflow:global_step/sec: 9.97762\n",
      "INFO:tensorflow:step = 1301, loss = 1.46235 (10.022 sec)\n",
      "INFO:tensorflow:global_step/sec: 9.62716\n",
      "INFO:tensorflow:step = 1401, loss = 1.77745 (10.387 sec)\n",
      "INFO:tensorflow:global_step/sec: 9.58723\n",
      "INFO:tensorflow:step = 1501, loss = 1.73574 (10.431 sec)\n",
      "INFO:tensorflow:global_step/sec: 9.35178\n",
      "INFO:tensorflow:step = 1601, loss = 1.48594 (10.693 sec)\n",
      "INFO:tensorflow:global_step/sec: 9.54773\n",
      "INFO:tensorflow:step = 1701, loss = 1.63668 (10.474 sec)\n",
      "INFO:tensorflow:global_step/sec: 9.4943\n",
      "INFO:tensorflow:step = 1801, loss = 1.72521 (10.532 sec)\n",
      "INFO:tensorflow:global_step/sec: 9.48929\n",
      "INFO:tensorflow:step = 1901, loss = 1.45727 (10.538 sec)\n",
      "INFO:tensorflow:Saving checkpoints for 2000 into /var/folders/pl/nlv4vvks1bvc3rs628vdcldc0000gn/T/tmp91s1yu5e/model.ckpt.\n",
      "INFO:tensorflow:Loss for final step: 1.57185.\n"
     ]
    },
    {
     "data": {
      "text/plain": [
       "<tensorflow.python.estimator.estimator.Estimator at 0x1260e2588>"
      ]
     },
     "execution_count": 14,
     "metadata": {},
     "output_type": "execute_result"
    }
   ],
   "source": [
    "# the training function\n",
    "estimator.train(input_fn=train_input, steps=2000)"
   ]
  },
  {
   "cell_type": "markdown",
   "metadata": {},
   "source": [
    "### Evaluating the Estimator"
   ]
  },
  {
   "cell_type": "code",
   "execution_count": 15,
   "metadata": {},
   "outputs": [
    {
     "name": "stdout",
     "output_type": "stream",
     "text": [
      "INFO:tensorflow:Starting evaluation at 2017-10-11-02:44:27\n",
      "INFO:tensorflow:Restoring parameters from /var/folders/pl/nlv4vvks1bvc3rs628vdcldc0000gn/T/tmp91s1yu5e/model.ckpt-2000\n",
      "INFO:tensorflow:Finished evaluation at 2017-10-11-02:44:53\n",
      "INFO:tensorflow:Saving dict for global step 2000: accuracy = 0.65935, global_step = 2000, loss = 1.36915\n",
      "{'global_step': 2000, 'loss': 1.3691481, 'accuracy': 0.65934998}\n"
     ]
    }
   ],
   "source": [
    "# We Evaluate now using the Test input function\n",
    "evaluation = estimator.evaluate(input_fn=test_input)\n",
    "print(evaluation)"
   ]
  },
  {
   "cell_type": "markdown",
   "metadata": {},
   "source": [
    "### Now lets check our model bby making some predictions"
   ]
  },
  {
   "cell_type": "code",
   "execution_count": 16,
   "metadata": {},
   "outputs": [
    {
     "name": "stdout",
     "output_type": "stream",
     "text": [
      "INFO:tensorflow:Restoring parameters from /var/folders/pl/nlv4vvks1bvc3rs628vdcldc0000gn/T/tmp91s1yu5e/model.ckpt-2000\n",
      "Example 0. True: fork, Predicted: fork\n",
      "Example 1. True: flip flops, Predicted: flip flops\n",
      "Example 2. True: dresser, Predicted: dresser\n",
      "Example 3. True: clock, Predicted: clock\n",
      "Example 4. True: couch, Predicted: computer\n"
     ]
    }
   ],
   "source": [
    "# Here's how to print predictions on a few examples\n",
    "MAX_TO_PRINT = 5\n",
    "\n",
    "# This returns a generator object\n",
    "predictions = estimator.predict(input_fn=test_input)\n",
    "i = 0\n",
    "for p in predictions:\n",
    "    true_label = classes[np.argmax(y_test[i])]\n",
    "    predicted_label = classes[p['classes']]\n",
    "    #print(predicted_label)\n",
    "    print(\"Example %d. True: %s, Predicted: %s\" % (i, true_label, predicted_label))\n",
    "    i += 1\n",
    "    if i == MAX_TO_PRINT: break"
   ]
  },
  {
   "cell_type": "code",
   "execution_count": null,
   "metadata": {
    "collapsed": true
   },
   "outputs": [],
   "source": []
  }
 ],
 "metadata": {
  "kernelspec": {
   "display_name": "Python 3",
   "language": "python",
   "name": "python3"
  },
  "language_info": {
   "codemirror_mode": {
    "name": "ipython",
    "version": 3
   },
   "file_extension": ".py",
   "mimetype": "text/x-python",
   "name": "python",
   "nbconvert_exporter": "python",
   "pygments_lexer": "ipython3",
   "version": "3.5.3"
  }
 },
 "nbformat": 4,
 "nbformat_minor": 2
}
