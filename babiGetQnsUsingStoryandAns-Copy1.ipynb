{
 "cells": [
  {
   "cell_type": "code",
   "execution_count": 1,
   "metadata": {},
   "outputs": [
    {
     "name": "stderr",
     "output_type": "stream",
     "text": [
      "Using TensorFlow backend.\n"
     ]
    },
    {
     "name": "stdout",
     "output_type": "stream",
     "text": [
      "2.0.5\n"
     ]
    }
   ],
   "source": [
    "import keras\n",
    "from __future__ import print_function\n",
    "from functools import reduce\n",
    "import re\n",
    "import tarfile\n",
    "import numpy as np\n",
    "from keras.utils.data_utils import get_file\n",
    "from keras.utils import to_categorical\n",
    "from keras.layers.embeddings import Embedding\n",
    "from keras import layers\n",
    "from keras.layers import *\n",
    "from keras.models import Model\n",
    "from keras.preprocessing.sequence import pad_sequences\n",
    "from keras.callbacks import ReduceLROnPlateau\n",
    "print(keras.__version__)\n",
    "\n",
    "def tokenize(sent):\n",
    "    '''Return the tokens of a sentence including punctuation.\n",
    "    >>> tokenize('Bob dropped the apple. Where is the apple?')\n",
    "    ['Bob', 'dropped', 'the', 'apple', '.', 'Where', 'is', 'the', 'apple', '?']\n",
    "    '''\n",
    "    return [x.strip() for x in re.split('(\\W+)?', sent) if x.strip()]"
   ]
  },
  {
   "cell_type": "code",
   "execution_count": 2,
   "metadata": {},
   "outputs": [
    {
     "name": "stderr",
     "output_type": "stream",
     "text": [
      "C:\\Users\\HuaSheng\\AppData\\Local\\conda\\conda\\envs\\tfkrNv\\lib\\re.py:212: FutureWarning: split() requires a non-empty pattern match.\n",
      "  return _compile(pattern, flags).split(string, maxsplit)\n"
     ]
    }
   ],
   "source": [
    "def parse_stories(lines, only_supporting=False):\n",
    "    '''Parse stories provided in the bAbi tasks format\n",
    "    If only_supporting is true,\n",
    "    only the sentences that support the answer are kept.\n",
    "    '''\n",
    "    data = []\n",
    "    story = []\n",
    "    for line in lines:\n",
    "        #print(line)\n",
    "        #line = line.decode('utf-8').strip()\n",
    "        nid, line = line.split(' ', 1)\n",
    "        #print([nid,line])\n",
    "        nid = int(nid)\n",
    "        if nid == 1:\n",
    "            story = []\n",
    "        if '\\t' in line:\n",
    "            q, a, supporting = line.split('\\t')\n",
    "            q = tokenize(q)\n",
    "            substory = None\n",
    "            if only_supporting:\n",
    "                # Only select the related substory\n",
    "                supporting = map(int, supporting.split())\n",
    "                substory = [story[i - 1] for i in supporting]\n",
    "            else:\n",
    "                # Provide all the substories\n",
    "                substory = [ x for x in story if x]\n",
    "            data.append((substory, q, a))\n",
    "            story.append('')\n",
    "        else:\n",
    "            sent = tokenize(line)\n",
    "            story.append(sent)\n",
    "    return data\n",
    "\n",
    "\n",
    "def get_stories(f, only_supporting=False, max_length=None):\n",
    "    '''Given a file name, read the file, retrieve the stories,\n",
    "    and then convert the sentences into a single story.\n",
    "    If max_length is supplied,\n",
    "    any stories longer than max_length tokens will be discarded.\n",
    "    '''\n",
    "    data = parse_stories(f.readlines(), only_supporting=only_supporting)\n",
    "    #print(data[0])\n",
    "    flatten = lambda data: reduce(lambda x, y: x + y, data)\n",
    "    data = [(flatten(story), q, answer) for story, q, answer in data if not max_length or len(flatten(story)) < max_length]\n",
    "    #print(data)\n",
    "    return data\n",
    "\n",
    "\n",
    "def vectorize_stories(data, word_idx, story_maxlen, query_maxlen):\n",
    "    xs = []\n",
    "    xqsi = []\n",
    "    xqso = []\n",
    "    ys = []\n",
    "    for story, query, answer in data:\n",
    "        x = [word_idx[w] for w in story]\n",
    "        x += [word_idx['\\n']]\n",
    "        xq = [word_idx[w] for w in query]\n",
    "        y=word_idx[answer]\n",
    "        xqi =[y] + xq\n",
    "        xqo = xq  +[word_idx['\\n']]\n",
    "        xs.append(x)\n",
    "        xqsi.append(xqi)\n",
    "        xqso.append(xqo)\n",
    "        ys.append(y)\n",
    "    return pad_sequences(xs, maxlen=story_maxlen,padding='pre'), pad_sequences(xqsi, maxlen=query_maxlen,padding='post'),\\\n",
    "pad_sequences(xqso, maxlen=query_maxlen,padding='post'), np.array(ys)\n",
    "BATCH_SIZE = 32\n",
    "EPOCHS = 40\n",
    "\n",
    "trainFile = open('./qa5_three-arg-relations_train.txt','r')\n",
    "train = get_stories(trainFile)\n",
    "test = get_stories(open('./qa5_three-arg-relations_test.txt'))"
   ]
  },
  {
   "cell_type": "code",
   "execution_count": 3,
   "metadata": {},
   "outputs": [
    {
     "data": {
      "text/plain": [
       "(['Fred',\n",
       "  'picked',\n",
       "  'up',\n",
       "  'the',\n",
       "  'football',\n",
       "  'there',\n",
       "  '.',\n",
       "  'Fred',\n",
       "  'gave',\n",
       "  'the',\n",
       "  'football',\n",
       "  'to',\n",
       "  'Jeff',\n",
       "  '.'],\n",
       " ['What', 'did', 'Fred', 'give', 'to', 'Jeff', '?'],\n",
       " 'football')"
      ]
     },
     "execution_count": 3,
     "metadata": {},
     "output_type": "execute_result"
    }
   ],
   "source": [
    "test[0]"
   ]
  },
  {
   "cell_type": "code",
   "execution_count": 4,
   "metadata": {
    "scrolled": true
   },
   "outputs": [
    {
     "name": "stdout",
     "output_type": "stream",
     "text": [
      "['\\t', '\\n', '.', '?', 'Bill', 'Fred', 'Jeff', 'Mary', 'What', 'Who', 'apple', 'back', 'bathroom', 'bedroom', 'did', 'discarded', 'down', 'dropped', 'football', 'garden', 'gave', 'give', 'got', 'grabbed', 'hallway', 'handed', 'journeyed', 'kitchen', 'left', 'milk', 'moved', 'office', 'passed', 'picked', 'put', 'received', 'the', 'there', 'to', 'took', 'travelled', 'up', 'went']\n",
      "364\n"
     ]
    }
   ],
   "source": [
    "vocab = set()\n",
    "vocab |=set(('\\t','\\n'))\n",
    "for story, q, answer in train + test:\n",
    "    vocab |= set(story + q + [answer])\n",
    "vocab = sorted(vocab)\n",
    "print(vocab)\n",
    "\n",
    "# Reserve 0 for masking via pad_sequences\n",
    "vocab_size = len(vocab) + 1\n",
    "word_idx = dict((c, i + 1) for i, c in enumerate(vocab))\n",
    "inv_map = {v: k for k, v in word_idx.items()}\n",
    "story_maxlen = max(map(len, (x for x, _, _ in train + test)))\n",
    "query_maxlen = max(map(len, (x for _, x, _ in train + test)))+1\n",
    "longestStory = np.argmax(list(map(len, (x for x, _, _ in train + test))))\n",
    "print(longestStory)\n",
    "x, xqi,xqoMid, y = vectorize_stories(train, word_idx, story_maxlen, query_maxlen)\n",
    "tx, txqi,txqoMid, ty = vectorize_stories(test, word_idx, story_maxlen, query_maxlen)\n"
   ]
  },
  {
   "cell_type": "code",
   "execution_count": 5,
   "metadata": {},
   "outputs": [
    {
     "name": "stdout",
     "output_type": "stream",
     "text": [
      "[ 9 15  5 22 39  6  4  2  0]\n",
      "[[ 0.  0.  0.  0.  0.  0.  0.  0.  0.  1.  0.  0.  0.  0.  0.  0.  0.  0.\n",
      "   0.  0.  0.  0.  0.  0.  0.  0.  0.  0.  0.  0.  0.  0.  0.  0.  0.  0.\n",
      "   0.  0.  0.  0.  0.  0.  0.  0.]\n",
      " [ 0.  0.  0.  0.  0.  0.  0.  0.  0.  0.  0.  0.  0.  0.  0.  1.  0.  0.\n",
      "   0.  0.  0.  0.  0.  0.  0.  0.  0.  0.  0.  0.  0.  0.  0.  0.  0.  0.\n",
      "   0.  0.  0.  0.  0.  0.  0.  0.]\n",
      " [ 0.  0.  0.  0.  0.  1.  0.  0.  0.  0.  0.  0.  0.  0.  0.  0.  0.  0.\n",
      "   0.  0.  0.  0.  0.  0.  0.  0.  0.  0.  0.  0.  0.  0.  0.  0.  0.  0.\n",
      "   0.  0.  0.  0.  0.  0.  0.  0.]\n",
      " [ 0.  0.  0.  0.  0.  0.  0.  0.  0.  0.  0.  0.  0.  0.  0.  0.  0.  0.\n",
      "   0.  0.  0.  0.  1.  0.  0.  0.  0.  0.  0.  0.  0.  0.  0.  0.  0.  0.\n",
      "   0.  0.  0.  0.  0.  0.  0.  0.]\n",
      " [ 0.  0.  0.  0.  0.  0.  0.  0.  0.  0.  0.  0.  0.  0.  0.  0.  0.  0.\n",
      "   0.  0.  0.  0.  0.  0.  0.  0.  0.  0.  0.  0.  0.  0.  0.  0.  0.  0.\n",
      "   0.  0.  0.  1.  0.  0.  0.  0.]\n",
      " [ 0.  0.  0.  0.  0.  0.  1.  0.  0.  0.  0.  0.  0.  0.  0.  0.  0.  0.\n",
      "   0.  0.  0.  0.  0.  0.  0.  0.  0.  0.  0.  0.  0.  0.  0.  0.  0.  0.\n",
      "   0.  0.  0.  0.  0.  0.  0.  0.]\n",
      " [ 0.  0.  0.  0.  1.  0.  0.  0.  0.  0.  0.  0.  0.  0.  0.  0.  0.  0.\n",
      "   0.  0.  0.  0.  0.  0.  0.  0.  0.  0.  0.  0.  0.  0.  0.  0.  0.  0.\n",
      "   0.  0.  0.  0.  0.  0.  0.  0.]\n",
      " [ 0.  0.  1.  0.  0.  0.  0.  0.  0.  0.  0.  0.  0.  0.  0.  0.  0.  0.\n",
      "   0.  0.  0.  0.  0.  0.  0.  0.  0.  0.  0.  0.  0.  0.  0.  0.  0.  0.\n",
      "   0.  0.  0.  0.  0.  0.  0.  0.]\n",
      " [ 1.  0.  0.  0.  0.  0.  0.  0.  0.  0.  0.  0.  0.  0.  0.  0.  0.  0.\n",
      "   0.  0.  0.  0.  0.  0.  0.  0.  0.  0.  0.  0.  0.  0.  0.  0.  0.  0.\n",
      "   0.  0.  0.  0.  0.  0.  0.  0.]]\n"
     ]
    }
   ],
   "source": [
    "print(xqoMid[0])\n",
    "def token2OHE(xqo):\n",
    "    temp = np.zeros((xqo.shape[0], 9, 44),dtype='float32')\n",
    "    for i,idx in enumerate(xqo):\n",
    "        #print(idx.shape)\n",
    "        for u,v in enumerate(idx):\n",
    "            temp [i,u, v] = 1.\n",
    "    return temp\n",
    "\n",
    "xqo=token2OHE(xqoMid)\n",
    "txqo=token2OHE(txqoMid)\n",
    "print(xqo[0])"
   ]
  },
  {
   "cell_type": "code",
   "execution_count": 6,
   "metadata": {},
   "outputs": [
    {
     "name": "stdout",
     "output_type": "stream",
     "text": [
      "['_', '_', '_', '_', '_', '_', '_', '_', '_', '_', '_', '_', '_', '_', '_', '_', '_', '_', '_', '_', '_', '_', '_', '_', '_', '_', '_', '_', '_', '_', '_', '_', '_', '_', '_', '_', '_', '_', '_', '_', '_', '_', '_', '_', '_', '_', '_', '_', '_', '_', '_', '_', '_', '_', '_', '_', '_', '_', '_', '_', '_', '_', '_', '_', '_', '_', '_', '_', '_', '_', '_', '_', '_', '_', '_', '_', '_', '_', '_', '_', '_', '_', '_', '_', '_', '_', '_', '_', '_', '_', '_', '_', '_', '_', '_', '_', '_', '_', '_', '_', '_', '_', '_', '_', '_', '_', '_', '_', '_', '_', '_', '_', '_', '_', '_', '_', '_', '_', '_', '_', '_', '_', '_', '_', '_', '_', '_', '_', '_', '_', '_', '_', '_', '_', '_', '_', '_', '_', '_', '_', '_', '_', '_', '_', '_', '_', '_', '_', '_', '_', '_', '_', '_', '_', '_', '_', '_', '_', '_', '_', '_', '_', '_', '_', '_', '_', '_', '_', '_', '_', '_', '_', '_', '_', '_', '_', '_', '_', '_', '_', '_', '_', '_', '_', '_', '_', '_', '_', '_', '_', '_', '_', '_', '_', '_', '_', '_', '_', '_', '_', '_', '_', '_', '_', '_', '_', '_', '_', '_', '_', '_', '_', '_', '_', '_', '_', '_', '_', '_', '_', '_', '_', '_', '_', '_', '_', '_', '_', '_', '_', '_', '_', '_', '_', '_', '_', '_', '_', '_', '_', '_', '_', '_', '_', '_', '_', '_', '_', '_', '_', '_', '_', '_', '_', '_', '_', '_', '_', '_', '_', '_', '_', '_', '_', '_', '_', '_', '_', '_', '_', '_', '_', '_', '_', '_', '_', '_', '_', '_', '_', '_', '_', '_', '_', '_', '_', '_', '_', '_', '_', '_', '_', '_', '_', '_', '_', '_', '_', '_', '_', '_', '_', '_', '_', '_', '_', '_', '_', '_', '_', '_', '_', '_', '_', '_', '_', '_', '_', '_', '_', '_', '_', '_', '_', '_', '_', '_', '_', '_', '_', '_', '_', '_', '_', '_', '_', '_', '_', '_', '_', '_', '_', '_', '_', '_', '_', '_', '_', '_', '_', '_', '_', '_', '_', '_', '_', '_', '_', '_', '_', '_', '_', '_', '_', '_', '_', '_', '_', '_', '_', '_', '_', '_', '_', '_', '_', '_', '_', '_', '_', '_', '_', '_', '_', '_', '_', '_', '_', '_', '_', '_', '_', '_', '_', '_', '_', '_', '_', '_', '_', '_', '_', '_', '_', '_', '_', '_', '_', '_', '_', '_', '_', '_', '_', '_', '_', '_', '_', '_', '_', '_', '_', '_', '_', '_', '_', '_', '_', '_', '_', '_', '_', '_', '_', '_', '_', '_', '_', '_', '_', '_', '_', '_', '_', '_', '_', '_', '_', '_', '_', '_', '_', '_', '_', '_', '_', '_', '_', '_', '_', '_', '_', '_', '_', '_', '_', '_', '_', '_', '_', '_', '_', '_', '_', '_', '_', '_', '_', '_', '_', '_', '_', '_', '_', '_', '_', '_', '_', '_', '_', '_', '_', '_', '_', '_', '_', '_', '_', '_', '_', '_', '_', '_', '_', '_', '_', '_', '_', '_', '_', '_', '_', '_', '_', '_', '_', '_', '_', '_', '_', '_', '_', '_', '_', '_', 'Jeff', 'travelled', 'to', 'the', 'bedroom', '.', 'Jeff', 'went', 'to', 'the', 'hallway', '.', 'Mary', 'moved', 'to', 'the', 'garden', '.', 'Bill', 'moved', 'to', 'the', 'bedroom', '.', 'Jeff', 'journeyed', 'to', 'the', 'kitchen', '.', 'Mary', 'went', 'to', 'the', 'hallway', '.', 'Mary', 'journeyed', 'to', 'the', 'bathroom', '.', 'Mary', 'went', 'back', 'to', 'the', 'kitchen', '.', 'Bill', 'travelled', 'to', 'the', 'bathroom', '.', 'Bill', 'moved', 'to', 'the', 'office', '.', 'Mary', 'journeyed', 'to', 'the', 'bathroom', '.', 'Mary', 'picked', 'up', 'the', 'milk', 'there', '.', 'Bill', 'went', 'back', 'to', 'the', 'hallway', '.', 'Mary', 'went', 'back', 'to', 'the', 'garden', '.', 'Mary', 'moved', 'to', 'the', 'hallway', '.', 'Mary', 'passed', 'the', 'milk', 'to', 'Bill', '.', '\\n']\n",
      "['Bill', 'Who', 'did', 'Mary', 'give', 'the', 'milk', 'to', '?']\n",
      "['Who', 'did', 'Mary', 'give', 'the', 'milk', 'to', '?', '\\n']\n",
      "[[ 0.  0.  0.  0.  0.  0.  0.  0.  0.  0.  1.  0.  0.  0.  0.  0.  0.  0.\n",
      "   0.  0.  0.  0.  0.  0.  0.  0.  0.  0.  0.  0.  0.  0.  0.  0.  0.  0.\n",
      "   0.  0.  0.  0.  0.  0.  0.  0.]\n",
      " [ 0.  0.  0.  0.  0.  0.  0.  0.  0.  0.  0.  0.  0.  0.  0.  1.  0.  0.\n",
      "   0.  0.  0.  0.  0.  0.  0.  0.  0.  0.  0.  0.  0.  0.  0.  0.  0.  0.\n",
      "   0.  0.  0.  0.  0.  0.  0.  0.]\n",
      " [ 0.  0.  0.  0.  0.  0.  0.  0.  1.  0.  0.  0.  0.  0.  0.  0.  0.  0.\n",
      "   0.  0.  0.  0.  0.  0.  0.  0.  0.  0.  0.  0.  0.  0.  0.  0.  0.  0.\n",
      "   0.  0.  0.  0.  0.  0.  0.  0.]\n",
      " [ 0.  0.  0.  0.  0.  0.  0.  0.  0.  0.  0.  0.  0.  0.  0.  0.  0.  0.\n",
      "   0.  0.  0.  0.  1.  0.  0.  0.  0.  0.  0.  0.  0.  0.  0.  0.  0.  0.\n",
      "   0.  0.  0.  0.  0.  0.  0.  0.]\n",
      " [ 0.  0.  0.  0.  0.  0.  0.  0.  0.  0.  0.  0.  0.  0.  0.  0.  0.  0.\n",
      "   0.  0.  0.  0.  0.  0.  0.  0.  0.  0.  0.  0.  0.  0.  0.  0.  0.  0.\n",
      "   0.  1.  0.  0.  0.  0.  0.  0.]\n",
      " [ 0.  0.  0.  0.  0.  0.  0.  0.  0.  0.  0.  0.  0.  0.  0.  0.  0.  0.\n",
      "   0.  0.  0.  0.  0.  0.  0.  0.  0.  0.  0.  0.  1.  0.  0.  0.  0.  0.\n",
      "   0.  0.  0.  0.  0.  0.  0.  0.]\n",
      " [ 0.  0.  0.  0.  0.  0.  0.  0.  0.  0.  0.  0.  0.  0.  0.  0.  0.  0.\n",
      "   0.  0.  0.  0.  0.  0.  0.  0.  0.  0.  0.  0.  0.  0.  0.  0.  0.  0.\n",
      "   0.  0.  0.  1.  0.  0.  0.  0.]\n",
      " [ 0.  0.  0.  0.  1.  0.  0.  0.  0.  0.  0.  0.  0.  0.  0.  0.  0.  0.\n",
      "   0.  0.  0.  0.  0.  0.  0.  0.  0.  0.  0.  0.  0.  0.  0.  0.  0.  0.\n",
      "   0.  0.  0.  0.  0.  0.  0.  0.]\n",
      " [ 0.  0.  1.  0.  0.  0.  0.  0.  0.  0.  0.  0.  0.  0.  0.  0.  0.  0.\n",
      "   0.  0.  0.  0.  0.  0.  0.  0.  0.  0.  0.  0.  0.  0.  0.  0.  0.  0.\n",
      "   0.  0.  0.  0.  0.  0.  0.  0.]]\n",
      "Bill\n",
      "Who\n"
     ]
    }
   ],
   "source": [
    "inv_map[0]='_'\n",
    "checkIdx = 50\n",
    "print([inv_map[i] for i in x[checkIdx] ])\n",
    "print([inv_map[i] for i in xqi[checkIdx]])\n",
    "print([inv_map[i] for i in xqoMid[checkIdx]])\n",
    "print(xqo[checkIdx])\n",
    "print(inv_map[y[checkIdx]] )\n",
    "print(inv_map[np.argmax(xqo[checkIdx][0])] )"
   ]
  },
  {
   "cell_type": "code",
   "execution_count": 14,
   "metadata": {
    "scrolled": true
   },
   "outputs": [
    {
     "name": "stdout",
     "output_type": "stream",
     "text": [
      "vocab = ['\\t', '\\n', '.', '?', 'Bill', 'Fred', 'Jeff', 'Mary', 'What', 'Who', 'apple', 'back', 'bathroom', 'bedroom', 'did', 'discarded', 'down', 'dropped', 'football', 'garden', 'gave', 'give', 'got', 'grabbed', 'hallway', 'handed', 'journeyed', 'kitchen', 'left', 'milk', 'moved', 'office', 'passed', 'picked', 'put', 'received', 'the', 'there', 'to', 'took', 'travelled', 'up', 'went']\n",
      "x.shape = (1000, 627)\n",
      "xq.shape = (1000, 9)\n",
      "xq.shape = (1000, 9, 44)\n",
      "y.shape = (1000,)\n",
      "story_maxlen, query_maxlen = 627, 9\n",
      "Tensor(\"input_5:0\", shape=(?, 627), dtype=float32)\n",
      "Tensor(\"embedding_3/Gather:0\", shape=(?, 627, 80), dtype=float32)\n",
      "Tensor(\"LSTM_01_2/transpose_1:0\", shape=(?, ?, 49), dtype=float32)\n",
      "Tensor(\"dense_2/truediv:0\", shape=(?, 9, 44), dtype=float32)\n",
      "____________________________________________________________________________________________________\n",
      "Layer (type)                     Output Shape          Param #     Connected to                     \n",
      "====================================================================================================\n",
      "decoder_inputs (InputLayer)      (None, 9)             0                                            \n",
      "____________________________________________________________________________________________________\n",
      "input_5 (InputLayer)             (None, 627)           0                                            \n",
      "____________________________________________________________________________________________________\n",
      "embedding_3 (Embedding)          multiple              3520        input_5[0][0]                    \n",
      "                                                                   decoder_inputs[0][0]             \n",
      "____________________________________________________________________________________________________\n",
      "lstm_3 (LSTM)                    [(None, 49), (None, 4 25480       embedding_3[0][0]                \n",
      "____________________________________________________________________________________________________\n",
      "LSTM_01 (LSTM)                   [(None, 9, 49), (None 25480       embedding_3[1][0]                \n",
      "                                                                   lstm_3[0][1]                     \n",
      "                                                                   lstm_3[0][2]                     \n",
      "____________________________________________________________________________________________________\n",
      "dense_2 (Dense)                  (None, 9, 44)         2200        LSTM_01[0][0]                    \n",
      "====================================================================================================\n",
      "Total params: 56,680\n",
      "Trainable params: 56,680\n",
      "Non-trainable params: 0\n",
      "____________________________________________________________________________________________________\n",
      "Train on 900 samples, validate on 100 samples\n",
      "Epoch 1/20\n",
      "900/900 [==============================] - 14s - loss: 3.6974 - acc: 0.1956 - val_loss: 3.0495 - val_acc: 0.2356\n",
      "Epoch 2/20\n",
      "900/900 [==============================] - 12s - loss: 2.7723 - acc: 0.2378 - val_loss: 2.5237 - val_acc: 0.2722\n",
      "Epoch 3/20\n",
      "900/900 [==============================] - 11s - loss: 2.4008 - acc: 0.2864 - val_loss: 2.2516 - val_acc: 0.3233\n",
      "Epoch 4/20\n",
      "900/900 [==============================] - 10s - loss: 2.2065 - acc: 0.3233 - val_loss: 2.1232 - val_acc: 0.3833\n",
      "Epoch 5/20\n",
      "900/900 [==============================] - 10s - loss: 2.0649 - acc: 0.4094 - val_loss: 2.0323 - val_acc: 0.5778\n",
      "Epoch 6/20\n",
      "900/900 [==============================] - 11s - loss: 1.9512 - acc: 0.4985 - val_loss: 1.9374 - val_acc: 0.5278\n",
      "Epoch 7/20\n",
      "900/900 [==============================] - 10s - loss: 1.8631 - acc: 0.5381 - val_loss: 1.7789 - val_acc: 0.5011\n",
      "Epoch 8/20\n",
      "900/900 [==============================] - 10s - loss: 1.7510 - acc: 0.5669 - val_loss: 1.7185 - val_acc: 0.5322\n",
      "Epoch 9/20\n",
      "900/900 [==============================] - 9s - loss: 1.6726 - acc: 0.5993 - val_loss: 1.6329 - val_acc: 0.6133\n",
      "Epoch 10/20\n",
      "900/900 [==============================] - 10s - loss: 1.6029 - acc: 0.6295 - val_loss: 1.6155 - val_acc: 0.5722\n",
      "Epoch 11/20\n",
      "900/900 [==============================] - 9s - loss: 1.5313 - acc: 0.6302 - val_loss: 1.4813 - val_acc: 0.6733\n",
      "Epoch 12/20\n",
      "900/900 [==============================] - 9s - loss: 1.4491 - acc: 0.6560 - val_loss: 1.4422 - val_acc: 0.6133\n",
      "Epoch 13/20\n",
      "900/900 [==============================] - 10s - loss: 1.4034 - acc: 0.6502 - val_loss: 1.3867 - val_acc: 0.6322\n",
      "Epoch 14/20\n",
      "900/900 [==============================] - 10s - loss: 1.3252 - acc: 0.6623 - val_loss: 1.3070 - val_acc: 0.6444\n",
      "Epoch 15/20\n",
      "900/900 [==============================] - 10s - loss: 1.2599 - acc: 0.6663 - val_loss: 1.2067 - val_acc: 0.6733\n",
      "Epoch 16/20\n",
      "900/900 [==============================] - 10s - loss: 1.1807 - acc: 0.6712 - val_loss: 1.1376 - val_acc: 0.6922\n",
      "Epoch 17/20\n",
      "900/900 [==============================] - 9s - loss: 1.1444 - acc: 0.6873 - val_loss: 1.1031 - val_acc: 0.6989\n",
      "Epoch 18/20\n",
      "900/900 [==============================] - 9s - loss: 1.0653 - acc: 0.6901 - val_loss: 1.0311 - val_acc: 0.7100\n",
      "Epoch 19/20\n",
      "900/900 [==============================] - 10s - loss: 1.0119 - acc: 0.7006 - val_loss: 1.0259 - val_acc: 0.7011\n",
      "Epoch 20/20\n",
      "900/900 [==============================] - 9s - loss: 0.9633 - acc: 0.7112 - val_loss: 0.9242 - val_acc: 0.7133\n"
     ]
    },
    {
     "data": {
      "text/plain": [
       "<keras.callbacks.History at 0x16623edc9b0>"
      ]
     },
     "execution_count": 14,
     "metadata": {},
     "output_type": "execute_result"
    }
   ],
   "source": [
    "print('vocab = {}'.format(vocab))\n",
    "print('x.shape = {}'.format(x.shape))\n",
    "print('xq.shape = {}'.format(xqi.shape))\n",
    "print('xq.shape = {}'.format(xqo.shape))\n",
    "print('y.shape = {}'.format(y.shape))\n",
    "print('story_maxlen, query_maxlen = {}, {}'.format(story_maxlen, query_maxlen))\n",
    "LSTM_SZ = 49\n",
    "\n",
    "embeddingLayer =  Embedding(vocab_size, 80)\n",
    "encoder_inputs = Input(shape=( story_maxlen ,)) \n",
    "print(encoder_inputs)\n",
    "eInp =embeddingLayer(encoder_inputs)\n",
    "print(eInp)\n",
    "encoder = LSTM(LSTM_SZ ,return_state=True)\n",
    "encoder_outputs, state_h, state_c = encoder(eInp)\n",
    "encoder_states = [state_h, state_c]\n",
    "decoder_inputs = Input(shape=(query_maxlen,),name='decoder_inputs')\n",
    "dInp = embeddingLayer(decoder_inputs)\n",
    "decoder_lstm = LSTM(LSTM_SZ , return_sequences=True, return_state=True,name='LSTM_01') \n",
    "decoder_outputs, _, _ = decoder_lstm(dInp , initial_state=encoder_states)\n",
    "print(decoder_outputs)\n",
    "decoder_dense =Dense(vocab_size, activation='softmax')\n",
    "decoder_outputs = decoder_dense(decoder_outputs)\n",
    "print(decoder_outputs)\n",
    "model = Model([encoder_inputs, decoder_inputs], decoder_outputs)\n",
    "model.summary()\n",
    "model.compile(optimizer='rmsprop', loss='categorical_crossentropy',metrics=['accuracy'])\n",
    "reduce_LR = ReduceLROnPlateau(monitor='val_loss',factor = 0.9, patience=3,cooldown=2, min_lr = 0.00001)\n",
    "model.fit([x, xqi], xqo,\n",
    "          batch_size=128,\n",
    "          epochs=20,\n",
    "          callbacks=[reduce_LR],\n",
    "          validation_split=0.1)\n"
   ]
  },
  {
   "cell_type": "code",
   "execution_count": 8,
   "metadata": {
    "scrolled": true
   },
   "outputs": [
    {
     "name": "stdout",
     "output_type": "stream",
     "text": [
      "Epoch 1/1\n",
      "1000/1000 [==============================] - 26s - loss: 0.7572 - acc: 0.7923    "
     ]
    },
    {
     "name": "stderr",
     "output_type": "stream",
     "text": [
      "C:\\Users\\HuaSheng\\AppData\\Local\\conda\\conda\\envs\\tfkrNv\\lib\\site-packages\\keras\\callbacks.py:878: RuntimeWarning: Learning Rate Plateau Reducing requires val_loss available!\n",
      "  self.monitor, RuntimeWarning)\n"
     ]
    },
    {
     "name": "stdout",
     "output_type": "stream",
     "text": [
      "\n",
      "1000/1000 [==============================] - 5s     \n"
     ]
    },
    {
     "data": {
      "text/plain": [
       "[0.73734524542093272, 0.77755555450916292]"
      ]
     },
     "execution_count": 8,
     "metadata": {},
     "output_type": "execute_result"
    }
   ],
   "source": [
    "model.fit([x, xqi], xqo,\n",
    "          batch_size=49,\n",
    "          epochs=1,\n",
    "          callbacks=[reduce_LR],\n",
    "          validation_split=0)\n",
    "model.evaluate([tx, txqi], txqo,\n",
    "          batch_size=49)"
   ]
  },
  {
   "cell_type": "code",
   "execution_count": 9,
   "metadata": {
    "collapsed": true
   },
   "outputs": [],
   "source": [
    "encoder_model = Model(encoder_inputs, encoder_states)\n",
    "decoder_state_input_h = Input(shape=(LSTM_SZ ,))\n",
    "decoder_state_input_c = Input(shape=(LSTM_SZ ,))\n",
    "decoder_states_inputs = [decoder_state_input_h, decoder_state_input_c]\n",
    "decoder_outputs, state_h, state_c = decoder_lstm(dInp, initial_state=decoder_states_inputs)\n",
    "decoder_states = [state_h, state_c]\n",
    "decoder_outputs = decoder_dense(decoder_outputs)\n",
    "decoder_model = Model(\n",
    "    [decoder_inputs] + decoder_states_inputs,\n",
    "    [decoder_outputs] + decoder_states)"
   ]
  },
  {
   "cell_type": "code",
   "execution_count": 10,
   "metadata": {},
   "outputs": [
    {
     "data": {
      "text/plain": [
       "'football'"
      ]
     },
     "execution_count": 10,
     "metadata": {},
     "output_type": "execute_result"
    }
   ],
   "source": [
    "inv_map[y[0]]"
   ]
  },
  {
   "cell_type": "code",
   "execution_count": 12,
   "metadata": {
    "scrolled": true
   },
   "outputs": [
    {
     "name": "stdout",
     "output_type": "stream",
     "text": [
      " Who _ _ _ _ _ _ _\n",
      "['Fred', 'Who', '_', '_', '_', '_', '_', '_', '_']\n"
     ]
    }
   ],
   "source": [
    "def decode_sequence(input_seq,yIn,inv_map):\n",
    "    # Encode the input as state vectors.\n",
    "    states_value = encoder_model.predict(input_seq)\n",
    "    target_seq = np.zeros(( 1, query_maxlen))\n",
    "    target_seq[ 0, 0] = yIn\n",
    "    stop_condition = False #our stop condition will be '/n' which acts as <EOS>\n",
    "    decoded_sentence = ''\n",
    "    ct =0\n",
    "    while not stop_condition:\n",
    "        output_tokens, h, c = decoder_model.predict([target_seq] + states_value)\n",
    "        target_seq[0, ct+1] = np.argmax(output_tokens[0,ct, :])\n",
    "        sampled_char = inv_map[target_seq[0, ct+1]]\n",
    "        decoded_sentence += ' '+sampled_char\n",
    "        if (ct>6):\n",
    "            stop_condition = True\n",
    "        ct+=1\n",
    "        states_value = [h, c]\n",
    "    return decoded_sentence,target_seq\n",
    "testIdx =3\n",
    "input_seq = np.expand_dims(x[testIdx],axis=0)\n",
    "yIn = y[testIdx]\n",
    "decoded_sentence,target_seq = decode_sequence(input_seq,yIn,inv_map)\n",
    "print(decoded_sentence)\n",
    "print([inv_map[i] for i in target_seq[0] ])"
   ]
  },
  {
   "cell_type": "code",
   "execution_count": null,
   "metadata": {
    "collapsed": true
   },
   "outputs": [],
   "source": [
    "inv_map[21]"
   ]
  },
  {
   "cell_type": "code",
   "execution_count": null,
   "metadata": {
    "collapsed": true
   },
   "outputs": [],
   "source": [
    "inv_map[0]='_'"
   ]
  },
  {
   "cell_type": "code",
   "execution_count": null,
   "metadata": {
    "collapsed": true,
    "scrolled": true
   },
   "outputs": [],
   "source": [
    "input_seq = np.expand_dims(x[3],axis=0)\n",
    "states_value = encoder_model.predict(input_seq)\n",
    "target_seq = np.zeros(( 1, query_maxlen))\n",
    "target_seq[ 0, 0] = word_idx['\\t']\n",
    "print(target_seq.shape)\n",
    "stop_condition = False\n",
    "decoded_sentence = ' '\n",
    "ct =0\n",
    "while not stop_condition:\n",
    "    print(ct)\n",
    "    print( len(decoded_sentence))\n",
    "    output_tokens, h, c = decoder_model.predict([target_seq] + states_value)\n",
    "    sampled_token_index = np.argmax(output_tokens[0,ct, :])\n",
    "    sampled_char = inv_map[sampled_token_index]\n",
    "    print(sampled_char)\n",
    "    decoded_sentence +=  sampled_char\n",
    "    if (  len(decoded_sentence)+1 > query_maxlen):\n",
    "        stop_condition = True\n",
    "        print('stop' + str(len(decoded_sentence)))\n",
    "    ct+=1\n",
    "    # Update the target sequence (of length 1).\n",
    "    target_seq[0, ct] =sampled_token_index\n",
    "\n",
    "    # Update states\n",
    "    states_value = [h, c]\n",
    "print(target_seq)"
   ]
  },
  {
   "cell_type": "code",
   "execution_count": null,
   "metadata": {
    "collapsed": true
   },
   "outputs": [],
   "source": [
    "print(decoded_sentence)\n",
    "print(inv_map[1])"
   ]
  },
  {
   "cell_type": "code",
   "execution_count": null,
   "metadata": {
    "collapsed": true
   },
   "outputs": [],
   "source": [
    "print(inv_map[00])"
   ]
  },
  {
   "cell_type": "code",
   "execution_count": null,
   "metadata": {
    "collapsed": true
   },
   "outputs": [],
   "source": [
    "\n",
    "\n",
    "print(input_seq)\n",
    "print(decoded_sentence)"
   ]
  },
  {
   "cell_type": "code",
   "execution_count": null,
   "metadata": {
    "collapsed": true
   },
   "outputs": [],
   "source": []
  }
 ],
 "metadata": {
  "kernelspec": {
   "display_name": "Python 3",
   "language": "python",
   "name": "python3"
  },
  "language_info": {
   "codemirror_mode": {
    "name": "ipython",
    "version": 3
   },
   "file_extension": ".py",
   "mimetype": "text/x-python",
   "name": "python",
   "nbconvert_exporter": "python",
   "pygments_lexer": "ipython3",
   "version": "3.6.1"
  }
 },
 "nbformat": 4,
 "nbformat_minor": 2
}
