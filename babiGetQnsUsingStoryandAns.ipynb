{
 "cells": [
  {
   "cell_type": "code",
   "execution_count": 1,
   "metadata": {},
   "outputs": [
    {
     "name": "stderr",
     "output_type": "stream",
     "text": [
      "Using TensorFlow backend.\n"
     ]
    },
    {
     "name": "stdout",
     "output_type": "stream",
     "text": [
      "2.0.5\n"
     ]
    }
   ],
   "source": [
    "import keras\n",
    "from __future__ import print_function\n",
    "from functools import reduce\n",
    "import re\n",
    "import tarfile\n",
    "import numpy as np\n",
    "from keras.utils.data_utils import get_file\n",
    "from keras.utils import to_categorical\n",
    "from keras.layers.embeddings import Embedding\n",
    "from keras import layers\n",
    "from keras.layers import *\n",
    "from keras.models import Model\n",
    "from keras.preprocessing.sequence import pad_sequences\n",
    "from keras.callbacks import ReduceLROnPlateau\n",
    "print(keras.__version__)\n",
    "\n",
    "def tokenize(sent):\n",
    "    '''Return the tokens of a sentence including punctuation.\n",
    "    >>> tokenize('Bob dropped the apple. Where is the apple?')\n",
    "    ['Bob', 'dropped', 'the', 'apple', '.', 'Where', 'is', 'the', 'apple', '?']\n",
    "    '''\n",
    "    return [x.strip() for x in re.split('(\\W+)?', sent) if x.strip()]"
   ]
  },
  {
   "cell_type": "code",
   "execution_count": 10,
   "metadata": {},
   "outputs": [
    {
     "name": "stderr",
     "output_type": "stream",
     "text": [
      "C:\\Users\\HuaSheng\\AppData\\Local\\conda\\conda\\envs\\tfkrNv\\lib\\re.py:212: FutureWarning: split() requires a non-empty pattern match.\n",
      "  return _compile(pattern, flags).split(string, maxsplit)\n"
     ]
    }
   ],
   "source": [
    "def parse_stories(lines, only_supporting=False):\n",
    "    '''Parse stories provided in the bAbi tasks format\n",
    "    If only_supporting is true,\n",
    "    only the sentences that support the answer are kept.\n",
    "    '''\n",
    "    data = []\n",
    "    story = []\n",
    "    for line in lines:\n",
    "        #print(line)\n",
    "        #line = line.decode('utf-8').strip()\n",
    "        nid, line = line.split(' ', 1)\n",
    "        #print([nid,line])\n",
    "        nid = int(nid)\n",
    "        if nid == 1:\n",
    "            story = []\n",
    "        if '\\t' in line:\n",
    "            q, a, supporting = line.split('\\t')\n",
    "            q = tokenize(q)\n",
    "            substory = None\n",
    "            if only_supporting:\n",
    "                # Only select the related substory\n",
    "                supporting = map(int, supporting.split())\n",
    "                substory = [story[i - 1] for i in supporting]\n",
    "            else:\n",
    "                # Provide all the substories\n",
    "                substory = [ x for x in story if x]\n",
    "            data.append((substory, q, a))\n",
    "            story.append('')\n",
    "        else:\n",
    "            sent = tokenize(line)\n",
    "            story.append(sent)\n",
    "    return data\n",
    "\n",
    "\n",
    "def get_stories(f, only_supporting=False, max_length=None):\n",
    "    '''Given a file name, read the file, retrieve the stories,\n",
    "    and then convert the sentences into a single story.\n",
    "    If max_length is supplied,\n",
    "    any stories longer than max_length tokens will be discarded.\n",
    "    '''\n",
    "    data = parse_stories(f.readlines(), only_supporting=only_supporting)\n",
    "    #print(data[0])\n",
    "    flatten = lambda data: reduce(lambda x, y: x + y, data)\n",
    "    data = [(flatten(story), q, answer) for story, q, answer in data if not max_length or len(flatten(story)) < max_length]\n",
    "    #print(data)\n",
    "    return data\n",
    "\n",
    "\n",
    "def vectorize_stories(data, word_idx, story_maxlen, query_maxlen):\n",
    "    xs = []\n",
    "    xqsi = []\n",
    "    xqso = []\n",
    "    ys = []\n",
    "    for story, query, answer in data:\n",
    "        x = [word_idx[w] for w in story]\n",
    "        x += [word_idx['\\n']]\n",
    "        xq = [word_idx[w] for w in query]\n",
    "        y=word_idx[answer]\n",
    "        xqi =[y] + xq\n",
    "        xqo = xq  +[word_idx['\\n']]\n",
    "        xs.append(x)\n",
    "        xqsi.append(xqi)\n",
    "        xqso.append(xqo)\n",
    "        ys.append(y)\n",
    "    return pad_sequences(xs, maxlen=story_maxlen,padding='pre'), pad_sequences(xqsi, maxlen=query_maxlen,padding='post'),\\\n",
    "pad_sequences(xqso, maxlen=query_maxlen,padding='post'), np.array(ys)\n",
    "BATCH_SIZE = 32\n",
    "EPOCHS = 40\n",
    "\n",
    "trainFile = open('./qa5_three-arg-relations_train.txt','r')\n",
    "train = get_stories(trainFile)\n",
    "test = get_stories(open('./qa5_three-arg-relations_test.txt'))"
   ]
  },
  {
   "cell_type": "code",
   "execution_count": 11,
   "metadata": {},
   "outputs": [
    {
     "data": {
      "text/plain": [
       "(['Fred',\n",
       "  'picked',\n",
       "  'up',\n",
       "  'the',\n",
       "  'football',\n",
       "  'there',\n",
       "  '.',\n",
       "  'Fred',\n",
       "  'gave',\n",
       "  'the',\n",
       "  'football',\n",
       "  'to',\n",
       "  'Jeff',\n",
       "  '.'],\n",
       " ['What', 'did', 'Fred', 'give', 'to', 'Jeff', '?'],\n",
       " 'football')"
      ]
     },
     "execution_count": 11,
     "metadata": {},
     "output_type": "execute_result"
    }
   ],
   "source": [
    "test[0]"
   ]
  },
  {
   "cell_type": "code",
   "execution_count": 12,
   "metadata": {
    "scrolled": true
   },
   "outputs": [
    {
     "name": "stdout",
     "output_type": "stream",
     "text": [
      "['\\t', '\\n', '.', '?', 'Bill', 'Fred', 'Jeff', 'Mary', 'What', 'Who', 'apple', 'back', 'bathroom', 'bedroom', 'did', 'discarded', 'down', 'dropped', 'football', 'garden', 'gave', 'give', 'got', 'grabbed', 'hallway', 'handed', 'journeyed', 'kitchen', 'left', 'milk', 'moved', 'office', 'passed', 'picked', 'put', 'received', 'the', 'there', 'to', 'took', 'travelled', 'up', 'went']\n",
      "364\n"
     ]
    }
   ],
   "source": [
    "vocab = set()\n",
    "vocab |=set(('\\t','\\n'))\n",
    "for story, q, answer in train + test:\n",
    "    vocab |= set(story + q + [answer])\n",
    "vocab = sorted(vocab)\n",
    "print(vocab)\n",
    "\n",
    "# Reserve 0 for masking via pad_sequences\n",
    "vocab_size = len(vocab) + 1\n",
    "word_idx = dict((c, i + 1) for i, c in enumerate(vocab))\n",
    "inv_map = {v: k for k, v in word_idx.items()}\n",
    "story_maxlen = max(map(len, (x for x, _, _ in train + test)))\n",
    "query_maxlen = max(map(len, (x for _, x, _ in train + test)))+1\n",
    "longestStory = np.argmax(list(map(len, (x for x, _, _ in train + test))))\n",
    "print(longestStory)\n",
    "x, xqi,xqoMid, y = vectorize_stories(train, word_idx, story_maxlen, query_maxlen)\n",
    "tx, txqi,txqoMid, ty = vectorize_stories(test, word_idx, story_maxlen, query_maxlen)\n"
   ]
  },
  {
   "cell_type": "code",
   "execution_count": 5,
   "metadata": {},
   "outputs": [
    {
     "name": "stdout",
     "output_type": "stream",
     "text": [
      "[ 9 15  5 22 39  6  4  2  0]\n",
      "[[ 0.  0.  0.  0.  0.  0.  0.  0.  0.  1.  0.  0.  0.  0.  0.  0.  0.  0.\n",
      "   0.  0.  0.  0.  0.  0.  0.  0.  0.  0.  0.  0.  0.  0.  0.  0.  0.  0.\n",
      "   0.  0.  0.  0.  0.  0.  0.  0.]\n",
      " [ 0.  0.  0.  0.  0.  0.  0.  0.  0.  0.  0.  0.  0.  0.  0.  1.  0.  0.\n",
      "   0.  0.  0.  0.  0.  0.  0.  0.  0.  0.  0.  0.  0.  0.  0.  0.  0.  0.\n",
      "   0.  0.  0.  0.  0.  0.  0.  0.]\n",
      " [ 0.  0.  0.  0.  0.  1.  0.  0.  0.  0.  0.  0.  0.  0.  0.  0.  0.  0.\n",
      "   0.  0.  0.  0.  0.  0.  0.  0.  0.  0.  0.  0.  0.  0.  0.  0.  0.  0.\n",
      "   0.  0.  0.  0.  0.  0.  0.  0.]\n",
      " [ 0.  0.  0.  0.  0.  0.  0.  0.  0.  0.  0.  0.  0.  0.  0.  0.  0.  0.\n",
      "   0.  0.  0.  0.  1.  0.  0.  0.  0.  0.  0.  0.  0.  0.  0.  0.  0.  0.\n",
      "   0.  0.  0.  0.  0.  0.  0.  0.]\n",
      " [ 0.  0.  0.  0.  0.  0.  0.  0.  0.  0.  0.  0.  0.  0.  0.  0.  0.  0.\n",
      "   0.  0.  0.  0.  0.  0.  0.  0.  0.  0.  0.  0.  0.  0.  0.  0.  0.  0.\n",
      "   0.  0.  0.  1.  0.  0.  0.  0.]\n",
      " [ 0.  0.  0.  0.  0.  0.  1.  0.  0.  0.  0.  0.  0.  0.  0.  0.  0.  0.\n",
      "   0.  0.  0.  0.  0.  0.  0.  0.  0.  0.  0.  0.  0.  0.  0.  0.  0.  0.\n",
      "   0.  0.  0.  0.  0.  0.  0.  0.]\n",
      " [ 0.  0.  0.  0.  1.  0.  0.  0.  0.  0.  0.  0.  0.  0.  0.  0.  0.  0.\n",
      "   0.  0.  0.  0.  0.  0.  0.  0.  0.  0.  0.  0.  0.  0.  0.  0.  0.  0.\n",
      "   0.  0.  0.  0.  0.  0.  0.  0.]\n",
      " [ 0.  0.  1.  0.  0.  0.  0.  0.  0.  0.  0.  0.  0.  0.  0.  0.  0.  0.\n",
      "   0.  0.  0.  0.  0.  0.  0.  0.  0.  0.  0.  0.  0.  0.  0.  0.  0.  0.\n",
      "   0.  0.  0.  0.  0.  0.  0.  0.]\n",
      " [ 1.  0.  0.  0.  0.  0.  0.  0.  0.  0.  0.  0.  0.  0.  0.  0.  0.  0.\n",
      "   0.  0.  0.  0.  0.  0.  0.  0.  0.  0.  0.  0.  0.  0.  0.  0.  0.  0.\n",
      "   0.  0.  0.  0.  0.  0.  0.  0.]]\n"
     ]
    }
   ],
   "source": [
    "print(xqoMid[0])\n",
    "def token2OHE(xqo):\n",
    "    temp = np.zeros((xqo.shape[0], 9, 44),dtype='float32')\n",
    "    for i,idx in enumerate(xqo):\n",
    "        #print(idx.shape)\n",
    "        for u,v in enumerate(idx):\n",
    "            temp [i,u, v] = 1.\n",
    "    return temp\n",
    "\n",
    "xqo=token2OHE(xqoMid)\n",
    "txqo=token2OHE(txqoMid)\n",
    "print(xqo[0])"
   ]
  },
  {
   "cell_type": "code",
   "execution_count": 28,
   "metadata": {},
   "outputs": [
    {
     "name": "stdout",
     "output_type": "stream",
     "text": [
      "['_', '_', '_', '_', '_', '_', '_', '_', '_', '_', '_', '_', '_', '_', '_', '_', '_', '_', '_', '_', '_', '_', '_', '_', '_', '_', '_', '_', '_', '_', '_', '_', '_', '_', '_', '_', '_', '_', '_', '_', '_', '_', '_', '_', '_', '_', '_', '_', '_', '_', '_', '_', '_', '_', '_', '_', '_', '_', '_', '_', '_', '_', '_', '_', '_', '_', '_', '_', '_', '_', '_', '_', '_', '_', '_', '_', '_', '_', '_', '_', '_', '_', '_', '_', '_', '_', '_', '_', '_', '_', '_', '_', '_', '_', '_', '_', '_', '_', '_', '_', '_', '_', '_', '_', '_', '_', '_', '_', '_', '_', '_', '_', '_', '_', '_', '_', '_', '_', '_', '_', '_', '_', '_', '_', '_', '_', '_', '_', '_', '_', '_', '_', '_', '_', '_', '_', '_', '_', '_', '_', '_', '_', '_', '_', '_', '_', '_', '_', '_', '_', '_', '_', '_', '_', '_', '_', '_', '_', '_', '_', '_', '_', '_', '_', '_', '_', '_', '_', '_', '_', '_', '_', '_', '_', '_', '_', '_', '_', '_', '_', '_', '_', '_', '_', '_', '_', '_', '_', '_', '_', '_', '_', '_', '_', '_', '_', '_', '_', '_', '_', '_', '_', '_', '_', '_', '_', '_', '_', '_', '_', '_', '_', '_', '_', '_', '_', '_', '_', '_', '_', '_', '_', '_', '_', '_', '_', '_', '_', '_', '_', '_', '_', '_', '_', '_', '_', '_', '_', '_', '_', '_', '_', '_', '_', '_', '_', '_', '_', '_', '_', '_', '_', '_', '_', '_', '_', '_', '_', '_', '_', '_', '_', '_', '_', '_', '_', '_', '_', '_', '_', '_', '_', '_', '_', '_', '_', '_', '_', '_', '_', '_', '_', '_', '_', '_', '_', '_', '_', '_', '_', '_', '_', '_', '_', '_', '_', '_', '_', '_', '_', '_', '_', '_', '_', '_', '_', '_', '_', '_', '_', '_', '_', '_', '_', '_', '_', '_', '_', '_', '_', '_', '_', '_', '_', '_', '_', '_', '_', '_', '_', '_', '_', '_', '_', '_', '_', '_', '_', '_', '_', '_', '_', '_', '_', '_', '_', '_', '_', '_', '_', '_', '_', '_', '_', '_', '_', '_', '_', '_', '_', '_', '_', '_', '_', '_', '_', '_', '_', '_', '_', '_', '_', '_', '_', '_', '_', '_', '_', '_', '_', '_', '_', '_', '_', '_', '_', '_', '_', '_', '_', '_', '_', '_', '_', '_', '_', '_', '_', '_', '_', '_', '_', '_', '_', '_', '_', '_', '_', '_', '_', '_', '_', '_', '_', '_', '_', '_', '_', '_', '_', '_', '_', '_', '_', '_', '_', '_', '_', '_', '_', '_', '_', '_', '_', '_', '_', '_', '_', '_', '_', '_', '_', '_', '_', '_', '_', '_', '_', '_', '_', '_', '_', '_', '_', '_', '_', '_', '_', '_', '_', '_', '_', '_', '_', '_', '_', '_', '_', '_', '_', '_', '_', '_', '_', '_', '_', '_', '_', '_', '_', '_', '_', '_', '_', '_', '_', '_', '_', '_', '_', '_', '_', '_', '_', '_', '_', '_', '_', '_', '_', '_', '_', '_', '_', '_', '_', '_', '_', '_', '_', '_', '_', '_', '_', '_', '_', '_', '_', '_', '_', '_', '_', '_', '_', '_', 'Jeff', 'travelled', 'to', 'the', 'bedroom', '.', 'Jeff', 'went', 'to', 'the', 'hallway', '.', 'Mary', 'moved', 'to', 'the', 'garden', '.', 'Bill', 'moved', 'to', 'the', 'bedroom', '.', 'Jeff', 'journeyed', 'to', 'the', 'kitchen', '.', 'Mary', 'went', 'to', 'the', 'hallway', '.', 'Mary', 'journeyed', 'to', 'the', 'bathroom', '.', 'Mary', 'went', 'back', 'to', 'the', 'kitchen', '.', 'Bill', 'travelled', 'to', 'the', 'bathroom', '.', 'Bill', 'moved', 'to', 'the', 'office', '.', 'Mary', 'journeyed', 'to', 'the', 'bathroom', '.', 'Mary', 'picked', 'up', 'the', 'milk', 'there', '.', 'Bill', 'went', 'back', 'to', 'the', 'hallway', '.', 'Mary', 'went', 'back', 'to', 'the', 'garden', '.', 'Mary', 'moved', 'to', 'the', 'hallway', '.', 'Mary', 'passed', 'the', 'milk', 'to', 'Bill', '.', '\\n']\n",
      "['Bill', 'Who', 'did', 'Mary', 'give', 'the', 'milk', 'to', '?']\n",
      "['Who', 'did', 'Mary', 'give', 'the', 'milk', 'to', '?', '\\n']\n",
      "[[ 0.  0.  0.  0.  0.  0.  0.  0.  0.  0.  1.  0.  0.  0.  0.  0.  0.  0.\n",
      "   0.  0.  0.  0.  0.  0.  0.  0.  0.  0.  0.  0.  0.  0.  0.  0.  0.  0.\n",
      "   0.  0.  0.  0.  0.  0.  0.  0.]\n",
      " [ 0.  0.  0.  0.  0.  0.  0.  0.  0.  0.  0.  0.  0.  0.  0.  1.  0.  0.\n",
      "   0.  0.  0.  0.  0.  0.  0.  0.  0.  0.  0.  0.  0.  0.  0.  0.  0.  0.\n",
      "   0.  0.  0.  0.  0.  0.  0.  0.]\n",
      " [ 0.  0.  0.  0.  0.  0.  0.  0.  1.  0.  0.  0.  0.  0.  0.  0.  0.  0.\n",
      "   0.  0.  0.  0.  0.  0.  0.  0.  0.  0.  0.  0.  0.  0.  0.  0.  0.  0.\n",
      "   0.  0.  0.  0.  0.  0.  0.  0.]\n",
      " [ 0.  0.  0.  0.  0.  0.  0.  0.  0.  0.  0.  0.  0.  0.  0.  0.  0.  0.\n",
      "   0.  0.  0.  0.  1.  0.  0.  0.  0.  0.  0.  0.  0.  0.  0.  0.  0.  0.\n",
      "   0.  0.  0.  0.  0.  0.  0.  0.]\n",
      " [ 0.  0.  0.  0.  0.  0.  0.  0.  0.  0.  0.  0.  0.  0.  0.  0.  0.  0.\n",
      "   0.  0.  0.  0.  0.  0.  0.  0.  0.  0.  0.  0.  0.  0.  0.  0.  0.  0.\n",
      "   0.  1.  0.  0.  0.  0.  0.  0.]\n",
      " [ 0.  0.  0.  0.  0.  0.  0.  0.  0.  0.  0.  0.  0.  0.  0.  0.  0.  0.\n",
      "   0.  0.  0.  0.  0.  0.  0.  0.  0.  0.  0.  0.  1.  0.  0.  0.  0.  0.\n",
      "   0.  0.  0.  0.  0.  0.  0.  0.]\n",
      " [ 0.  0.  0.  0.  0.  0.  0.  0.  0.  0.  0.  0.  0.  0.  0.  0.  0.  0.\n",
      "   0.  0.  0.  0.  0.  0.  0.  0.  0.  0.  0.  0.  0.  0.  0.  0.  0.  0.\n",
      "   0.  0.  0.  1.  0.  0.  0.  0.]\n",
      " [ 0.  0.  0.  0.  1.  0.  0.  0.  0.  0.  0.  0.  0.  0.  0.  0.  0.  0.\n",
      "   0.  0.  0.  0.  0.  0.  0.  0.  0.  0.  0.  0.  0.  0.  0.  0.  0.  0.\n",
      "   0.  0.  0.  0.  0.  0.  0.  0.]\n",
      " [ 0.  0.  1.  0.  0.  0.  0.  0.  0.  0.  0.  0.  0.  0.  0.  0.  0.  0.\n",
      "   0.  0.  0.  0.  0.  0.  0.  0.  0.  0.  0.  0.  0.  0.  0.  0.  0.  0.\n",
      "   0.  0.  0.  0.  0.  0.  0.  0.]]\n",
      "Bill\n",
      "Who\n"
     ]
    }
   ],
   "source": [
    "inv_map[0]='_'\n",
    "checkIdx = 50\n",
    "print([inv_map[i] for i in x[checkIdx] ])\n",
    "print([inv_map[i] for i in xqi[checkIdx]])\n",
    "print([inv_map[i] for i in xqoMid[checkIdx]])\n",
    "print(xqo[checkIdx])\n",
    "print(inv_map[y[checkIdx]] )\n",
    "print(inv_map[np.argmax(xqo[checkIdx][0])] )"
   ]
  },
  {
   "cell_type": "code",
   "execution_count": 14,
   "metadata": {
    "scrolled": true
   },
   "outputs": [
    {
     "name": "stdout",
     "output_type": "stream",
     "text": [
      "vocab = ['\\t', '\\n', '.', '?', 'Bill', 'Fred', 'Jeff', 'Mary', 'What', 'Who', 'apple', 'back', 'bathroom', 'bedroom', 'did', 'discarded', 'down', 'dropped', 'football', 'garden', 'gave', 'give', 'got', 'grabbed', 'hallway', 'handed', 'journeyed', 'kitchen', 'left', 'milk', 'moved', 'office', 'passed', 'picked', 'put', 'received', 'the', 'there', 'to', 'took', 'travelled', 'up', 'went']\n",
      "x.shape = (1000, 627)\n",
      "xq.shape = (1000, 9)\n",
      "xq.shape = (1000, 9, 44)\n",
      "y.shape = (1000,)\n",
      "story_maxlen, query_maxlen = 627, 9\n",
      "Tensor(\"input_1:0\", shape=(?, 627), dtype=float32)\n",
      "Tensor(\"embedding_1/Gather:0\", shape=(?, 627, 80), dtype=float32)\n",
      "Tensor(\"LSTM_01/transpose_1:0\", shape=(?, ?, 49), dtype=float32)\n",
      "Tensor(\"time_distributed_1/Reshape_1:0\", shape=(?, 9, 44), dtype=float32)\n",
      "____________________________________________________________________________________________________\n",
      "Layer (type)                     Output Shape          Param #     Connected to                     \n",
      "====================================================================================================\n",
      "decoder_inputs (InputLayer)      (None, 9)             0                                            \n",
      "____________________________________________________________________________________________________\n",
      "input_1 (InputLayer)             (None, 627)           0                                            \n",
      "____________________________________________________________________________________________________\n",
      "embedding_1 (Embedding)          multiple              3520        input_1[0][0]                    \n",
      "                                                                   decoder_inputs[0][0]             \n",
      "____________________________________________________________________________________________________\n",
      "lstm_1 (LSTM)                    [(None, 49), (None, 4 25480       embedding_1[0][0]                \n",
      "____________________________________________________________________________________________________\n",
      "LSTM_01 (LSTM)                   [(None, 9, 49), (None 25480       embedding_1[1][0]                \n",
      "                                                                   lstm_1[0][1]                     \n",
      "                                                                   lstm_1[0][2]                     \n",
      "____________________________________________________________________________________________________\n",
      "time_distributed_1 (TimeDistribu (None, 9, 44)         2200        LSTM_01[0][0]                    \n",
      "====================================================================================================\n",
      "Total params: 56,680\n",
      "Trainable params: 56,680\n",
      "Non-trainable params: 0\n",
      "____________________________________________________________________________________________________\n",
      "Train on 900 samples, validate on 100 samples\n",
      "Epoch 1/50\n",
      "900/900 [==============================] - 13s - loss: 3.6386 - acc: 0.1946 - val_loss: 2.8974 - val_acc: 0.2289\n",
      "Epoch 2/50\n",
      "900/900 [==============================] - 10s - loss: 2.7237 - acc: 0.2831 - val_loss: 2.5454 - val_acc: 0.2956\n",
      "Epoch 3/50\n",
      "900/900 [==============================] - 10s - loss: 2.4655 - acc: 0.2821 - val_loss: 2.3607 - val_acc: 0.2956\n",
      "Epoch 4/50\n",
      "900/900 [==============================] - 10s - loss: 2.2987 - acc: 0.2951 - val_loss: 2.2480 - val_acc: 0.2867\n",
      "Epoch 5/50\n",
      "900/900 [==============================] - 10s - loss: 2.1497 - acc: 0.3422 - val_loss: 2.0581 - val_acc: 0.3289\n",
      "Epoch 6/50\n",
      "900/900 [==============================] - 11s - loss: 2.0224 - acc: 0.3748 - val_loss: 2.0738 - val_acc: 0.3600\n",
      "Epoch 7/50\n",
      "900/900 [==============================] - 10s - loss: 1.9276 - acc: 0.4479 - val_loss: 1.8647 - val_acc: 0.4578\n",
      "Epoch 8/50\n",
      "900/900 [==============================] - 10s - loss: 1.8122 - acc: 0.4996 - val_loss: 1.8312 - val_acc: 0.5156\n",
      "Epoch 9/50\n",
      "900/900 [==============================] - 10s - loss: 1.7226 - acc: 0.6007 - val_loss: 1.6546 - val_acc: 0.6278\n",
      "Epoch 10/50\n",
      "900/900 [==============================] - 10s - loss: 1.6362 - acc: 0.6310 - val_loss: 1.5839 - val_acc: 0.6511\n",
      "Epoch 11/50\n",
      "900/900 [==============================] - 10s - loss: 1.5479 - acc: 0.6533 - val_loss: 1.6152 - val_acc: 0.5611\n",
      "Epoch 12/50\n",
      "900/900 [==============================] - 13s - loss: 1.4819 - acc: 0.6533 - val_loss: 1.4273 - val_acc: 0.6700\n",
      "Epoch 13/50\n",
      "900/900 [==============================] - 12s - loss: 1.4004 - acc: 0.6623 - val_loss: 1.3833 - val_acc: 0.6733\n",
      "Epoch 14/50\n",
      "900/900 [==============================] - 11s - loss: 1.3290 - acc: 0.6741 - val_loss: 1.3076 - val_acc: 0.6511\n",
      "Epoch 15/50\n",
      "900/900 [==============================] - 11s - loss: 1.2587 - acc: 0.6652 - val_loss: 1.2226 - val_acc: 0.6733\n",
      "Epoch 16/50\n",
      "900/900 [==============================] - 10s - loss: 1.1942 - acc: 0.6789 - val_loss: 1.1452 - val_acc: 0.6922\n",
      "Epoch 17/50\n",
      "900/900 [==============================] - 10s - loss: 1.1267 - acc: 0.6819 - val_loss: 1.0955 - val_acc: 0.6856\n",
      "Epoch 18/50\n",
      "900/900 [==============================] - 10s - loss: 1.0568 - acc: 0.6927 - val_loss: 1.0226 - val_acc: 0.7356\n",
      "Epoch 19/50\n",
      "900/900 [==============================] - 10s - loss: 1.0076 - acc: 0.7443 - val_loss: 0.9670 - val_acc: 0.7589\n",
      "Epoch 20/50\n",
      "900/900 [==============================] - 10s - loss: 0.9375 - acc: 0.7647 - val_loss: 0.8966 - val_acc: 0.7678\n",
      "Epoch 21/50\n",
      "900/900 [==============================] - 10s - loss: 0.8819 - acc: 0.7791 - val_loss: 0.8693 - val_acc: 0.7633\n",
      "Epoch 22/50\n",
      "900/900 [==============================] - 10s - loss: 0.8282 - acc: 0.7879 - val_loss: 0.7906 - val_acc: 0.7989\n",
      "Epoch 23/50\n",
      "900/900 [==============================] - 10s - loss: 0.7794 - acc: 0.7909 - val_loss: 0.7403 - val_acc: 0.8078\n",
      "Epoch 24/50\n",
      "900/900 [==============================] - 10s - loss: 0.7239 - acc: 0.7996 - val_loss: 0.7029 - val_acc: 0.7989\n",
      "Epoch 25/50\n",
      "900/900 [==============================] - 11s - loss: 0.6868 - acc: 0.7965 - val_loss: 0.6490 - val_acc: 0.8244\n",
      "Epoch 26/50\n",
      "900/900 [==============================] - 10s - loss: 0.6399 - acc: 0.8115 - val_loss: 0.6338 - val_acc: 0.7933\n",
      "Epoch 27/50\n",
      "900/900 [==============================] - 10s - loss: 0.6038 - acc: 0.8128 - val_loss: 0.6145 - val_acc: 0.7989\n",
      "Epoch 28/50\n",
      "900/900 [==============================] - 10s - loss: 0.5748 - acc: 0.8131 - val_loss: 0.5517 - val_acc: 0.8200\n",
      "Epoch 29/50\n",
      "900/900 [==============================] - 10s - loss: 0.5463 - acc: 0.8138 - val_loss: 0.5270 - val_acc: 0.8289\n",
      "Epoch 30/50\n",
      "900/900 [==============================] - 10s - loss: 0.5157 - acc: 0.8159 - val_loss: 0.5038 - val_acc: 0.8267\n",
      "Epoch 31/50\n",
      "900/900 [==============================] - 10s - loss: 0.4949 - acc: 0.8169 - val_loss: 0.4865 - val_acc: 0.8211\n",
      "Epoch 32/50\n",
      "900/900 [==============================] - 10s - loss: 0.4724 - acc: 0.8157 - val_loss: 0.4658 - val_acc: 0.8144\n",
      "Epoch 33/50\n",
      "900/900 [==============================] - 10s - loss: 0.4573 - acc: 0.8165 - val_loss: 0.4524 - val_acc: 0.8178\n",
      "Epoch 34/50\n",
      "900/900 [==============================] - 10s - loss: 0.4403 - acc: 0.8174 - val_loss: 0.4616 - val_acc: 0.8178\n",
      "Epoch 35/50\n",
      "900/900 [==============================] - 10s - loss: 0.4338 - acc: 0.8153 - val_loss: 0.4254 - val_acc: 0.8189\n",
      "Epoch 36/50\n",
      "900/900 [==============================] - 10s - loss: 0.4159 - acc: 0.8185 - val_loss: 0.4130 - val_acc: 0.8189\n",
      "Epoch 37/50\n",
      "900/900 [==============================] - 10s - loss: 0.4061 - acc: 0.8214 - val_loss: 0.3990 - val_acc: 0.8211\n",
      "Epoch 38/50\n",
      "900/900 [==============================] - 11s - loss: 0.3997 - acc: 0.8173 - val_loss: 0.4018 - val_acc: 0.8244\n",
      "Epoch 39/50\n",
      "900/900 [==============================] - 10s - loss: 0.3910 - acc: 0.8232 - val_loss: 0.3879 - val_acc: 0.8278\n",
      "Epoch 40/50\n",
      "900/900 [==============================] - 10s - loss: 0.3837 - acc: 0.8198 - val_loss: 0.3884 - val_acc: 0.8178\n",
      "Epoch 41/50\n",
      "900/900 [==============================] - 10s - loss: 0.3796 - acc: 0.8214 - val_loss: 0.3761 - val_acc: 0.8222\n",
      "Epoch 42/50\n",
      "900/900 [==============================] - 10s - loss: 0.3741 - acc: 0.8219 - val_loss: 0.4009 - val_acc: 0.8078\n",
      "Epoch 43/50\n",
      "900/900 [==============================] - 10s - loss: 0.3743 - acc: 0.8193 - val_loss: 0.3722 - val_acc: 0.8222\n",
      "Epoch 44/50\n"
     ]
    },
    {
     "name": "stdout",
     "output_type": "stream",
     "text": [
      "900/900 [==============================] - 10s - loss: 0.3671 - acc: 0.8223 - val_loss: 0.3638 - val_acc: 0.8211\n",
      "Epoch 45/50\n",
      "900/900 [==============================] - 11s - loss: 0.3667 - acc: 0.8190 - val_loss: 0.3865 - val_acc: 0.8122\n",
      "Epoch 46/50\n"
     ]
    },
    {
     "ename": "KeyboardInterrupt",
     "evalue": "",
     "output_type": "error",
     "traceback": [
      "\u001b[1;31m---------------------------------------------------------------------------\u001b[0m",
      "\u001b[1;31mKeyboardInterrupt\u001b[0m                         Traceback (most recent call last)",
      "\u001b[1;32m<ipython-input-14-82cec942bde5>\u001b[0m in \u001b[0;36m<module>\u001b[1;34m()\u001b[0m\n\u001b[0;32m     31\u001b[0m           \u001b[0mepochs\u001b[0m\u001b[1;33m=\u001b[0m\u001b[1;36m50\u001b[0m\u001b[1;33m,\u001b[0m\u001b[1;33m\u001b[0m\u001b[0m\n\u001b[0;32m     32\u001b[0m           \u001b[0mcallbacks\u001b[0m\u001b[1;33m=\u001b[0m\u001b[1;33m[\u001b[0m\u001b[0mreduce_LR\u001b[0m\u001b[1;33m]\u001b[0m\u001b[1;33m,\u001b[0m\u001b[1;33m\u001b[0m\u001b[0m\n\u001b[1;32m---> 33\u001b[1;33m           validation_split=0.1)\n\u001b[0m",
      "\u001b[1;32m~\\AppData\\Local\\conda\\conda\\envs\\tfkrNv\\lib\\site-packages\\keras\\engine\\training.py\u001b[0m in \u001b[0;36mfit\u001b[1;34m(self, x, y, batch_size, epochs, verbose, callbacks, validation_split, validation_data, shuffle, class_weight, sample_weight, initial_epoch, **kwargs)\u001b[0m\n\u001b[0;32m   1505\u001b[0m                               \u001b[0mval_f\u001b[0m\u001b[1;33m=\u001b[0m\u001b[0mval_f\u001b[0m\u001b[1;33m,\u001b[0m \u001b[0mval_ins\u001b[0m\u001b[1;33m=\u001b[0m\u001b[0mval_ins\u001b[0m\u001b[1;33m,\u001b[0m \u001b[0mshuffle\u001b[0m\u001b[1;33m=\u001b[0m\u001b[0mshuffle\u001b[0m\u001b[1;33m,\u001b[0m\u001b[1;33m\u001b[0m\u001b[0m\n\u001b[0;32m   1506\u001b[0m                               \u001b[0mcallback_metrics\u001b[0m\u001b[1;33m=\u001b[0m\u001b[0mcallback_metrics\u001b[0m\u001b[1;33m,\u001b[0m\u001b[1;33m\u001b[0m\u001b[0m\n\u001b[1;32m-> 1507\u001b[1;33m                               initial_epoch=initial_epoch)\n\u001b[0m\u001b[0;32m   1508\u001b[0m \u001b[1;33m\u001b[0m\u001b[0m\n\u001b[0;32m   1509\u001b[0m     \u001b[1;32mdef\u001b[0m \u001b[0mevaluate\u001b[0m\u001b[1;33m(\u001b[0m\u001b[0mself\u001b[0m\u001b[1;33m,\u001b[0m \u001b[0mx\u001b[0m\u001b[1;33m,\u001b[0m \u001b[0my\u001b[0m\u001b[1;33m,\u001b[0m \u001b[0mbatch_size\u001b[0m\u001b[1;33m=\u001b[0m\u001b[1;36m32\u001b[0m\u001b[1;33m,\u001b[0m \u001b[0mverbose\u001b[0m\u001b[1;33m=\u001b[0m\u001b[1;36m1\u001b[0m\u001b[1;33m,\u001b[0m \u001b[0msample_weight\u001b[0m\u001b[1;33m=\u001b[0m\u001b[1;32mNone\u001b[0m\u001b[1;33m)\u001b[0m\u001b[1;33m:\u001b[0m\u001b[1;33m\u001b[0m\u001b[0m\n",
      "\u001b[1;32m~\\AppData\\Local\\conda\\conda\\envs\\tfkrNv\\lib\\site-packages\\keras\\engine\\training.py\u001b[0m in \u001b[0;36m_fit_loop\u001b[1;34m(self, f, ins, out_labels, batch_size, epochs, verbose, callbacks, val_f, val_ins, shuffle, callback_metrics, initial_epoch)\u001b[0m\n\u001b[0;32m   1154\u001b[0m                 \u001b[0mbatch_logs\u001b[0m\u001b[1;33m[\u001b[0m\u001b[1;34m'size'\u001b[0m\u001b[1;33m]\u001b[0m \u001b[1;33m=\u001b[0m \u001b[0mlen\u001b[0m\u001b[1;33m(\u001b[0m\u001b[0mbatch_ids\u001b[0m\u001b[1;33m)\u001b[0m\u001b[1;33m\u001b[0m\u001b[0m\n\u001b[0;32m   1155\u001b[0m                 \u001b[0mcallbacks\u001b[0m\u001b[1;33m.\u001b[0m\u001b[0mon_batch_begin\u001b[0m\u001b[1;33m(\u001b[0m\u001b[0mbatch_index\u001b[0m\u001b[1;33m,\u001b[0m \u001b[0mbatch_logs\u001b[0m\u001b[1;33m)\u001b[0m\u001b[1;33m\u001b[0m\u001b[0m\n\u001b[1;32m-> 1156\u001b[1;33m                 \u001b[0mouts\u001b[0m \u001b[1;33m=\u001b[0m \u001b[0mf\u001b[0m\u001b[1;33m(\u001b[0m\u001b[0mins_batch\u001b[0m\u001b[1;33m)\u001b[0m\u001b[1;33m\u001b[0m\u001b[0m\n\u001b[0m\u001b[0;32m   1157\u001b[0m                 \u001b[1;32mif\u001b[0m \u001b[1;32mnot\u001b[0m \u001b[0misinstance\u001b[0m\u001b[1;33m(\u001b[0m\u001b[0mouts\u001b[0m\u001b[1;33m,\u001b[0m \u001b[0mlist\u001b[0m\u001b[1;33m)\u001b[0m\u001b[1;33m:\u001b[0m\u001b[1;33m\u001b[0m\u001b[0m\n\u001b[0;32m   1158\u001b[0m                     \u001b[0mouts\u001b[0m \u001b[1;33m=\u001b[0m \u001b[1;33m[\u001b[0m\u001b[0mouts\u001b[0m\u001b[1;33m]\u001b[0m\u001b[1;33m\u001b[0m\u001b[0m\n",
      "\u001b[1;32m~\\AppData\\Local\\conda\\conda\\envs\\tfkrNv\\lib\\site-packages\\keras\\backend\\tensorflow_backend.py\u001b[0m in \u001b[0;36m__call__\u001b[1;34m(self, inputs)\u001b[0m\n\u001b[0;32m   2267\u001b[0m         updated = session.run(self.outputs + [self.updates_op],\n\u001b[0;32m   2268\u001b[0m                               \u001b[0mfeed_dict\u001b[0m\u001b[1;33m=\u001b[0m\u001b[0mfeed_dict\u001b[0m\u001b[1;33m,\u001b[0m\u001b[1;33m\u001b[0m\u001b[0m\n\u001b[1;32m-> 2269\u001b[1;33m                               **self.session_kwargs)\n\u001b[0m\u001b[0;32m   2270\u001b[0m         \u001b[1;32mreturn\u001b[0m \u001b[0mupdated\u001b[0m\u001b[1;33m[\u001b[0m\u001b[1;33m:\u001b[0m\u001b[0mlen\u001b[0m\u001b[1;33m(\u001b[0m\u001b[0mself\u001b[0m\u001b[1;33m.\u001b[0m\u001b[0moutputs\u001b[0m\u001b[1;33m)\u001b[0m\u001b[1;33m]\u001b[0m\u001b[1;33m\u001b[0m\u001b[0m\n\u001b[0;32m   2271\u001b[0m \u001b[1;33m\u001b[0m\u001b[0m\n",
      "\u001b[1;32m~\\AppData\\Local\\conda\\conda\\envs\\tfkrNv\\lib\\site-packages\\tensorflow\\python\\client\\session.py\u001b[0m in \u001b[0;36mrun\u001b[1;34m(self, fetches, feed_dict, options, run_metadata)\u001b[0m\n\u001b[0;32m    787\u001b[0m     \u001b[1;32mtry\u001b[0m\u001b[1;33m:\u001b[0m\u001b[1;33m\u001b[0m\u001b[0m\n\u001b[0;32m    788\u001b[0m       result = self._run(None, fetches, feed_dict, options_ptr,\n\u001b[1;32m--> 789\u001b[1;33m                          run_metadata_ptr)\n\u001b[0m\u001b[0;32m    790\u001b[0m       \u001b[1;32mif\u001b[0m \u001b[0mrun_metadata\u001b[0m\u001b[1;33m:\u001b[0m\u001b[1;33m\u001b[0m\u001b[0m\n\u001b[0;32m    791\u001b[0m         \u001b[0mproto_data\u001b[0m \u001b[1;33m=\u001b[0m \u001b[0mtf_session\u001b[0m\u001b[1;33m.\u001b[0m\u001b[0mTF_GetBuffer\u001b[0m\u001b[1;33m(\u001b[0m\u001b[0mrun_metadata_ptr\u001b[0m\u001b[1;33m)\u001b[0m\u001b[1;33m\u001b[0m\u001b[0m\n",
      "\u001b[1;32m~\\AppData\\Local\\conda\\conda\\envs\\tfkrNv\\lib\\site-packages\\tensorflow\\python\\client\\session.py\u001b[0m in \u001b[0;36m_run\u001b[1;34m(self, handle, fetches, feed_dict, options, run_metadata)\u001b[0m\n\u001b[0;32m    995\u001b[0m     \u001b[1;32mif\u001b[0m \u001b[0mfinal_fetches\u001b[0m \u001b[1;32mor\u001b[0m \u001b[0mfinal_targets\u001b[0m\u001b[1;33m:\u001b[0m\u001b[1;33m\u001b[0m\u001b[0m\n\u001b[0;32m    996\u001b[0m       results = self._do_run(handle, final_targets, final_fetches,\n\u001b[1;32m--> 997\u001b[1;33m                              feed_dict_string, options, run_metadata)\n\u001b[0m\u001b[0;32m    998\u001b[0m     \u001b[1;32melse\u001b[0m\u001b[1;33m:\u001b[0m\u001b[1;33m\u001b[0m\u001b[0m\n\u001b[0;32m    999\u001b[0m       \u001b[0mresults\u001b[0m \u001b[1;33m=\u001b[0m \u001b[1;33m[\u001b[0m\u001b[1;33m]\u001b[0m\u001b[1;33m\u001b[0m\u001b[0m\n",
      "\u001b[1;32m~\\AppData\\Local\\conda\\conda\\envs\\tfkrNv\\lib\\site-packages\\tensorflow\\python\\client\\session.py\u001b[0m in \u001b[0;36m_do_run\u001b[1;34m(self, handle, target_list, fetch_list, feed_dict, options, run_metadata)\u001b[0m\n\u001b[0;32m   1130\u001b[0m     \u001b[1;32mif\u001b[0m \u001b[0mhandle\u001b[0m \u001b[1;32mis\u001b[0m \u001b[1;32mNone\u001b[0m\u001b[1;33m:\u001b[0m\u001b[1;33m\u001b[0m\u001b[0m\n\u001b[0;32m   1131\u001b[0m       return self._do_call(_run_fn, self._session, feed_dict, fetch_list,\n\u001b[1;32m-> 1132\u001b[1;33m                            target_list, options, run_metadata)\n\u001b[0m\u001b[0;32m   1133\u001b[0m     \u001b[1;32melse\u001b[0m\u001b[1;33m:\u001b[0m\u001b[1;33m\u001b[0m\u001b[0m\n\u001b[0;32m   1134\u001b[0m       return self._do_call(_prun_fn, self._session, handle, feed_dict,\n",
      "\u001b[1;32m~\\AppData\\Local\\conda\\conda\\envs\\tfkrNv\\lib\\site-packages\\tensorflow\\python\\client\\session.py\u001b[0m in \u001b[0;36m_do_call\u001b[1;34m(self, fn, *args)\u001b[0m\n\u001b[0;32m   1137\u001b[0m   \u001b[1;32mdef\u001b[0m \u001b[0m_do_call\u001b[0m\u001b[1;33m(\u001b[0m\u001b[0mself\u001b[0m\u001b[1;33m,\u001b[0m \u001b[0mfn\u001b[0m\u001b[1;33m,\u001b[0m \u001b[1;33m*\u001b[0m\u001b[0margs\u001b[0m\u001b[1;33m)\u001b[0m\u001b[1;33m:\u001b[0m\u001b[1;33m\u001b[0m\u001b[0m\n\u001b[0;32m   1138\u001b[0m     \u001b[1;32mtry\u001b[0m\u001b[1;33m:\u001b[0m\u001b[1;33m\u001b[0m\u001b[0m\n\u001b[1;32m-> 1139\u001b[1;33m       \u001b[1;32mreturn\u001b[0m \u001b[0mfn\u001b[0m\u001b[1;33m(\u001b[0m\u001b[1;33m*\u001b[0m\u001b[0margs\u001b[0m\u001b[1;33m)\u001b[0m\u001b[1;33m\u001b[0m\u001b[0m\n\u001b[0m\u001b[0;32m   1140\u001b[0m     \u001b[1;32mexcept\u001b[0m \u001b[0merrors\u001b[0m\u001b[1;33m.\u001b[0m\u001b[0mOpError\u001b[0m \u001b[1;32mas\u001b[0m \u001b[0me\u001b[0m\u001b[1;33m:\u001b[0m\u001b[1;33m\u001b[0m\u001b[0m\n\u001b[0;32m   1141\u001b[0m       \u001b[0mmessage\u001b[0m \u001b[1;33m=\u001b[0m \u001b[0mcompat\u001b[0m\u001b[1;33m.\u001b[0m\u001b[0mas_text\u001b[0m\u001b[1;33m(\u001b[0m\u001b[0me\u001b[0m\u001b[1;33m.\u001b[0m\u001b[0mmessage\u001b[0m\u001b[1;33m)\u001b[0m\u001b[1;33m\u001b[0m\u001b[0m\n",
      "\u001b[1;32m~\\AppData\\Local\\conda\\conda\\envs\\tfkrNv\\lib\\site-packages\\tensorflow\\python\\client\\session.py\u001b[0m in \u001b[0;36m_run_fn\u001b[1;34m(session, feed_dict, fetch_list, target_list, options, run_metadata)\u001b[0m\n\u001b[0;32m   1119\u001b[0m         return tf_session.TF_Run(session, options,\n\u001b[0;32m   1120\u001b[0m                                  \u001b[0mfeed_dict\u001b[0m\u001b[1;33m,\u001b[0m \u001b[0mfetch_list\u001b[0m\u001b[1;33m,\u001b[0m \u001b[0mtarget_list\u001b[0m\u001b[1;33m,\u001b[0m\u001b[1;33m\u001b[0m\u001b[0m\n\u001b[1;32m-> 1121\u001b[1;33m                                  status, run_metadata)\n\u001b[0m\u001b[0;32m   1122\u001b[0m \u001b[1;33m\u001b[0m\u001b[0m\n\u001b[0;32m   1123\u001b[0m     \u001b[1;32mdef\u001b[0m \u001b[0m_prun_fn\u001b[0m\u001b[1;33m(\u001b[0m\u001b[0msession\u001b[0m\u001b[1;33m,\u001b[0m \u001b[0mhandle\u001b[0m\u001b[1;33m,\u001b[0m \u001b[0mfeed_dict\u001b[0m\u001b[1;33m,\u001b[0m \u001b[0mfetch_list\u001b[0m\u001b[1;33m)\u001b[0m\u001b[1;33m:\u001b[0m\u001b[1;33m\u001b[0m\u001b[0m\n",
      "\u001b[1;31mKeyboardInterrupt\u001b[0m: "
     ]
    }
   ],
   "source": [
    "print('vocab = {}'.format(vocab))\n",
    "print('x.shape = {}'.format(x.shape))\n",
    "print('xq.shape = {}'.format(xqi.shape))\n",
    "print('xq.shape = {}'.format(xqo.shape))\n",
    "print('y.shape = {}'.format(y.shape))\n",
    "print('story_maxlen, query_maxlen = {}, {}'.format(story_maxlen, query_maxlen))\n",
    "LSTM_SZ = 49\n",
    "\n",
    "embeddingLayer =  Embedding(vocab_size, 80)\n",
    "encoder_inputs = Input(shape=( story_maxlen ,)) \n",
    "print(encoder_inputs)\n",
    "eInp =embeddingLayer(encoder_inputs)\n",
    "print(eInp)\n",
    "encoder = LSTM(LSTM_SZ ,return_state=True)\n",
    "encoder_outputs, state_h, state_c = encoder(eInp)\n",
    "encoder_states = [state_h, state_c]\n",
    "decoder_inputs = Input(shape=(query_maxlen,),name='decoder_inputs')\n",
    "dInp = embeddingLayer(decoder_inputs)\n",
    "decoder_lstm = LSTM(LSTM_SZ , return_sequences=True, return_state=True,name='LSTM_01') \n",
    "decoder_outputs, _, _ = decoder_lstm(dInp , initial_state=encoder_states)\n",
    "print(decoder_outputs)\n",
    "decoder_dense = TimeDistributed(Dense(vocab_size, activation='softmax'))\n",
    "decoder_outputs = decoder_dense(decoder_outputs)\n",
    "print(decoder_outputs)\n",
    "model = Model([encoder_inputs, decoder_inputs], decoder_outputs)\n",
    "model.summary()\n",
    "model.compile(optimizer='rmsprop', loss='categorical_crossentropy',metrics=['accuracy'])\n",
    "reduce_LR = ReduceLROnPlateau(monitor='val_loss',factor = 0.9, patience=3,cooldown=2, min_lr = 0.00001)\n",
    "model.fit([x, xqi], xqo,\n",
    "          batch_size=128,\n",
    "          epochs=50,\n",
    "          callbacks=[reduce_LR],\n",
    "          validation_split=0.1)\n"
   ]
  },
  {
   "cell_type": "code",
   "execution_count": 15,
   "metadata": {
    "scrolled": true
   },
   "outputs": [
    {
     "name": "stdout",
     "output_type": "stream",
     "text": [
      "Epoch 1/1\n",
      "1000/1000 [==============================] - 25s - loss: 0.3586 - acc: 0.8212    "
     ]
    },
    {
     "name": "stderr",
     "output_type": "stream",
     "text": [
      "C:\\Users\\HuaSheng\\AppData\\Local\\conda\\conda\\envs\\tfkrNv\\lib\\site-packages\\keras\\callbacks.py:878: RuntimeWarning: Learning Rate Plateau Reducing requires val_loss available!\n",
      "  self.monitor, RuntimeWarning)\n"
     ]
    },
    {
     "name": "stdout",
     "output_type": "stream",
     "text": [
      "\n",
      "1000/1000 [==============================] - 5s     \n"
     ]
    },
    {
     "data": {
      "text/plain": [
       "[0.36513662102818489, 0.81477775853872303]"
      ]
     },
     "execution_count": 15,
     "metadata": {},
     "output_type": "execute_result"
    }
   ],
   "source": [
    "model.fit([x, xqi], xqo,\n",
    "          batch_size=49,\n",
    "          epochs=1,\n",
    "          callbacks=[reduce_LR],\n",
    "          validation_split=0)\n",
    "model.evaluate([tx, txqi], txqo,\n",
    "          batch_size=49)"
   ]
  },
  {
   "cell_type": "code",
   "execution_count": 16,
   "metadata": {
    "collapsed": true
   },
   "outputs": [],
   "source": [
    "encoder_model = Model(encoder_inputs, encoder_states)\n",
    "decoder_state_input_h = Input(shape=(LSTM_SZ ,))\n",
    "decoder_state_input_c = Input(shape=(LSTM_SZ ,))\n",
    "decoder_states_inputs = [decoder_state_input_h, decoder_state_input_c]\n",
    "decoder_outputs, state_h, state_c = decoder_lstm(dInp, initial_state=decoder_states_inputs)\n",
    "decoder_states = [state_h, state_c]\n",
    "decoder_outputs = decoder_dense(decoder_outputs)\n",
    "decoder_model = Model(\n",
    "    [decoder_inputs] + decoder_states_inputs,\n",
    "    [decoder_outputs] + decoder_states)"
   ]
  },
  {
   "cell_type": "code",
   "execution_count": 19,
   "metadata": {},
   "outputs": [
    {
     "data": {
      "text/plain": [
       "'football'"
      ]
     },
     "execution_count": 19,
     "metadata": {},
     "output_type": "execute_result"
    }
   ],
   "source": [
    "inv_map[y[0]]"
   ]
  },
  {
   "cell_type": "code",
   "execution_count": 31,
   "metadata": {
    "scrolled": true
   },
   "outputs": [
    {
     "name": "stdout",
     "output_type": "stream",
     "text": [
      "(1, 9)\n",
      "0\n",
      "['Fred', '_', '_', '_', '_', '_', '_', '_', '_']\n",
      "1\n",
      "['Fred', 'Who', '_', '_', '_', '_', '_', '_', '_']\n",
      "2\n",
      "['Fred', 'Who', 'gave', '_', '_', '_', '_', '_', '_']\n",
      "3\n",
      "['Fred', 'Who', 'gave', 'the', '_', '_', '_', '_', '_']\n",
      "4\n",
      "['Fred', 'Who', 'gave', 'the', 'football', '_', '_', '_', '_']\n",
      "5\n",
      "['Fred', 'Who', 'gave', 'the', 'football', '?', '_', '_', '_']\n",
      "6\n",
      "['Fred', 'Who', 'gave', 'the', 'football', '?', '\\n', '_', '_']\n",
      "7\n",
      "['Fred', 'Who', 'gave', 'the', 'football', '?', '\\n', '\\n', '_']\n",
      "what is the ct?7\n",
      "(1, 627)\n",
      "Whogavethefootball?\n",
      "\n",
      "_\n",
      "[[  6.  10.  21.  37.  19.   4.   2.   2.   0.]]\n",
      "['Fred', 'Who', 'gave', 'the', 'football', '?', '\\n', '\\n', '_']\n"
     ]
    }
   ],
   "source": [
    "def decode_sequence(input_seq,yIn,inv_map):\n",
    "    # Encode the input as state vectors.\n",
    "    states_value = encoder_model.predict(input_seq)\n",
    "    target_seq = np.zeros(( 1, query_maxlen))\n",
    "    target_seq[ 0, 0] = yIn\n",
    "    print(target_seq.shape)\n",
    "    stop_condition = False #our stop condition will be '/n' which acts as <EOS>\n",
    "    decoded_sentence = ''\n",
    "    ct =0\n",
    "    while not stop_condition:\n",
    "        \n",
    "        print(ct)\n",
    "        print([inv_map[i] for i in target_seq[0] ])\n",
    "        output_tokens, h, c = decoder_model.predict([target_seq] + states_value)\n",
    "        #print(output_tokens)\n",
    "        target_seq[0, ct+1] = np.argmax(output_tokens[0,ct, :])\n",
    "        sampled_char = inv_map[target_seq[0, ct+1]]\n",
    "        #print('what is the len?' +str(len(sampled_char)) +'what is the token?' +str(sampled_token_index))\n",
    "        decoded_sentence += sampled_char\n",
    "\n",
    "        # Exit condition: either hit max length\n",
    "        # or find stop character.\n",
    "        if (ct>6):\n",
    "            stop_condition = True\n",
    "            print( 'what is the ct?' +str(ct))\n",
    "        ct+=1\n",
    "        # Update the target sequence (of length 1).\n",
    "        #states_value = [h, c]\n",
    "        #print(states_value)\n",
    "\n",
    "    return decoded_sentence,target_seq\n",
    "\n",
    "testIdx =3\n",
    "input_seq = np.expand_dims(x[testIdx],axis=0)\n",
    "yIn = y[testIdx]\n",
    "decoded_sentence,target_seq = decode_sequence(input_seq,yIn,inv_map)\n",
    "print(input_seq.shape)\n",
    "print(decoded_sentence)\n",
    "print(target_seq)\n",
    "print([inv_map[i] for i in target_seq[0] ])"
   ]
  },
  {
   "cell_type": "code",
   "execution_count": null,
   "metadata": {
    "collapsed": true
   },
   "outputs": [],
   "source": [
    "inv_map[21]"
   ]
  },
  {
   "cell_type": "code",
   "execution_count": null,
   "metadata": {
    "collapsed": true
   },
   "outputs": [],
   "source": [
    "inv_map[0]='_'"
   ]
  },
  {
   "cell_type": "code",
   "execution_count": null,
   "metadata": {
    "collapsed": true,
    "scrolled": true
   },
   "outputs": [],
   "source": [
    "input_seq = np.expand_dims(x[3],axis=0)\n",
    "states_value = encoder_model.predict(input_seq)\n",
    "target_seq = np.zeros(( 1, query_maxlen))\n",
    "target_seq[ 0, 0] = word_idx['\\t']\n",
    "print(target_seq.shape)\n",
    "stop_condition = False\n",
    "decoded_sentence = ' '\n",
    "ct =0\n",
    "while not stop_condition:\n",
    "    print(ct)\n",
    "    print( len(decoded_sentence))\n",
    "    output_tokens, h, c = decoder_model.predict([target_seq] + states_value)\n",
    "    sampled_token_index = np.argmax(output_tokens[0,ct, :])\n",
    "    sampled_char = inv_map[sampled_token_index]\n",
    "    print(sampled_char)\n",
    "    decoded_sentence +=  sampled_char\n",
    "    if (  len(decoded_sentence)+1 > query_maxlen):\n",
    "        stop_condition = True\n",
    "        print('stop' + str(len(decoded_sentence)))\n",
    "    ct+=1\n",
    "    # Update the target sequence (of length 1).\n",
    "    target_seq[0, ct] =sampled_token_index\n",
    "\n",
    "    # Update states\n",
    "    states_value = [h, c]\n",
    "print(target_seq)"
   ]
  },
  {
   "cell_type": "code",
   "execution_count": null,
   "metadata": {
    "collapsed": true
   },
   "outputs": [],
   "source": [
    "print(decoded_sentence)\n",
    "print(inv_map[1])"
   ]
  },
  {
   "cell_type": "code",
   "execution_count": null,
   "metadata": {
    "collapsed": true
   },
   "outputs": [],
   "source": [
    "print(inv_map[00])"
   ]
  },
  {
   "cell_type": "code",
   "execution_count": null,
   "metadata": {
    "collapsed": true
   },
   "outputs": [],
   "source": [
    "\n",
    "\n",
    "print(input_seq)\n",
    "print(decoded_sentence)"
   ]
  },
  {
   "cell_type": "code",
   "execution_count": null,
   "metadata": {
    "collapsed": true
   },
   "outputs": [],
   "source": []
  }
 ],
 "metadata": {
  "kernelspec": {
   "display_name": "Python 3",
   "language": "python",
   "name": "python3"
  },
  "language_info": {
   "codemirror_mode": {
    "name": "ipython",
    "version": 3
   },
   "file_extension": ".py",
   "mimetype": "text/x-python",
   "name": "python",
   "nbconvert_exporter": "python",
   "pygments_lexer": "ipython3",
   "version": "3.6.1"
  }
 },
 "nbformat": 4,
 "nbformat_minor": 2
}
