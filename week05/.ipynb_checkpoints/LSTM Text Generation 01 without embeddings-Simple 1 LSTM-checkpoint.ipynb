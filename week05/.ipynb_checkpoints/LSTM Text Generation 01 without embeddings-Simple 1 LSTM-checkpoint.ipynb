{
 "cells": [
  {
   "cell_type": "code",
   "execution_count": 1,
   "metadata": {},
   "outputs": [
    {
     "name": "stderr",
     "output_type": "stream",
     "text": [
      "Using TensorFlow backend.\n"
     ]
    }
   ],
   "source": [
    "import numpy as np\n",
    "import sys\n",
    "\n",
    "import keras\n",
    "from keras.models import Sequential, Model, load_model\n",
    "from keras.layers import Dense, LSTM, Dropout, Input\n",
    "from keras.optimizers import RMSprop, Adam\n",
    "\n",
    "from keras.callbacks import ModelCheckpoint\n",
    "from keras.utils import np_utils\n",
    "\n",
    "import tensorflow as tf"
   ]
  },
  {
   "cell_type": "code",
   "execution_count": 2,
   "metadata": {},
   "outputs": [
    {
     "name": "stdout",
     "output_type": "stream",
     "text": [
      "1.2.0\n",
      "2.0.5\n"
     ]
    }
   ],
   "source": [
    "print(tf.__version__)\n",
    "print(keras.__version__)"
   ]
  },
  {
   "cell_type": "markdown",
   "metadata": {},
   "source": [
    "## Load the corpus"
   ]
  },
  {
   "cell_type": "code",
   "execution_count": 3,
   "metadata": {
    "collapsed": true
   },
   "outputs": [],
   "source": [
    "# load ascii text and covert to lowercase\n",
    "filename = \"wonderland.txt\"\n",
    "raw_text = open(filename).read()\n",
    "raw_text = raw_text.lower()"
   ]
  },
  {
   "cell_type": "markdown",
   "metadata": {},
   "source": [
    "## Make look up tables based on characters"
   ]
  },
  {
   "cell_type": "code",
   "execution_count": 5,
   "metadata": {},
   "outputs": [
    {
     "name": "stdout",
     "output_type": "stream",
     "text": [
      "Total Characters:  144345\n",
      "Total Unique chars:  46\n"
     ]
    }
   ],
   "source": [
    "# create mapping of unique chars to integers\n",
    "chars = sorted(list(set(raw_text)))\n",
    "char_to_int = dict((c, i) for i, c in enumerate(chars))\n",
    "int_to_char = dict((i, c) for i, c in enumerate(chars))\n",
    "\n",
    "# summarize the loaded data\n",
    "n_chars = len(raw_text)\n",
    "n_vocab = len(chars)\n",
    "print(\"Total Characters: \", n_chars)\n",
    "print(\"Total Unique chars: \", n_vocab)"
   ]
  },
  {
   "cell_type": "code",
   "execution_count": 6,
   "metadata": {
    "collapsed": true
   },
   "outputs": [],
   "source": [
    "#raw_text = raw_text[1:]"
   ]
  },
  {
   "cell_type": "markdown",
   "metadata": {},
   "source": [
    "## Make the sequences\n",
    "\n",
    "This shows you an example of making sequences sampled from the overall text data. \n",
    "\n",
    "We are creating sequences that are 100 characters long"
   ]
  },
  {
   "cell_type": "code",
   "execution_count": 7,
   "metadata": {},
   "outputs": [
    {
     "name": "stdout",
     "output_type": "stream",
     "text": [
      "Total sequences:  144295\n"
     ]
    }
   ],
   "source": [
    "# create input and output pairs\n",
    "seq_length = 50\n",
    "dataX = []\n",
    "dataY = []\n",
    "for i in range(0, n_chars - seq_length, 1):\n",
    "    seq_in = raw_text[i:i + seq_length]\n",
    "    seq_out = raw_text[i + seq_length]\n",
    "    dataX.append([char_to_int[char] for char in seq_in])\n",
    "    dataY.append(char_to_int[seq_out])\n",
    "n_patterns = len(dataX)\n",
    "print(\"Total sequences: \", n_patterns)"
   ]
  },
  {
   "cell_type": "markdown",
   "metadata": {},
   "source": [
    "### Lets examine some of these sequences"
   ]
  },
  {
   "cell_type": "code",
   "execution_count": 7,
   "metadata": {},
   "outputs": [
    {
     "name": "stdout",
     "output_type": "stream",
     "text": [
      "[43, 19, 24, 17, 32, 36, 21, 34, 1, 25, 10, 1, 20, 31, 39, 30, 1, 36, 24, 21, 1, 34, 17, 18, 18, 25, 36, 9, 24, 31, 28, 21, 0, 0, 17, 28, 25, 19, 21, 1, 39, 17, 35, 1, 18, 21, 23, 25, 30, 30]\n",
      "25\n"
     ]
    }
   ],
   "source": [
    "print(dataX[0])\n",
    "print(dataY[0])"
   ]
  },
  {
   "cell_type": "code",
   "execution_count": 8,
   "metadata": {},
   "outputs": [
    {
     "name": "stdout",
     "output_type": "stream",
     "text": [
      "\" ﻿chapter i. down the rabbit-hole\n",
      "\n",
      "alice was beginn \"\n",
      "i\n"
     ]
    }
   ],
   "source": [
    "print(\"\\\"\", ''.join([int_to_char[value] for value in dataX[0]]), \"\\\"\")\n",
    "print(int_to_char[dataY[0]])"
   ]
  },
  {
   "cell_type": "code",
   "execution_count": 9,
   "metadata": {},
   "outputs": [
    {
     "name": "stdout",
     "output_type": "stream",
     "text": [
      "[19, 24, 17, 32, 36, 21, 34, 1, 25, 10, 1, 20, 31, 39, 30, 1, 36, 24, 21, 1, 34, 17, 18, 18, 25, 36, 9, 24, 31, 28, 21, 0, 0, 17, 28, 25, 19, 21, 1, 39, 17, 35, 1, 18, 21, 23, 25, 30, 30, 25]\n",
      "30\n"
     ]
    }
   ],
   "source": [
    "print(dataX[1])\n",
    "print(dataY[1])"
   ]
  },
  {
   "cell_type": "code",
   "execution_count": 10,
   "metadata": {},
   "outputs": [
    {
     "name": "stdout",
     "output_type": "stream",
     "text": [
      "\" chapter i. down the rabbit-hole\n",
      "\n",
      "alice was beginni \"\n",
      "n\n"
     ]
    }
   ],
   "source": [
    "print(\"\\\"\", ''.join([int_to_char[value] for value in dataX[1]]), \"\\\"\")\n",
    "print(int_to_char[dataY[1]])"
   ]
  },
  {
   "cell_type": "code",
   "execution_count": 11,
   "metadata": {},
   "outputs": [
    {
     "name": "stdout",
     "output_type": "stream",
     "text": [
      "\" pter i. down the rabbit-hole\n",
      "\n",
      "alice was beginning  \"\n",
      "t\n"
     ]
    }
   ],
   "source": [
    "print(\"\\\"\", ''.join([int_to_char[value] for value in dataX[4]]), \"\\\"\")\n",
    "print(int_to_char[dataY[4]])"
   ]
  },
  {
   "cell_type": "markdown",
   "metadata": {},
   "source": [
    "### Reshaping the sequences to become timesteps into the LSTM"
   ]
  },
  {
   "cell_type": "code",
   "execution_count": 12,
   "metadata": {},
   "outputs": [
    {
     "name": "stdout",
     "output_type": "stream",
     "text": [
      "(144293, 50, 1)\n"
     ]
    }
   ],
   "source": [
    "# reshape X to be [samples, time steps, features]\n",
    "X = np.reshape(dataX, (n_patterns, seq_length, 1))\n",
    "print(X.shape)\n",
    "\n",
    "# normalize\n",
    "X = X / float(n_vocab)"
   ]
  },
  {
   "cell_type": "code",
   "execution_count": 13,
   "metadata": {},
   "outputs": [
    {
     "name": "stdout",
     "output_type": "stream",
     "text": [
      "[[ 0.97727273]\n",
      " [ 0.43181818]\n",
      " [ 0.54545455]\n",
      " [ 0.38636364]\n",
      " [ 0.72727273]\n",
      " [ 0.81818182]\n",
      " [ 0.47727273]\n",
      " [ 0.77272727]\n",
      " [ 0.02272727]\n",
      " [ 0.56818182]]\n",
      "25\n"
     ]
    }
   ],
   "source": [
    "print(X[0][:10])\n",
    "print(dataY[0])"
   ]
  },
  {
   "cell_type": "code",
   "execution_count": 14,
   "metadata": {
    "collapsed": true
   },
   "outputs": [],
   "source": [
    "# one hot encode the output variable\n",
    "y = np_utils.to_categorical(dataY)"
   ]
  },
  {
   "cell_type": "code",
   "execution_count": 15,
   "metadata": {},
   "outputs": [
    {
     "name": "stdout",
     "output_type": "stream",
     "text": [
      "[[ 0.97727273]\n",
      " [ 0.43181818]\n",
      " [ 0.54545455]\n",
      " [ 0.38636364]\n",
      " [ 0.72727273]\n",
      " [ 0.81818182]\n",
      " [ 0.47727273]\n",
      " [ 0.77272727]\n",
      " [ 0.02272727]\n",
      " [ 0.56818182]]\n",
      "[ 0.  0.  0.  0.  0.  0.  0.  0.  0.  0.  0.  0.  0.  0.  0.  0.  0.  0.\n",
      "  0.  0.  0.  0.  0.  0.  0.  1.  0.  0.  0.  0.  0.  0.  0.  0.  0.  0.\n",
      "  0.  0.  0.  0.  0.  0.  0.]\n"
     ]
    }
   ],
   "source": [
    "print(X[0][:10])\n",
    "print(y[0])"
   ]
  },
  {
   "cell_type": "markdown",
   "metadata": {},
   "source": [
    "## Creating our model\n",
    "\n",
    "We will use the return sequences = true to pass the sequence up to the 2nd LSTM"
   ]
  },
  {
   "cell_type": "code",
   "execution_count": 16,
   "metadata": {},
   "outputs": [
    {
     "name": "stdout",
     "output_type": "stream",
     "text": [
      "our input shape is  (50, 1)\n"
     ]
    }
   ],
   "source": [
    "# define the input shape\n",
    "inp = Input(shape=(X.shape[1], X.shape[2]))\n",
    "print('our input shape is ',(X.shape[1], X.shape[2]) )"
   ]
  },
  {
   "cell_type": "code",
   "execution_count": 17,
   "metadata": {
    "collapsed": true
   },
   "outputs": [],
   "source": [
    "#x = LSTM(256, return_sequences = True)(inp) \n",
    "#x = Dropout(0.2)(x)\n",
    "x = LSTM(256)(inp)\n",
    "x = Dropout(0.2)(x)\n",
    "output = Dense(y.shape[1], activation ='softmax')(x)"
   ]
  },
  {
   "cell_type": "code",
   "execution_count": 18,
   "metadata": {
    "collapsed": true
   },
   "outputs": [],
   "source": [
    "generative_model = Model(inputs = inp, outputs=output )"
   ]
  },
  {
   "cell_type": "code",
   "execution_count": 19,
   "metadata": {
    "collapsed": true
   },
   "outputs": [],
   "source": [
    "optimizer = RMSprop(lr=0.01)\n",
    "generative_model.compile(loss='categorical_crossentropy', optimizer='adam')"
   ]
  },
  {
   "cell_type": "code",
   "execution_count": 20,
   "metadata": {
    "collapsed": true
   },
   "outputs": [],
   "source": [
    "# define the checkpoint\n",
    "filepath=\"checkpoints/weights-improvement-{epoch:02d}-{loss:.4f}-gentext-CharRNN-simple.hdf5\"\n",
    "checkpoint = ModelCheckpoint(filepath, monitor='loss', verbose=1, save_best_only=True, mode='min')\n",
    "callbacks_list = [checkpoint]"
   ]
  },
  {
   "cell_type": "code",
   "execution_count": 21,
   "metadata": {},
   "outputs": [
    {
     "name": "stdout",
     "output_type": "stream",
     "text": [
      "Epoch 1/10\n",
      "144192/144293 [============================>.] - ETA: 0s - loss: 2.9132Epoch 00000: loss improved from inf to 2.91300, saving model to checkpoints/weights-improvement-00-2.9130-gentext-CharRNN-simple.hdf5\n",
      "144293/144293 [==============================] - 76s - loss: 2.9130    \n",
      "Epoch 2/10\n",
      "144192/144293 [============================>.] - ETA: 0s - loss: 2.6934Epoch 00001: loss improved from 2.91300 to 2.69338, saving model to checkpoints/weights-improvement-01-2.6934-gentext-CharRNN-simple.hdf5\n",
      "144293/144293 [==============================] - 76s - loss: 2.6934    \n",
      "Epoch 3/10\n",
      "144192/144293 [============================>.] - ETA: 0s - loss: 2.5832Epoch 00002: loss improved from 2.69338 to 2.58321, saving model to checkpoints/weights-improvement-02-2.5832-gentext-CharRNN-simple.hdf5\n",
      "144293/144293 [==============================] - 76s - loss: 2.5832    \n",
      "Epoch 4/10\n",
      "144192/144293 [============================>.] - ETA: 0s - loss: 2.4995Epoch 00003: loss improved from 2.58321 to 2.49943, saving model to checkpoints/weights-improvement-03-2.4994-gentext-CharRNN-simple.hdf5\n",
      "144293/144293 [==============================] - 76s - loss: 2.4994    \n",
      "Epoch 5/10\n",
      "144192/144293 [============================>.] - ETA: 0s - loss: 2.4247Epoch 00004: loss improved from 2.49943 to 2.42470, saving model to checkpoints/weights-improvement-04-2.4247-gentext-CharRNN-simple.hdf5\n",
      "144293/144293 [==============================] - 76s - loss: 2.4247    \n",
      "Epoch 6/10\n",
      "144192/144293 [============================>.] - ETA: 0s - loss: 2.3568Epoch 00005: loss improved from 2.42470 to 2.35672, saving model to checkpoints/weights-improvement-05-2.3567-gentext-CharRNN-simple.hdf5\n",
      "144293/144293 [==============================] - 76s - loss: 2.3567    \n",
      "Epoch 7/10\n",
      "144192/144293 [============================>.] - ETA: 0s - loss: 2.2953Epoch 00006: loss improved from 2.35672 to 2.29534, saving model to checkpoints/weights-improvement-06-2.2953-gentext-CharRNN-simple.hdf5\n",
      "144293/144293 [==============================] - 76s - loss: 2.2953    \n",
      "Epoch 8/10\n",
      "144192/144293 [============================>.] - ETA: 0s - loss: 2.2385Epoch 00007: loss improved from 2.29534 to 2.23843, saving model to checkpoints/weights-improvement-07-2.2384-gentext-CharRNN-simple.hdf5\n",
      "144293/144293 [==============================] - 76s - loss: 2.2384    \n",
      "Epoch 9/10\n",
      "144192/144293 [============================>.] - ETA: 0s - loss: 2.1832Epoch 00008: loss improved from 2.23843 to 2.18316, saving model to checkpoints/weights-improvement-08-2.1832-gentext-CharRNN-simple.hdf5\n",
      "144293/144293 [==============================] - 76s - loss: 2.1832    \n",
      "Epoch 10/10\n",
      "144192/144293 [============================>.] - ETA: 0s - loss: 2.1357Epoch 00009: loss improved from 2.18316 to 2.13581, saving model to checkpoints/weights-improvement-09-2.1358-gentext-CharRNN-simple.hdf5\n",
      "144293/144293 [==============================] - 76s - loss: 2.1358    \n"
     ]
    },
    {
     "data": {
      "text/plain": [
       "<keras.callbacks.History at 0x7fa7cf7f9be0>"
      ]
     },
     "execution_count": 21,
     "metadata": {},
     "output_type": "execute_result"
    }
   ],
   "source": [
    "generative_model.fit(X, y, epochs=10, batch_size=64, callbacks=callbacks_list)"
   ]
  },
  {
   "cell_type": "code",
   "execution_count": 22,
   "metadata": {
    "collapsed": true
   },
   "outputs": [],
   "source": [
    "generative_model.save('Text_gen_01-CharRNN_no_embedding-simple')"
   ]
  },
  {
   "cell_type": "code",
   "execution_count": 23,
   "metadata": {},
   "outputs": [
    {
     "name": "stdout",
     "output_type": "stream",
     "text": [
      "Epoch 1/10\n",
      "144192/144293 [============================>.] - ETA: 0s - loss: 2.0871Epoch 00000: loss improved from 2.13581 to 2.08702, saving model to checkpoints/weights-improvement-00-2.0870-gentext-CharRNN-simple.hdf5\n",
      "144293/144293 [==============================] - 76s - loss: 2.0870    \n",
      "Epoch 2/10\n",
      "144192/144293 [============================>.] - ETA: 0s - loss: 2.0458Epoch 00001: loss improved from 2.08702 to 2.04559, saving model to checkpoints/weights-improvement-01-2.0456-gentext-CharRNN-simple.hdf5\n",
      "144293/144293 [==============================] - 76s - loss: 2.0456    \n",
      "Epoch 3/10\n",
      "144192/144293 [============================>.] - ETA: 0s - loss: 1.9993Epoch 00002: loss improved from 2.04559 to 1.99944, saving model to checkpoints/weights-improvement-02-1.9994-gentext-CharRNN-simple.hdf5\n",
      "144293/144293 [==============================] - 76s - loss: 1.9994    \n",
      "Epoch 4/10\n",
      "144192/144293 [============================>.] - ETA: 0s - loss: 1.9664Epoch 00003: loss improved from 1.99944 to 1.96627, saving model to checkpoints/weights-improvement-03-1.9663-gentext-CharRNN-simple.hdf5\n",
      "144293/144293 [==============================] - 76s - loss: 1.9663    \n",
      "Epoch 5/10\n",
      "144192/144293 [============================>.] - ETA: 0s - loss: 1.9310Epoch 00004: loss improved from 1.96627 to 1.93102, saving model to checkpoints/weights-improvement-04-1.9310-gentext-CharRNN-simple.hdf5\n",
      "144293/144293 [==============================] - 75s - loss: 1.9310    \n",
      "Epoch 6/10\n",
      "144192/144293 [============================>.] - ETA: 0s - loss: 1.9014Epoch 00005: loss improved from 1.93102 to 1.90147, saving model to checkpoints/weights-improvement-05-1.9015-gentext-CharRNN-simple.hdf5\n",
      "144293/144293 [==============================] - 75s - loss: 1.9015    \n",
      "Epoch 7/10\n",
      "144192/144293 [============================>.] - ETA: 0s - loss: 1.8684Epoch 00006: loss improved from 1.90147 to 1.86852, saving model to checkpoints/weights-improvement-06-1.8685-gentext-CharRNN-simple.hdf5\n",
      "144293/144293 [==============================] - 75s - loss: 1.8685    \n",
      "Epoch 8/10\n",
      "144192/144293 [============================>.] - ETA: 0s - loss: 1.8413Epoch 00007: loss improved from 1.86852 to 1.84152, saving model to checkpoints/weights-improvement-07-1.8415-gentext-CharRNN-simple.hdf5\n",
      "144293/144293 [==============================] - 75s - loss: 1.8415    \n",
      "Epoch 9/10\n",
      "144192/144293 [============================>.] - ETA: 0s - loss: 1.8171Epoch 00008: loss improved from 1.84152 to 1.81702, saving model to checkpoints/weights-improvement-08-1.8170-gentext-CharRNN-simple.hdf5\n",
      "144293/144293 [==============================] - 75s - loss: 1.8170    \n",
      "Epoch 10/10\n",
      "144192/144293 [============================>.] - ETA: 0s - loss: 1.7960Epoch 00009: loss improved from 1.81702 to 1.79615, saving model to checkpoints/weights-improvement-09-1.7962-gentext-CharRNN-simple.hdf5\n",
      "144293/144293 [==============================] - 75s - loss: 1.7962    \n"
     ]
    },
    {
     "data": {
      "text/plain": [
       "<keras.callbacks.History at 0x7fa7dca3e2b0>"
      ]
     },
     "execution_count": 23,
     "metadata": {},
     "output_type": "execute_result"
    }
   ],
   "source": [
    "generative_model.fit(X, y, epochs=10, batch_size=64, callbacks=callbacks_list)"
   ]
  },
  {
   "cell_type": "code",
   "execution_count": 24,
   "metadata": {
    "collapsed": true
   },
   "outputs": [],
   "source": [
    "generative_model.save('Text_gen_01-CharRNN_no_embedding-simple')"
   ]
  },
  {
   "cell_type": "code",
   "execution_count": 25,
   "metadata": {
    "collapsed": true
   },
   "outputs": [],
   "source": [
    "#generative_model = load_model('Text_gen_01_no_embedding')"
   ]
  },
  {
   "cell_type": "code",
   "execution_count": 26,
   "metadata": {},
   "outputs": [
    {
     "name": "stdout",
     "output_type": "stream",
     "text": [
      "Total Characters:  144343\n",
      "Total Vocab:  44\n"
     ]
    }
   ],
   "source": [
    "# create mapping of unique chars to integers, and a reverse mapping\n",
    "chars = sorted(list(set(raw_text)))\n",
    "char_to_int = dict((c, i) for i, c in enumerate(chars))\n",
    "int_to_char = dict((i, c) for i, c in enumerate(chars))\n",
    "\n",
    "# summarize the loaded data\n",
    "n_chars = len(raw_text)\n",
    "n_vocab = len(chars)\n",
    "print(\"Total Characters: \", n_chars)\n",
    "print(\"Total Vocab: \", n_vocab)"
   ]
  },
  {
   "cell_type": "code",
   "execution_count": 27,
   "metadata": {},
   "outputs": [
    {
     "name": "stdout",
     "output_type": "stream",
     "text": [
      "[30, 20, 1, 37, 30, 36, 39, 25, 35, 36, 1, 25, 36, 10, 1, 17, 22, 36, 21, 34, 1, 17, 1, 39, 24, 25, 28, 21, 1, 35, 24, 21, 0, 34, 21, 29, 21, 29, 18, 21, 34, 21, 20, 1, 36, 24, 17, 36, 1, 35]\n",
      "Seed pattern:\n",
      "\" nd untwist it. after a while she\n",
      "remembered that s \"\n"
     ]
    }
   ],
   "source": [
    "# pick a random seed\n",
    "start = np.random.randint(0, len(dataX)-1)\n",
    "pattern = dataX[start]\n",
    "seed = dataX[start]\n",
    "print(pattern)\n",
    "print(\"Seed pattern:\")\n",
    "print(\"\\\"\", ''.join([int_to_char[value] for value in pattern]), \"\\\"\")"
   ]
  },
  {
   "cell_type": "code",
   "execution_count": 28,
   "metadata": {},
   "outputs": [
    {
     "name": "stdout",
     "output_type": "stream",
     "text": [
      "\n",
      "Done.\n"
     ]
    }
   ],
   "source": [
    "generated_text = []\n",
    "\n",
    "# generate characters\n",
    "for i in range(100):\n",
    "    x = np.reshape(pattern, (1, len(pattern), 1))\n",
    "    x = x / float(n_vocab)\n",
    "    prediction = generative_model.predict(x, verbose=0)\n",
    "    index = np.argmax(prediction)\n",
    "    result = int_to_char[index]\n",
    "    seq_in = [int_to_char[value] for value in pattern]\n",
    "    pattern.append(index)\n",
    "    generated_text.append(index)\n",
    "    pattern = pattern[1:len(pattern)]\n",
    "print(\"\\nDone.\")"
   ]
  },
  {
   "cell_type": "code",
   "execution_count": 29,
   "metadata": {},
   "outputs": [
    {
     "name": "stdout",
     "output_type": "stream",
     "text": [
      "[18, 17, 37, 36, 21, 1, 36, 24, 21, 1, 24, 31, 34, 35, 21, 1, 39, 17, 35, 1, 35, 24, 21, 1, 39, 17, 35, 1, 35, 31, 25, 1, 36, 25, 34, 21, 1, 36, 24, 21, 1, 39, 24, 35, 36, 1, 35, 17, 34, 1]\n",
      "\" nd untwist it. after a while she\n",
      "remembered that sh \"\n",
      "\" he was no thee th the whrl shye the was toinking abaute the horse was she was soi tire the whst sar  \"\n"
     ]
    }
   ],
   "source": [
    "print(pattern)\n",
    "print(\"\\\"\", ''.join([int_to_char[value] for value in seed]), \"\\\"\")\n",
    "print(\"\\\"\", ''.join([int_to_char[value] for value in generated_text]), \"\\\"\")"
   ]
  },
  {
   "cell_type": "code",
   "execution_count": 30,
   "metadata": {},
   "outputs": [
    {
     "name": "stdout",
     "output_type": "stream",
     "text": [
      "[21, 1, 35, 17, 29, 10, 1, 4, 1, 0, 4, 36, 24, 21, 1, 35, 25, 29, 21, 1, 36, 24, 21, 1, 29, 17, 40, 36, 21, 34, 1, 39, 17, 34, 1, 17, 1, 29, 25, 36, 36, 28, 21, 1, 17, 25, 36, 8, 4, 1]\n",
      "\" nd untwist it. after a while she\n",
      "remembered that sh \"\n",
      "\" ofating an in lo hn an in eiong on the temte on the sam. ' \n",
      "'the sime the maxter war a mittle ait,'  \"\n"
     ]
    }
   ],
   "source": [
    "generated_text = []\n",
    "\n",
    "# generate characters\n",
    "for i in range(100):\n",
    "    x = np.reshape(pattern, (1, len(pattern), 1))\n",
    "    x = x / float(n_vocab)\n",
    "    prediction = generative_model.predict(x, verbose=0)\n",
    "    index = np.argmax(prediction)\n",
    "    result = int_to_char[index]\n",
    "    seq_in = [int_to_char[value] for value in pattern]\n",
    "    pattern.append(index)\n",
    "    generated_text.append(index)\n",
    "    pattern = pattern[1:len(pattern)]\n",
    "print(pattern)\n",
    "print(\"\\\"\", ''.join([int_to_char[value] for value in seed]), \"\\\"\")\n",
    "print(\"\\\"\", ''.join([int_to_char[value] for value in generated_text]), \"\\\"\")"
   ]
  },
  {
   "cell_type": "code",
   "execution_count": 31,
   "metadata": {},
   "outputs": [
    {
     "name": "stdout",
     "output_type": "stream",
     "text": [
      "[21, 21, 1, 24, 17, 34, 21, 21, 34, 8, 1, 39, 24, 21, 1, 24, 17, 36, 36, 21, 34, 1, 39, 17, 35, 1, 36, 24, 21, 1, 22, 17, 34, 36, 21, 34, 8, 1, 17, 30, 20, 1, 36, 24, 21, 1, 39, 24, 34, 36]\n",
      "\" nd untwist it. after a while she\n",
      "remembered that sh \"\n",
      "\" said alice, ''whll in sae sfmtert,' said alice. ''whll io sase'' said the caterpillar.\n",
      "\n",
      "'well, i shanl heve your mave youl mo,  she macci hare aglan a gittlls of the gad tuiee her ined th the thate oabrirg hn a linute of the ladte oatter and lare on the taale, and the whrt hardey so be a lortle shing so her hn a loeen tone. ''lakd the mart ri tha bir here the ragt of the samts on the samd bel, 'no that ds wat a little brere't thick tay th the karee hareer, whe hatter was the farter, and the whrt \"\n"
     ]
    }
   ],
   "source": [
    "generated_text = []\n",
    "\n",
    "# generate characters\n",
    "for i in range(500):\n",
    "    x = np.reshape(pattern, (1, len(pattern), 1))\n",
    "    x = x / float(n_vocab)\n",
    "    prediction = generative_model.predict(x, verbose=0)\n",
    "    index = np.argmax(prediction)\n",
    "    result = int_to_char[index]\n",
    "    seq_in = [int_to_char[value] for value in pattern]\n",
    "    pattern.append(index)\n",
    "    generated_text.append(index)\n",
    "    pattern = pattern[1:len(pattern)]\n",
    "print(pattern)\n",
    "print(\"\\\"\", ''.join([int_to_char[value] for value in seed]), \"\\\"\")\n",
    "print(\"\\\"\", ''.join([int_to_char[value] for value in generated_text]), \"\\\"\")"
   ]
  },
  {
   "cell_type": "code",
   "execution_count": null,
   "metadata": {
    "collapsed": true
   },
   "outputs": [],
   "source": []
  }
 ],
 "metadata": {
  "kernelspec": {
   "display_name": "Python 3",
   "language": "python",
   "name": "python3"
  },
  "language_info": {
   "codemirror_mode": {
    "name": "ipython",
    "version": 3
   },
   "file_extension": ".py",
   "mimetype": "text/x-python",
   "name": "python",
   "nbconvert_exporter": "python",
   "pygments_lexer": "ipython3",
   "version": "3.5.3"
  }
 },
 "nbformat": 4,
 "nbformat_minor": 2
}
